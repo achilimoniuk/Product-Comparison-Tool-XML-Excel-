{
 "cells": [
  {
   "cell_type": "code",
   "execution_count": 3,
   "metadata": {},
   "outputs": [],
   "source": [
    "from lxml import etree\n",
    "import pandas as pd\n",
    "from tqdm import tqdm\n",
    "import os\n"
   ]
  },
  {
   "cell_type": "code",
   "execution_count": 25,
   "metadata": {},
   "outputs": [],
   "source": [
    "#setup\n",
    "path = 'OneDrive_2_19-04-2023'\n",
    "excel_crm = 'source_data/templates/2023-04 17 CRM_Contract_Conversion_Template_v0.4.xlsx'\n",
    "excel_nmd = 'source_data/templates/2023-04-17 NMD_Contract_Conversion_Template_v0.4.xlsx'\n",
    "header = 'Contract Header'\n",
    "program_static = 'Price Program - Static'\n",
    "program_tiered = 'Price Prog - Static-Tiered'\n",
    "sheet_name_rem = 'Contract Header'\n",
    "rebate = 'Rebate Prog'\n",
    "\n",
    "pricing_crm = 'source_data/pricing/2023-04-13 CRM SalesDeal-CRM-ZVSLSDLDL-2023-04-13.csv'\n",
    "pricing_nmd = 'source_data/pricing/2023-04-13 NMD SalesDeal-NMD-2023-04-14.csv'\n",
    "remove = '2023-03-31_PRD_DEL.xlsx'\n",
    "remove = pd.read_excel(f'{path}/{remove}')\n",
    "#remove = '2023-03-31_PRD_DEL.xlsx'"
   ]
  },
  {
   "cell_type": "code",
   "execution_count": 78,
   "metadata": {},
   "outputs": [
    {
     "name": "stderr",
     "output_type": "stream",
     "text": [
      "/Library/Frameworks/Python.framework/Versions/3.9/lib/python3.9/site-packages/openpyxl/worksheet/_reader.py:312: UserWarning: Data Validation extension is not supported and will be removed\n",
      "  warn(msg)\n",
      "/Library/Frameworks/Python.framework/Versions/3.9/lib/python3.9/site-packages/openpyxl/worksheet/_reader.py:312: UserWarning: Data Validation extension is not supported and will be removed\n",
      "  warn(msg)\n"
     ]
    }
   ],
   "source": [
    "program_rebate = 'Rebate Prog'\n",
    "excel_crm = 'source_data/templates/2023-04 17 CRM_Contract_Conversion_Template_v0.4.xlsx'\n",
    "excel_nmd = 'source_data/templates/2023-04-17 NMD_Contract_Conversion_Template_v0.4.xlsx'\n",
    "# program static\n",
    "crm_rebate= pd.read_excel(f'{path}/{excel_crm}', header = 2, sheet_name=f'{program_rebate}')\n",
    "nmd_rebate = pd.read_excel(f'{path}/{excel_nmd}', header = 2, sheet_name=f'{program_rebate}')\n"
   ]
  },
  {
   "cell_type": "code",
   "execution_count": 26,
   "metadata": {},
   "outputs": [
    {
     "name": "stderr",
     "output_type": "stream",
     "text": [
      "/Library/Frameworks/Python.framework/Versions/3.9/lib/python3.9/site-packages/openpyxl/worksheet/_reader.py:312: UserWarning: Data Validation extension is not supported and will be removed\n",
      "  warn(msg)\n",
      "/Library/Frameworks/Python.framework/Versions/3.9/lib/python3.9/site-packages/openpyxl/worksheet/_reader.py:312: UserWarning: Data Validation extension is not supported and will be removed\n",
      "  warn(msg)\n",
      "/Library/Frameworks/Python.framework/Versions/3.9/lib/python3.9/site-packages/openpyxl/worksheet/_reader.py:312: UserWarning: Data Validation extension is not supported and will be removed\n",
      "  warn(msg)\n",
      "/Library/Frameworks/Python.framework/Versions/3.9/lib/python3.9/site-packages/openpyxl/worksheet/_reader.py:312: UserWarning: Data Validation extension is not supported and will be removed\n",
      "  warn(msg)\n",
      "/Library/Frameworks/Python.framework/Versions/3.9/lib/python3.9/site-packages/openpyxl/worksheet/_reader.py:312: UserWarning: Data Validation extension is not supported and will be removed\n",
      "  warn(msg)\n",
      "/Library/Frameworks/Python.framework/Versions/3.9/lib/python3.9/site-packages/openpyxl/worksheet/_reader.py:312: UserWarning: Data Validation extension is not supported and will be removed\n",
      "  warn(msg)\n",
      "/Library/Frameworks/Python.framework/Versions/3.9/lib/python3.9/site-packages/openpyxl/worksheet/_reader.py:312: UserWarning: Data Validation extension is not supported and will be removed\n",
      "  warn(msg)\n",
      "/var/folders/b3/52rfzyl51kv8hp5lk3vw_b6m0000gn/T/ipykernel_1453/43555155.py:17: DtypeWarning: Columns (0,1,10) have mixed types. Specify dtype option on import or set low_memory=False.\n",
      "  pricing_nmd = pd.read_csv(f'{path}/{pricing_nmd}')\n"
     ]
    }
   ],
   "source": [
    "# contract header\n",
    "crm_header = pd.read_excel(f'{path}/{excel_crm}', header = 2, sheet_name=f'{header}')\n",
    "nmd_header = pd.read_excel(f'{path}/{excel_nmd}', header = 2, sheet_name=f'{header}')\n",
    "\n",
    "# program static\n",
    "crm_static = pd.read_excel(f'{path}/{excel_crm}', header = 2, sheet_name=f'{program_static}')\n",
    "nmd_static = pd.read_excel(f'{path}/{excel_nmd}', header = 2, sheet_name=f'{program_static}')\n",
    "\n",
    "# program static\n",
    "crm_tiered= pd.read_excel(f'{path}/{excel_crm}', header = 2, sheet_name=f'{program_tiered}')\n",
    "nmd_tiered = pd.read_excel(f'{path}/{excel_nmd}', header = 2, sheet_name=f'{program_tiered}')\n",
    "\n",
    "# Rebate\n",
    "crm_rebate = pd.read_excel(f'{path}/{excel_crm}', header = 2, sheet_name=f'{rebate}')\n",
    "\n",
    "pricing_crm = pd.read_csv(f'{path}/{pricing_crm}')\n",
    "pricing_nmd = pd.read_csv(f'{path}/{pricing_nmd}')\n",
    "\n",
    "#remove = pd.read_excel(f'{path}/{remove}')"
   ]
  },
  {
   "cell_type": "code",
   "execution_count": 42,
   "metadata": {},
   "outputs": [
    {
     "name": "stderr",
     "output_type": "stream",
     "text": [
      "/var/folders/b3/52rfzyl51kv8hp5lk3vw_b6m0000gn/T/ipykernel_1453/3405298310.py:2: DtypeWarning: Columns (1,2,11,21,22,23) have mixed types. Specify dtype option on import or set low_memory=False.\n",
      "  pricing_both_after_check = pd.read_csv(f'{path}/pricinhg without removed.csv')\n"
     ]
    }
   ],
   "source": [
    "# opening csv\n",
    "pricing_both_after_check = pd.read_csv(f'{path}/pricinhg without removed.csv')"
   ]
  },
  {
   "cell_type": "code",
   "execution_count": null,
   "metadata": {},
   "outputs": [],
   "source": [
    "# removing products from log from excel\n",
    "#remove['ID'] = remove['ID'].astype('string')\n",
    "#remove = list(remove['ID'].drop_duplicates(keep='last'))"
   ]
  },
  {
   "cell_type": "code",
   "execution_count": null,
   "metadata": {},
   "outputs": [],
   "source": [
    "#############HEADER####################"
   ]
  },
  {
   "cell_type": "code",
   "execution_count": 27,
   "metadata": {},
   "outputs": [
    {
     "data": {
      "text/plain": [
       "80"
      ]
     },
     "execution_count": 27,
     "metadata": {},
     "output_type": "execute_result"
    }
   ],
   "source": [
    "# header- countract count\n",
    "crm_header = crm_header[1:]\n",
    "crm_header['Customer Contract ID'] = pd.to_numeric(crm_header['Customer Contract ID'])\n",
    "crm_header['Customer Contract ID'].nunique()"
   ]
  },
  {
   "cell_type": "code",
   "execution_count": 28,
   "metadata": {},
   "outputs": [
    {
     "data": {
      "text/plain": [
       "79"
      ]
     },
     "execution_count": 28,
     "metadata": {},
     "output_type": "execute_result"
    }
   ],
   "source": [
    "# header- countract count\n",
    "nmd_header = nmd_header[1:]\n",
    "nmd_header['Customer Contract ID'] = pd.to_numeric(nmd_header['Customer Contract ID'])\n",
    "nmd_header['Customer Contract ID'].nunique()"
   ]
  },
  {
   "cell_type": "code",
   "execution_count": null,
   "metadata": {},
   "outputs": [],
   "source": [
    "###########################SECOND TABLE: PRICE PROGRAMS: taking those that are in header, exclude products that were removed"
   ]
  },
  {
   "cell_type": "code",
   "execution_count": 29,
   "metadata": {},
   "outputs": [],
   "source": [
    "# removing contracts that are not in header\n",
    "crm_header['Customer Contract ID'] = crm_header['Customer Contract ID'].astype(float)\n",
    "crm_remove = list(crm_header['Customer Contract ID'].drop_duplicates(keep='last'))\n",
    "\n",
    "nmd_header['Customer Contract ID'] = nmd_header['Customer Contract ID'].astype(float)\n",
    "nmd_remove = list(nmd_header['Customer Contract ID'].drop_duplicates(keep='last'))"
   ]
  },
  {
   "cell_type": "code",
   "execution_count": 30,
   "metadata": {},
   "outputs": [],
   "source": [
    "# removing first row\n",
    "crm_static = crm_static[1:]\n",
    "crm_tiered = crm_tiered[1:]\n",
    "nmd_static = nmd_static[1:]\n",
    "nmd_tiered = nmd_tiered[1:]"
   ]
  },
  {
   "cell_type": "code",
   "execution_count": 31,
   "metadata": {},
   "outputs": [],
   "source": [
    "# dropping rows\n",
    "nmd_tiered.dropna(axis = 0, how = 'all', inplace = True)\n",
    "nmd_tiered.dropna(axis = 1, how = 'all', inplace = True)\n",
    "nmd_tiered =nmd_tiered[:-1]"
   ]
  },
  {
   "cell_type": "code",
   "execution_count": 32,
   "metadata": {},
   "outputs": [],
   "source": [
    "# Price programs crm\n",
    "crm_price_programs = pd.concat([crm_static, crm_tiered])\n",
    "crm_price_programs = crm_price_programs.reset_index(drop=True)"
   ]
  },
  {
   "cell_type": "code",
   "execution_count": 33,
   "metadata": {},
   "outputs": [],
   "source": [
    "# Price programs nmd\n",
    "nmd_price_programs = pd.concat([nmd_static, nmd_tiered])\n",
    "nmd_price_programs = nmd_price_programs.reset_index(drop=True)"
   ]
  },
  {
   "cell_type": "code",
   "execution_count": 35,
   "metadata": {},
   "outputs": [],
   "source": [
    "crm_price_programs['Customer Contract ID'] = pd.to_numeric(crm_price_programs['Customer Contract ID'])\n",
    "nmd_price_programs['Customer Contract ID'] = pd.to_numeric(nmd_price_programs['Customer Contract ID'])"
   ]
  },
  {
   "cell_type": "code",
   "execution_count": 36,
   "metadata": {},
   "outputs": [
    {
     "name": "stderr",
     "output_type": "stream",
     "text": [
      "100%|██████████| 91/91 [00:00<00:00, 9893.51it/s]\n"
     ]
    }
   ],
   "source": [
    "# removing contracts that are not in contract header\n",
    "for index in tqdm(crm_price_programs.index):\n",
    "    if crm_price_programs['Customer Contract ID'][index] not in crm_remove:\n",
    "        crm_price_programs.drop([index], axis=0, inplace=True)"
   ]
  },
  {
   "cell_type": "code",
   "execution_count": 39,
   "metadata": {},
   "outputs": [
    {
     "name": "stderr",
     "output_type": "stream",
     "text": [
      "100%|██████████| 89/89 [00:00<00:00, 53711.23it/s]\n"
     ]
    }
   ],
   "source": [
    "# removing contracts that are not in contract header\n",
    "for index in tqdm(nmd_price_programs.index):\n",
    "    if nmd_price_programs['Customer Contract ID'][index] not in nmd_remove:\n",
    "        nmd_price_programs.drop([index], axis=0, inplace=True)\n",
    "\n",
    "\n"
   ]
  },
  {
   "cell_type": "code",
   "execution_count": 44,
   "metadata": {},
   "outputs": [],
   "source": [
    "# splitting lists of sales deals into separate rows NMD\n",
    "nmd_price_programs['Sales Deal #']= nmd_price_programs['Sales Deal #'].astype(str)\n",
    "nmd_price_programs['Sales Deal #']  = nmd_price_programs['Sales Deal #'].apply(lambda x: x.split(','))\n",
    "nmd_price_programs = nmd_price_programs.explode('Sales Deal #')"
   ]
  },
  {
   "cell_type": "code",
   "execution_count": 47,
   "metadata": {},
   "outputs": [
    {
     "data": {
      "text/plain": [
       "Index(['Unnamed: 0', 'SeqNumber', 'SalesDeal', 'DealType', 'SalesOrg', 'DChan',\n",
       "       'Divi', 'Description', 'ValidFr', 'ValidTo', 'Curr', 'ExDesc',\n",
       "       'PromotionNo', 'CondType', 'Customer', 'PLevel', 'Material/PH', 'Rate',\n",
       "       'Per', 'Unit', 'Del', 'CustName', 'Customer Name', 'Product Line',\n",
       "       'Product No'],\n",
       "      dtype='object')"
      ]
     },
     "execution_count": 47,
     "metadata": {},
     "output_type": "execute_result"
    }
   ],
   "source": [
    "pricing_both_after_check.columns"
   ]
  },
  {
   "cell_type": "code",
   "execution_count": 51,
   "metadata": {},
   "outputs": [],
   "source": [
    "# joing nmd and pricing \n",
    "pricing_both_after_check['SalesDeal'] = pricing_both_after_check['SalesDeal'].astype(str)\n",
    "pricing_both_after_check['SalesDeal'] = pricing_both_after_check['SalesDeal'].str.replace('US', '')\n",
    "nmd_price_programs['Sales Deal #'] = pd.to_numeric(nmd_price_programs['Sales Deal #'])\n",
    "pricing_nmd['SalesDeal'] = pd.to_numeric(pricing_both_after_check['SalesDeal'])\n",
    "nmd_price_programs['Sales Deal #'] = nmd_price_programs['Sales Deal #'].astype(int)\n",
    "pricing_both_after_check['SalesDeal'] = pricing_both_after_check['SalesDeal'].astype(int)\n",
    "sales_nmd= pd.merge(pricing_both_after_check,nmd_price_programs, left_on='SalesDeal', right_on='Sales Deal #', how='inner')\n"
   ]
  },
  {
   "cell_type": "code",
   "execution_count": 58,
   "metadata": {},
   "outputs": [],
   "source": [
    "# joing nmd and pricing \n",
    "crm_price_programs['Sales Deal #'] = pd.to_numeric(crm_price_programs['Sales Deal #'])\n",
    "pricing_crm['SalesDeal'] = pd.to_numeric(pricing_both_after_check['SalesDeal'])\n",
    "crm_price_programs['Sales Deal #'] = crm_price_programs['Sales Deal #'].astype(int)\n",
    "pricing_both_after_check['SalesDeal'] = pricing_both_after_check['SalesDeal'].astype(int)\n",
    "sales_crm= pd.merge(pricing_both_after_check,crm_price_programs, left_on='SalesDeal', right_on='Sales Deal #', how='inner')"
   ]
  },
  {
   "cell_type": "code",
   "execution_count": 60,
   "metadata": {},
   "outputs": [],
   "source": [
    "# last table\n",
    "sales_nmd_gr = sales_nmd.groupby([\n",
    "  #  'SalesDeal',\n",
    "'Customer Contract ID',\n",
    "'Price Program Name\\n(free form text)'\n",
    "]).size().reset_index(name='counts')\n",
    "sales_nmd_gr.to_excel('nmd_price_programs.xlsx')\n"
   ]
  },
  {
   "cell_type": "code",
   "execution_count": 64,
   "metadata": {},
   "outputs": [],
   "source": [
    "# last table\n",
    "sales_crm_gr = sales_crm.groupby([\n",
    "  #  'SalesDeal',\n",
    "'Customer Contract ID',\n",
    "'Price Program Name\\n(free form text)'\n",
    "]).size().reset_index(name='counts')\n",
    "sales_crm_gr.to_excel('crm_price_programs.xlsx')"
   ]
  },
  {
   "cell_type": "code",
   "execution_count": 61,
   "metadata": {},
   "outputs": [
    {
     "ename": "TypeError",
     "evalue": "'DataFrame' object is not callable",
     "output_type": "error",
     "traceback": [
      "\u001b[0;31m---------------------------------------------------------------------------\u001b[0m",
      "\u001b[0;31mTypeError\u001b[0m                                 Traceback (most recent call last)",
      "\u001b[1;32m/Users/agnieszka/Desktop/testy luty pk/kwiecien/county_templates.ipynb Cell 26\u001b[0m in \u001b[0;36m<cell line: 3>\u001b[0;34m()\u001b[0m\n\u001b[1;32m      <a href='vscode-notebook-cell:/Users/agnieszka/Desktop/testy%20luty%20pk/kwiecien/county_templates.ipynb#ch0000019?line=0'>1</a>\u001b[0m sales_nmd_gr_program \u001b[39m=\u001b[39m sales_nmd\u001b[39m.\u001b[39mgroupby(\u001b[39m'\u001b[39m\u001b[39mCustomer Contract ID\u001b[39m\u001b[39m'\u001b[39m)[\u001b[39m'\u001b[39m\u001b[39mPrice Program Name\u001b[39m\u001b[39m\\n\u001b[39;00m\u001b[39m(free form text)\u001b[39m\u001b[39m'\u001b[39m]\u001b[39m.\u001b[39mnunique()\n\u001b[1;32m      <a href='vscode-notebook-cell:/Users/agnieszka/Desktop/testy%20luty%20pk/kwiecien/county_templates.ipynb#ch0000019?line=1'>2</a>\u001b[0m sales_nmd_gr_program \u001b[39m=\u001b[39m pd\u001b[39m.\u001b[39mDataFrame(sales_nmd_gr_program)\n\u001b[0;32m----> <a href='vscode-notebook-cell:/Users/agnieszka/Desktop/testy%20luty%20pk/kwiecien/county_templates.ipynb#ch0000019?line=2'>3</a>\u001b[0m sales_nmd_gr_program(\u001b[39m'\u001b[39;49m\u001b[39msales_nmd_gr_program.xlsx\u001b[39;49m\u001b[39m'\u001b[39;49m)\n",
      "\u001b[0;31mTypeError\u001b[0m: 'DataFrame' object is not callable"
     ]
    }
   ],
   "source": [
    "# second table\n",
    "sales_nmd_gr_program = sales_nmd.groupby('Customer Contract ID')['Price Program Name\\n(free form text)'].nunique()\n",
    "sales_nmd_gr_program = pd.DataFrame(sales_nmd_gr_program)\n",
    "sales_nmd_gr_program.to_excel('sales_nmd_gr_program.xlsx')\n"
   ]
  },
  {
   "cell_type": "code",
   "execution_count": 66,
   "metadata": {},
   "outputs": [],
   "source": [
    "# second table\n",
    "sales_crm_gr_program = sales_crm.groupby('Customer Contract ID')['Price Program Name\\n(free form text)'].nunique()\n",
    "sales_crm_gr_program = pd.DataFrame(sales_crm_gr_program)\n",
    "sales_crm_gr_program.to_excel('sales_crm_gr_program.xlsx')"
   ]
  },
  {
   "cell_type": "code",
   "execution_count": 63,
   "metadata": {},
   "outputs": [],
   "source": [
    "###########################SECOND TABLE: REBUT PROGRAMS: taking those that are in header, without removed products"
   ]
  },
  {
   "cell_type": "code",
   "execution_count": 81,
   "metadata": {},
   "outputs": [
    {
     "name": "stderr",
     "output_type": "stream",
     "text": [
      "/Library/Frameworks/Python.framework/Versions/3.9/lib/python3.9/site-packages/openpyxl/worksheet/_reader.py:312: UserWarning: Data Validation extension is not supported and will be removed\n",
      "  warn(msg)\n",
      "/Library/Frameworks/Python.framework/Versions/3.9/lib/python3.9/site-packages/openpyxl/worksheet/_reader.py:312: UserWarning: Data Validation extension is not supported and will be removed\n",
      "  warn(msg)\n"
     ]
    }
   ],
   "source": [
    "program_rebate = 'Rebate Prog'\n",
    "excel_crm = 'source_data/templates/2023-04 17 CRM_Contract_Conversion_Template_v0.4.xlsx'\n",
    "excel_nmd = 'source_data/templates/2023-04-17 NMD_Contract_Conversion_Template_v0.4.xlsx'\n",
    "# program static\n",
    "crm_rebate= pd.read_excel(f'{path}/{excel_crm}', header = 2, sheet_name=f'{program_rebate}')\n",
    "nmd_rebate = pd.read_excel(f'{path}/{excel_nmd}', header = 2, sheet_name=f'{program_rebate}')\n"
   ]
  },
  {
   "cell_type": "code",
   "execution_count": 82,
   "metadata": {},
   "outputs": [],
   "source": [
    "# removing first row\n",
    "crm_rebate = crm_rebate[1:]\n",
    "nmd_rebate = nmd_rebate[1:]"
   ]
  },
  {
   "cell_type": "code",
   "execution_count": 83,
   "metadata": {},
   "outputs": [],
   "source": [
    "# splitting products  into separate rows \n",
    "crm_rebate['Products']= crm_rebate['Products'].astype(str)\n",
    "crm_rebate['Products']  = crm_rebate['Products'].apply(lambda x: x.split(','))\n",
    "crm_rebate = crm_rebate.explode('Products')"
   ]
  },
  {
   "cell_type": "code",
   "execution_count": 88,
   "metadata": {},
   "outputs": [],
   "source": [
    "nmd_rebate['Products']= nmd_rebate['Products'].astype(str)\n",
    "nmd_rebate['Products']  = nmd_rebate['Products'].apply(lambda x: x.split(','))\n",
    "nmd_rebate = nmd_rebate.explode('Products')"
   ]
  },
  {
   "cell_type": "code",
   "execution_count": 91,
   "metadata": {},
   "outputs": [],
   "source": [
    "crm_rebate['Customer Contract ID'] = pd.to_numeric(crm_rebate['Customer Contract ID'])\n",
    "nmd_rebate['Customer Contract ID'] = pd.to_numeric(nmd_rebate['Customer Contract ID'])"
   ]
  },
  {
   "cell_type": "code",
   "execution_count": 95,
   "metadata": {},
   "outputs": [],
   "source": [
    "nmd_rebate= nmd_rebate.reset_index(drop=True)\n",
    "crm_rebate= crm_rebate.reset_index(drop=True)"
   ]
  },
  {
   "cell_type": "code",
   "execution_count": 96,
   "metadata": {},
   "outputs": [
    {
     "name": "stderr",
     "output_type": "stream",
     "text": [
      "100%|██████████| 125/125 [00:00<00:00, 112822.90it/s]\n"
     ]
    }
   ],
   "source": [
    "# removing contracts that are not in contract header\n",
    "for index in tqdm(crm_rebate.index):\n",
    "    if crm_rebate['Customer Contract ID'][index] not in crm_remove:\n",
    "        crm_rebate.drop([index], axis=0, inplace=True)"
   ]
  },
  {
   "cell_type": "code",
   "execution_count": 98,
   "metadata": {},
   "outputs": [
    {
     "name": "stderr",
     "output_type": "stream",
     "text": [
      "100%|██████████| 128/128 [00:00<00:00, 186867.70it/s]\n"
     ]
    }
   ],
   "source": [
    "# removing contracts that are not in contract header\n",
    "for index in tqdm(nmd_rebate.index):\n",
    "    if nmd_rebate['Customer Contract ID'][index] not in nmd_remove:\n",
    "        nmd_rebate.drop([index], axis=0, inplace=True)"
   ]
  },
  {
   "cell_type": "code",
   "execution_count": 103,
   "metadata": {},
   "outputs": [],
   "source": [
    "# last table\n",
    "sales_crm_gr_rebate = crm_rebate.groupby([\n",
    "  #  'SalesDeal',\n",
    "'Customer Contract ID',\n",
    "'Program Name'\n",
    "]).size().reset_index(name='counts')\n",
    "sales_crm_gr_rebate .to_excel('crm_rebate_programs.xlsx')"
   ]
  },
  {
   "cell_type": "code",
   "execution_count": 104,
   "metadata": {},
   "outputs": [],
   "source": [
    "# last table\n",
    "sales_nmd_gr_rebate = nmd_rebate.groupby([\n",
    "  #  'SalesDeal',\n",
    "'Customer Contract ID',\n",
    "'Program Name'\n",
    "]).size().reset_index(name='counts')\n",
    "sales_nmd_gr_rebate .to_excel('nmd_rebate_programs.xlsx')"
   ]
  },
  {
   "cell_type": "code",
   "execution_count": 105,
   "metadata": {},
   "outputs": [],
   "source": [
    "# second table\n",
    "rebate_nmd_gr_program = nmd_rebate.groupby('Customer Contract ID')['Program Name'].nunique()\n",
    "rebate_nmd_gr_program  = pd.DataFrame(rebate_nmd_gr_program )\n",
    "rebate_nmd_gr_program .to_excel('rebate_nmd_gr_program.xlsx')\n"
   ]
  },
  {
   "cell_type": "code",
   "execution_count": 106,
   "metadata": {},
   "outputs": [],
   "source": [
    "# second table\n",
    "rebate_crm_gr_program = crm_rebate.groupby('Customer Contract ID')['Program Name'].nunique()\n",
    "rebate_crm_gr_program  = pd.DataFrame(rebate_crm_gr_program )\n",
    "rebate_crm_gr_program .to_excel('rebate_crm_gr_program.xlsx')"
   ]
  },
  {
   "cell_type": "code",
   "execution_count": null,
   "metadata": {},
   "outputs": [],
   "source": [
    "############################Commitements price-- taking those that are in price programs"
   ]
  },
  {
   "cell_type": "code",
   "execution_count": 108,
   "metadata": {},
   "outputs": [
    {
     "name": "stderr",
     "output_type": "stream",
     "text": [
      "/Library/Frameworks/Python.framework/Versions/3.9/lib/python3.9/site-packages/openpyxl/worksheet/_reader.py:312: UserWarning: Data Validation extension is not supported and will be removed\n",
      "  warn(msg)\n",
      "/Library/Frameworks/Python.framework/Versions/3.9/lib/python3.9/site-packages/openpyxl/worksheet/_reader.py:312: UserWarning: Data Validation extension is not supported and will be removed\n",
      "  warn(msg)\n"
     ]
    }
   ],
   "source": [
    "price_comm = 'Price Prog - Commitment'\n",
    "excel_crm = 'source_data/templates/2023-04 17 CRM_Contract_Conversion_Template_v0.4.xlsx'\n",
    "excel_nmd = 'source_data/templates/2023-04-17 NMD_Contract_Conversion_Template_v0.4.xlsx'\n",
    "# program static\n",
    "crm_price_comm= pd.read_excel(f'{path}/{excel_crm}', header = 2, sheet_name=f'{price_comm }')\n",
    "nmd_price_comm= pd.read_excel(f'{path}/{excel_nmd}', header = 2, sheet_name=f'{price_comm }')"
   ]
  },
  {
   "cell_type": "code",
   "execution_count": 110,
   "metadata": {},
   "outputs": [],
   "source": [
    "\n",
    "# removing first row\n",
    "crm_price_comm = crm_price_comm[1:]\n",
    "nmd_price_comm = nmd_price_comm[1:]"
   ]
  },
  {
   "cell_type": "code",
   "execution_count": 113,
   "metadata": {},
   "outputs": [
    {
     "name": "stderr",
     "output_type": "stream",
     "text": [
      "/var/folders/b3/52rfzyl51kv8hp5lk3vw_b6m0000gn/T/ipykernel_1453/3487018440.py:4: SettingWithCopyWarning: \n",
      "A value is trying to be set on a copy of a slice from a DataFrame.\n",
      "Try using .loc[row_indexer,col_indexer] = value instead\n",
      "\n",
      "See the caveats in the documentation: https://pandas.pydata.org/pandas-docs/stable/user_guide/indexing.html#returning-a-view-versus-a-copy\n",
      "  crm_price_comm['Customer Contract ID'] = pd.to_numeric(crm_price_comm['Customer Contract ID'])\n",
      "/var/folders/b3/52rfzyl51kv8hp5lk3vw_b6m0000gn/T/ipykernel_1453/3487018440.py:6: SettingWithCopyWarning: \n",
      "A value is trying to be set on a copy of a slice from a DataFrame.\n",
      "Try using .loc[row_indexer,col_indexer] = value instead\n",
      "\n",
      "See the caveats in the documentation: https://pandas.pydata.org/pandas-docs/stable/user_guide/indexing.html#returning-a-view-versus-a-copy\n",
      "  crm_price_comm['Customer Contract ID'] = crm_price_comm['Customer Contract ID'].astype(int)\n"
     ]
    }
   ],
   "source": [
    "\n",
    "# joing nmd and pricing \n",
    "sales_crm_gr['Customer Contract ID'] = pd.to_numeric(sales_crm_gr['Customer Contract ID'])\n",
    "crm_price_comm['Customer Contract ID'] = pd.to_numeric(crm_price_comm['Customer Contract ID'])\n",
    "sales_crm_gr['Customer Contract ID'] = sales_crm_gr['Customer Contract ID'].astype(int)\n",
    "crm_price_comm['Customer Contract ID'] = crm_price_comm['Customer Contract ID'].astype(int)\n",
    "sales_crm_comm= pd.merge(sales_crm_gr,crm_price_comm, left_on=['Customer Contract ID', 'Price Program Name\\n(free form text)'], right_on=['Customer Contract ID','Price Program Name'], how='inner')"
   ]
  },
  {
   "cell_type": "code",
   "execution_count": 116,
   "metadata": {},
   "outputs": [],
   "source": [
    "# joing nmd and pricing \n",
    "sales_nmd_gr['Customer Contract ID'] = pd.to_numeric(sales_nmd_gr['Customer Contract ID'])\n",
    "nmd_price_comm['Customer Contract ID'] = pd.to_numeric(nmd_price_comm['Customer Contract ID'])\n",
    "sales_nmd_gr['Customer Contract ID'] = sales_nmd_gr['Customer Contract ID'].astype(int)\n",
    "nmd_price_comm['Customer Contract ID'] = nmd_price_comm['Customer Contract ID'].astype(int)\n",
    "sales_nmd_comm= pd.merge(sales_nmd_gr,nmd_price_comm, left_on=['Customer Contract ID', 'Price Program Name\\n(free form text)'], right_on=['Customer Contract ID','Price Program Name'], how='inner')"
   ]
  },
  {
   "cell_type": "code",
   "execution_count": 117,
   "metadata": {},
   "outputs": [],
   "source": [
    "sales_crm_comm.to_excel('comm_crm_price.xlsx')\n",
    "sales_nmd_comm.to_excel('comm_nmd_price.xlsx')"
   ]
  },
  {
   "cell_type": "code",
   "execution_count": null,
   "metadata": {},
   "outputs": [],
   "source": [
    "##########################commitement rebate-- taking those that are in rebate programs"
   ]
  },
  {
   "cell_type": "code",
   "execution_count": 118,
   "metadata": {},
   "outputs": [
    {
     "name": "stderr",
     "output_type": "stream",
     "text": [
      "/Library/Frameworks/Python.framework/Versions/3.9/lib/python3.9/site-packages/openpyxl/worksheet/_reader.py:312: UserWarning: Data Validation extension is not supported and will be removed\n",
      "  warn(msg)\n",
      "/Library/Frameworks/Python.framework/Versions/3.9/lib/python3.9/site-packages/openpyxl/worksheet/_reader.py:312: UserWarning: Data Validation extension is not supported and will be removed\n",
      "  warn(msg)\n"
     ]
    }
   ],
   "source": [
    "rebate_comm = 'Rebate Prog - Commitment'\n",
    "excel_crm = 'source_data/templates/2023-04 17 CRM_Contract_Conversion_Template_v0.4.xlsx'\n",
    "excel_nmd = 'source_data/templates/2023-04-17 NMD_Contract_Conversion_Template_v0.4.xlsx'\n",
    "# program static\n",
    "crm_rebate_comm= pd.read_excel(f'{path}/{excel_crm}', header = 2, sheet_name=f'{rebate_comm }')\n",
    "nmd_rebate_comm= pd.read_excel(f'{path}/{excel_nmd}', header = 2, sheet_name=f'{rebate_comm }')"
   ]
  },
  {
   "cell_type": "code",
   "execution_count": 120,
   "metadata": {},
   "outputs": [],
   "source": [
    "\n",
    "# removing first row\n",
    "crm_rebate_comm = crm_rebate_comm[1:]\n",
    "nmd_rebate_comm = nmd_rebate_comm[1:]"
   ]
  },
  {
   "cell_type": "code",
   "execution_count": 124,
   "metadata": {},
   "outputs": [
    {
     "name": "stderr",
     "output_type": "stream",
     "text": [
      "/var/folders/b3/52rfzyl51kv8hp5lk3vw_b6m0000gn/T/ipykernel_1453/2669743376.py:3: SettingWithCopyWarning: \n",
      "A value is trying to be set on a copy of a slice from a DataFrame.\n",
      "Try using .loc[row_indexer,col_indexer] = value instead\n",
      "\n",
      "See the caveats in the documentation: https://pandas.pydata.org/pandas-docs/stable/user_guide/indexing.html#returning-a-view-versus-a-copy\n",
      "  crm_rebate_comm['Customer Contract ID'] = pd.to_numeric(crm_rebate_comm['Customer Contract ID'])\n",
      "/var/folders/b3/52rfzyl51kv8hp5lk3vw_b6m0000gn/T/ipykernel_1453/2669743376.py:5: SettingWithCopyWarning: \n",
      "A value is trying to be set on a copy of a slice from a DataFrame.\n",
      "Try using .loc[row_indexer,col_indexer] = value instead\n",
      "\n",
      "See the caveats in the documentation: https://pandas.pydata.org/pandas-docs/stable/user_guide/indexing.html#returning-a-view-versus-a-copy\n",
      "  crm_rebate_comm['Customer Contract ID'] = crm_rebate_comm['Customer Contract ID'].astype(int)\n"
     ]
    }
   ],
   "source": [
    "# joing nmd and pricing \n",
    "sales_crm_gr_rebate['Customer Contract ID'] = pd.to_numeric(sales_crm_gr_rebate['Customer Contract ID'])\n",
    "crm_rebate_comm['Customer Contract ID'] = pd.to_numeric(crm_rebate_comm['Customer Contract ID'])\n",
    "sales_crm_gr_rebate['Customer Contract ID'] = sales_crm_gr_rebate['Customer Contract ID'].astype(int)\n",
    "crm_rebate_comm['Customer Contract ID'] = crm_rebate_comm['Customer Contract ID'].astype(int)\n",
    "sales_crm_comm_rebate= pd.merge(sales_crm_gr_rebate,crm_rebate_comm, left_on=['Customer Contract ID', 'Program Name'], right_on=['Customer Contract ID','Committed Program Name'], how='inner')"
   ]
  },
  {
   "cell_type": "code",
   "execution_count": 126,
   "metadata": {},
   "outputs": [],
   "source": [
    "sales_crm_comm_rebate.to_excel('crm_rebate_comm.xlsx')"
   ]
  },
  {
   "cell_type": "code",
   "execution_count": 127,
   "metadata": {},
   "outputs": [],
   "source": [
    "# joing nmd and pricing \n",
    "sales_nmd_gr_rebate['Customer Contract ID'] = pd.to_numeric(sales_nmd_gr_rebate['Customer Contract ID'])\n",
    "nmd_rebate_comm['Customer Contract ID'] = pd.to_numeric(nmd_rebate_comm['Customer Contract ID'])\n",
    "sales_nmd_gr_rebate['Customer Contract ID'] = sales_nmd_gr_rebate['Customer Contract ID'].astype(int)\n",
    "nmd_rebate_comm['Customer Contract ID'] = nmd_rebate_comm['Customer Contract ID'].astype(int)\n",
    "sales_nmd_comm_rebate= pd.merge(sales_nmd_gr_rebate,nmd_rebate_comm, left_on=['Customer Contract ID', 'Program Name'], right_on=['Customer Contract ID','Committed Program Name'], how='inner')"
   ]
  },
  {
   "cell_type": "code",
   "execution_count": 129,
   "metadata": {},
   "outputs": [],
   "source": [
    "sales_nmd_comm_rebate.to_excel('nmd_rebate_comm.xlsx')"
   ]
  }
 ],
 "metadata": {
  "kernelspec": {
   "display_name": "Python 3.9.13 64-bit",
   "language": "python",
   "name": "python3"
  },
  "language_info": {
   "codemirror_mode": {
    "name": "ipython",
    "version": 3
   },
   "file_extension": ".py",
   "mimetype": "text/x-python",
   "name": "python",
   "nbconvert_exporter": "python",
   "pygments_lexer": "ipython3",
   "version": "3.9.13"
  },
  "orig_nbformat": 4,
  "vscode": {
   "interpreter": {
    "hash": "aee8b7b246df8f9039afb4144a1f6fd8d2ca17a180786b69acc140d282b71a49"
   }
  }
 },
 "nbformat": 4,
 "nbformat_minor": 2
}
