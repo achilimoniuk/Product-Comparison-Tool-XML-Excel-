{
 "cells": [
  {
   "cell_type": "code",
   "execution_count": 1,
   "metadata": {},
   "outputs": [],
   "source": [
    "from lxml import etree\n",
    "import pandas as pd\n",
    "from tqdm import tqdm\n",
    "import os\n",
    "\n"
   ]
  },
  {
   "cell_type": "code",
   "execution_count": 5,
   "metadata": {},
   "outputs": [],
   "source": [
    "#setup\n",
    "path = 'output_xml 2023-03-15 BR'\n",
    "xml_file = 'DFT_20230316-121715-All Contracts.xml'\n",
    "excel_file = '2023-03-15 BR MN Template for External Contracts - Service and Rental v1.9 - Brazil 2023-03-15.xlsx'\n",
    "#'2023-03-15 BR MN Template for External Contracts - Service and Rental v1.9 - Brazil 2023-03-15.xlsx'\n",
    "sheet_name = 'Service and Rental - TEMPLATE'\n",
    "#'Tiered Line Item - TEMPLATE'\n",
    "#\n",
    "\n",
    "#load_file = '2023-03-06 BR Load Results.xlsx'"
   ]
  },
  {
   "cell_type": "code",
   "execution_count": 6,
   "metadata": {},
   "outputs": [],
   "source": [
    "# Opening excel and xml file\n",
    "tree = etree.parse(f'{path}/{xml_file}')\n",
    "root=tree.getroot()\n",
    "excel = pd.read_excel(f'{path}/{excel_file}', header = 3, sheet_name=f'{sheet_name}')\n",
    "df_log = pd.read_csv(f'{path}/logs.csv', header=None)"
   ]
  },
  {
   "cell_type": "code",
   "execution_count": 7,
   "metadata": {},
   "outputs": [
    {
     "data": {
      "text/plain": [
       "0       02G3302\n",
       "1       02G3302\n",
       "2       03R6599\n",
       "3       03R6599\n",
       "4       01DL309\n",
       "         ...   \n",
       "1116    01DC279\n",
       "1117    01DL301\n",
       "1118    01DL601\n",
       "1119    02G3303\n",
       "1120    01DL602\n",
       "Name: Product ID, Length: 1121, dtype: object"
      ]
     },
     "execution_count": 7,
     "metadata": {},
     "output_type": "execute_result"
    }
   ],
   "source": [
    "excel[\"Product ID\"]"
   ]
  },
  {
   "cell_type": "code",
   "execution_count": 8,
   "metadata": {},
   "outputs": [
    {
     "name": "stderr",
     "output_type": "stream",
     "text": [
      "/var/folders/b3/52rfzyl51kv8hp5lk3vw_b6m0000gn/T/ipykernel_1313/2894553172.py:5: SettingWithCopyWarning: \n",
      "A value is trying to be set on a copy of a slice from a DataFrame.\n",
      "Try using .loc[row_indexer,col_indexer] = value instead\n",
      "\n",
      "See the caveats in the documentation: https://pandas.pydata.org/pandas-docs/stable/user_guide/indexing.html#returning-a-view-versus-a-copy\n",
      "  removed[['A', 'B']] = df_log['B'].str.split('_', 1, expand=True)\n",
      "/var/folders/b3/52rfzyl51kv8hp5lk3vw_b6m0000gn/T/ipykernel_1313/2894553172.py:8: SettingWithCopyWarning: \n",
      "A value is trying to be set on a copy of a slice from a DataFrame.\n",
      "Try using .loc[row_indexer,col_indexer] = value instead\n",
      "\n",
      "See the caveats in the documentation: https://pandas.pydata.org/pandas-docs/stable/user_guide/indexing.html#returning-a-view-versus-a-copy\n",
      "  removed['A'] = removed['A'].str.replace(\"-\", \"\")\n"
     ]
    }
   ],
   "source": [
    "# saving removed products as list\n",
    "df_log.columns=['t', 'd', 'a', 'c']\n",
    "df_log[['A', 'B']] = df_log['a'].str.split(': ', 1, expand=True)\n",
    "removed = df_log[['B']]\n",
    "removed[['A', 'B']] = df_log['B'].str.split('_', 1, expand=True)\n",
    "\n",
    "######## service and rental ########\n",
    "removed['A'] = removed['A'].str.replace(\"-\", \"\")\n",
    "\n",
    "removed = removed['A']\n",
    "removed = list(removed.drop_duplicates(keep='last'))"
   ]
  },
  {
   "cell_type": "code",
   "execution_count": 152,
   "metadata": {},
   "outputs": [
    {
     "data": {
      "text/plain": [
       "['09P27-97',\n",
       " '09P36-97',\n",
       " '09P38-97',\n",
       " '09P48-97',\n",
       " '09P92-97',\n",
       " '08P22-97',\n",
       " '01R06-97',\n",
       " '09P85-97',\n",
       " '09P34-97',\n",
       " '09P35-97',\n",
       " '09P39-97',\n",
       " '09P37-97',\n",
       " '04T75-97',\n",
       " '09P42-97',\n",
       " '09P21-97',\n",
       " '09P22-97',\n",
       " '09P20-97',\n",
       " '01R18-97',\n",
       " '07P58-97',\n",
       " '09P56-97',\n",
       " '09P57-97',\n",
       " '09P95-97',\n",
       " '09D28-97',\n",
       " '01R16-97',\n",
       " '09P61-97',\n",
       " '01R13-97',\n",
       " '09P63-97',\n",
       " '04Y85-97',\n",
       " '07P52-97',\n",
       " '08P52-97',\n",
       " '09P62-97',\n",
       " 'PPC',\n",
       " '09P19-97',\n",
       " '02G69-01',\n",
       " '02G49-07',\n",
       " '02P25-97',\n",
       " '02G55-21',\n",
       " '02G49-01',\n",
       " '02G49-04',\n",
       " '02G49-08',\n",
       " '02G61-24',\n",
       " '02G49-06',\n",
       " '02G49-11',\n",
       " '02G49-09',\n",
       " '06P09-97',\n",
       " '06P08-97',\n",
       " '06P07-97',\n",
       " '06P04-97',\n",
       " '06P06-97',\n",
       " '05N23-97',\n",
       " '07P79-97',\n",
       " '07P80-97',\n",
       " '09H62-97',\n",
       " '04J27-30',\n",
       " '04T86-30']"
      ]
     },
     "execution_count": 152,
     "metadata": {},
     "output_type": "execute_result"
    }
   ],
   "source": [
    "removed"
   ]
  },
  {
   "cell_type": "code",
   "execution_count": 9,
   "metadata": {},
   "outputs": [
    {
     "name": "stderr",
     "output_type": "stream",
     "text": [
      "100%|██████████| 1121/1121 [00:00<00:00, 176038.59it/s]\n"
     ]
    }
   ],
   "source": [
    "# removing products from log from excel\n",
    "for index in tqdm(excel.index):\n",
    "    if excel['Product ID'][index] in removed:\n",
    "        excel.drop([index], axis=0, inplace=True)"
   ]
  },
  {
   "cell_type": "code",
   "execution_count": 10,
   "metadata": {},
   "outputs": [],
   "source": [
    "# count of products\n",
    "excel_gr = excel.groupby(['Alternate Contract Id','Customer ID', \n",
    "'Price Program Name']).size().reset_index(name='counts')\n"
   ]
  },
  {
   "cell_type": "code",
   "execution_count": 43,
   "metadata": {},
   "outputs": [],
   "source": [
    "# Getting numbers and list with products\n",
    "number_contracts = 0\n",
    "number_lines = 0\n",
    "\n",
    "list_all_extended = []\n",
    "Contract = tree.xpath('.//ContractOffer')\n",
    "for contract in Contract:\n",
    "    number_contracts += 1\n",
    "    Program = contract.xpath('.//Program')\n",
    "    number_programs = 0\n",
    "    for program in Program:\n",
    "        number_programs += 1\n",
    "        Cfd = program.xpath('.//CFDefinitionSpreadSheets')\n",
    "        number_products = 0\n",
    "        # #tierdli\n",
    "        # if program.attrib['SourceStrategyID'] == 'AbbottTieredLineItemPricingStrategy':\n",
    "        #     Product = program.xpath('.//ProductLI')\n",
    "        #     for product in Product:\n",
    "        #         number_products += 1\n",
    "        #         number_lines += 1\n",
    "        #         Price = product.xpath('.//TieredLIPrices')\n",
    "        #         for price in Price:\n",
    "        #             try:\n",
    "        #                 list_all_extended.append([contract.attrib['Customer'], contract.attrib['AlternateId'],contract.attrib['StartDate'],contract.attrib['EndDate'],\n",
    "        #                 contract.attrib['OrgUnitName'],contract.attrib['DocName'], contract.attrib['Currency'],\n",
    "        #                 program.attrib['Name'], program.attrib['BusinessSegment'],program.attrib['StartDate'],\n",
    "        #                 program.attrib['ContractStartDate'],program.attrib['EndDate'],\n",
    "        #                 product.attrib['ProductNum'], \n",
    "        #                 product.attrib['StartEffectiveDate'], product.attrib['EndEffectiveDate'],\n",
    "        #                 price.attrib['PriceHigh'], price.attrib['TierVolume']])\n",
    "\n",
    "        #             except:\n",
    "        #                 list_all_extended.append([contract.attrib['Customer'], contract.attrib['AlternateId'],contract.attrib['StartDate'],contract.attrib['EndDate'],\n",
    "        #                 contract.attrib['OrgUnitName'],contract.attrib['DocName'],contract.attrib['Currency'],\n",
    "        #                 program.attrib['Name'], program.attrib['BusinessSegment'],program.attrib['StartDate'],\n",
    "        #                 program.attrib['ContractStartDate'],program.attrib['EndDate'],\n",
    "        #                 product.attrib['ProductNum'],\n",
    "        #                 product.attrib['StartEffectiveDate'], product.attrib['EndEffectiveDate'],\n",
    "        #                 price.attrib['AltUomPrice'], price.attrib['TierVolume']])\n",
    "     \n",
    "        # elif program.attrib['SourceStrategyID'] == 'AbbottDOLPricingStrategy':\n",
    "        #     Discount = program.xpath('.//DiscountOffListLI')\n",
    "        #     for discount in Discount:\n",
    "        #         number_products += 1\n",
    "        #         number_lines += 1\n",
    "        #         Price = discount.xpath('.//LIPrices')\n",
    "        #         for price in Price:\n",
    "        #             try:\n",
    "        #                 list_all_extended.append([contract.attrib['Customer'], contract.attrib['AlternateId'],contract.attrib['StartDate'],contract.attrib['EndDate'],\n",
    "        #                 contract.attrib['OrgUnitName'],contract.attrib['DocName'],contract.attrib['Currency'],\n",
    "        #                 program.attrib['Name'], program.attrib['BusinessSegment'],program.attrib['StartDate'],\n",
    "        #                 program.attrib['ContractStartDate'],program.attrib['EndDate'],\n",
    "        #                 discount.attrib['ProductNum'],\n",
    "        #                 discount.attrib['StartEffectiveDate'], discount.attrib['EndEffectiveDate'],\n",
    "        #                 price.attrib['PriceHigh'], ''])\n",
    "\n",
    "        #             except:\n",
    "        #                 list_all_extended.append([contract.attrib['Customer'], contract.attrib['AlternateId'],contract.attrib['StartDate'],contract.attrib['EndDate'],\n",
    "        #                 contract.attrib['OrgUnitName'],contract.attrib['DocName'],contract.attrib['Currency'],\n",
    "        #                 program.attrib['Name'], program.attrib['BusinessSegment'],program.attrib['StartDate'],\n",
    "        #                 program.attrib['ContractStartDate'],program.attrib['EndDate'],\n",
    "        #                 discount.attrib['ProductNum'],\n",
    "        #                 discount.attrib['StartEffectiveDate'], discount.attrib['EndEffectiveDate'],\n",
    "        #                 price.attrib['AltUomPrice'], ''])\n",
    "\n",
    "        #service i rental\n",
    "        if program.attrib['SourceStrategyID'] in ['AbbottRentalPricingStrategy','AbbottServicePricingStrategy', 'AbbottSubscriptionPricingStrategy']:\n",
    "            Rental = program.xpath('.//RentalLI')\n",
    "            for rental in Rental:\n",
    "                number_products += 1\n",
    "                number_lines += 1\n",
    "                Price = rental.xpath('.//LIPrices')\n",
    "                Instrument = rental.xpath('.//InstrumentProduct')\n",
    "               \n",
    "                for price in Price:\n",
    "                    for instrument in Instrument:\n",
    "                        list_all_extended.append([contract.attrib['Customer'], contract.attrib['AlternateId'],contract.attrib['StartDate'],contract.attrib['EndDate'],\n",
    "                        contract.attrib['OrgUnitName'],contract.attrib['DocName'],contract.attrib['Currency'],\n",
    "                        program.attrib['Name'], program.attrib['BusinessSegment'],program.attrib['StartDate'],\n",
    "                        program.attrib['ContractStartDate'],program.attrib['EndDate'],\n",
    "                        instrument.attrib['ProductNum'],\n",
    "                        rental.attrib['ProductNum'], \n",
    "                        rental.attrib['StartEffectiveDate'], rental.attrib['EndEffectiveDate'],\n",
    "                        price.attrib['PriceHigh']])\n",
    "\n",
    "                    # list_all_extended.append([contract.attrib['Customer'], contract.attrib['AlternateId'],contract.attrib['StartDate'],contract.attrib['EndDate'],\n",
    "                    # contract.attrib['OrgUnitName'],contract.attrib['DocName'],contract.attrib['Currency'],\n",
    "                    # program.attrib['Name'], program.attrib['BusinessSegment'], program.attrib['ContractStartDate'],program.attrib['EndDate'],\n",
    "                    # '',\n",
    "                    # rental.attrib['ProductNum'], \n",
    "                    # rental.attrib['StartEffectiveDate'], rental.attrib['EndEffectiveDate'],\n",
    "                    # price.attrib['PriceHigh']])\n",
    "                \n",
    "        \n",
    "\n",
    "                    \n",
    "  "
   ]
  },
  {
   "cell_type": "code",
   "execution_count": 44,
   "metadata": {},
   "outputs": [],
   "source": [
    "# dataframes\n",
    "df_all_extended = pd.DataFrame(list_all_extended)\n",
    "df_all_extended.columns =['Customer ID','Alternate Contract Id', 'Contract Start Date','Contract End Date',\n",
    "'Organization', 'Name', 'Currency',\n",
    "'Price Program Name', 'Business Segment','C Start Date', \n",
    "'Program Start Date','Program End Date',\n",
    "'Instrument #',\n",
    "'Product ID', 'Product Start Date', 'Product End Date', \n",
    "# for rental\n",
    "'Price']\n",
    "# for tieredli\n",
    "#,'Units']\n",
    "excel_extended = excel[['Customer ID','Alternate Contract Id', 'Start Date', 'End Date',\n",
    "'Organization', 'Name','Currency',\n",
    "'Price Program Name', 'Business Segment', 'Program Start Date', 'Program End Date',\n",
    "'Instrument #',\n",
    " 'Product ID', 'Product Start Date', 'Product End Date', \n",
    " # for rental\n",
    " 'Price']]\n",
    " # for tieredli\n",
    " #'Tier 1 Price' , 'Tier 1 Units']]\n"
   ]
  },
  {
   "cell_type": "code",
   "execution_count": 18,
   "metadata": {},
   "outputs": [
    {
     "name": "stdout",
     "output_type": "stream",
     "text": [
      "1121\n",
      "1121\n",
      "55\n"
     ]
    }
   ],
   "source": [
    "# number of all lines\n",
    "print(excel.shape[0])\n",
    "print(df_all_extended.shape[0])\n",
    "print(len(removed))"
   ]
  },
  {
   "cell_type": "code",
   "execution_count": 45,
   "metadata": {},
   "outputs": [
    {
     "name": "stderr",
     "output_type": "stream",
     "text": [
      "100%|██████████| 1121/1121 [00:00<00:00, 131079.31it/s]\n"
     ]
    }
   ],
   "source": [
    "# removing price programs and contract ids with -2\n",
    "for line in tqdm(df_all_extended.index):\n",
    "    if df_all_extended['Price Program Name'][line][-2:] == '-2':\n",
    "        df_all_extended['Price Program Name'][line] = df_all_extended['Price Program Name'][line].replace(\"-2\", \"\")\n",
    "    if df_all_extended['Alternate Contract Id'][line][-2:] == '-2':\n",
    "       df_all_extended['Alternate Contract Id'][line] = df_all_extended['Alternate Contract Id'][line].replace(\"-2\", \"\")\n",
    "\n"
   ]
  },
  {
   "cell_type": "code",
   "execution_count": 46,
   "metadata": {},
   "outputs": [],
   "source": [
    "# extended\n",
    "df_all_extended['Price'] = df_all_extended.Price.astype(str).str.extract(r\"(\\d+\\.\\d+)\")\n",
    "df_all_extended['Price'] = df_all_extended['Price'].astype(float)\n",
    "# for service and rental\n",
    "#excel_extended['Tier 1 Price'] = excel_extended['Tier 1 Price'].astype(float)\n",
    "\n",
    "# for tieredli\n",
    "#excel_extended['Tier 1 Price'] = excel_extended['Tier 1 Price'].astype(float)\n",
    "#df_all_extended['Units'] = pd.to_numeric(df_all_extended['Units'], downcast=\"float\")\n",
    "#excel_extended['Tier 1 Units'] = pd.to_numeric(excel_extended['Tier 1 Units'], downcast=\"float\")"
   ]
  },
  {
   "cell_type": "code",
   "execution_count": 176,
   "metadata": {},
   "outputs": [],
   "source": [
    "df_merged_extended['Units'] = pd.to_numeric(df_merged_extended['Units'])\n",
    "df_merged_extended['Tier 1 Units'] = pd.to_numeric(df_merged_extended['Tier 1 Units'])"
   ]
  },
  {
   "cell_type": "code",
   "execution_count": 47,
   "metadata": {},
   "outputs": [
    {
     "name": "stderr",
     "output_type": "stream",
     "text": [
      "/var/folders/b3/52rfzyl51kv8hp5lk3vw_b6m0000gn/T/ipykernel_1313/3472975014.py:1: SettingWithCopyWarning: \n",
      "A value is trying to be set on a copy of a slice from a DataFrame.\n",
      "Try using .loc[row_indexer,col_indexer] = value instead\n",
      "\n",
      "See the caveats in the documentation: https://pandas.pydata.org/pandas-docs/stable/user_guide/indexing.html#returning-a-view-versus-a-copy\n",
      "  excel_extended['Instrument #'] = excel_extended['Instrument #'].str.replace(\"-\", \"\")\n"
     ]
    }
   ],
   "source": [
    "excel_extended['Instrument #'] = excel_extended['Instrument #'].str.replace(\"-\", \"\")\n"
   ]
  },
  {
   "cell_type": "code",
   "execution_count": 39,
   "metadata": {},
   "outputs": [
    {
     "name": "stderr",
     "output_type": "stream",
     "text": [
      "/var/folders/b3/52rfzyl51kv8hp5lk3vw_b6m0000gn/T/ipykernel_1313/1280410995.py:2: SettingWithCopyWarning: \n",
      "A value is trying to be set on a copy of a slice from a DataFrame.\n",
      "Try using .loc[row_indexer,col_indexer] = value instead\n",
      "\n",
      "See the caveats in the documentation: https://pandas.pydata.org/pandas-docs/stable/user_guide/indexing.html#returning-a-view-versus-a-copy\n",
      "  excel_extended['Customer ID'] = excel_extended['Customer ID'].astype(int)\n"
     ]
    }
   ],
   "source": [
    "# Merging dataframes\n",
    "excel_extended['Customer ID'] = excel_extended['Customer ID'].astype(int)\n",
    "df_all_extended['Customer ID'] = df_all_extended['Customer ID'].astype(int)\n",
    "\n",
    "#service and rental\n",
    "df_all_extended['Product ID'] = df_all_extended['Product ID'].str.replace(\"-\", \"\")\n",
    "\n",
    "df_merged_extended = pd.merge(df_all_extended, excel_extended,  how='outer', left_on=['Customer ID','Alternate Contract Id', 'Price Program Name', 'Product ID',\n",
    "'Instrument #'\n",
    "], \n",
    "right_on = ['Customer ID', 'Alternate Contract Id', 'Price Program Name','Product ID',\n",
    "'Instrument #'\n",
    "])\n"
   ]
  },
  {
   "cell_type": "code",
   "execution_count": 168,
   "metadata": {},
   "outputs": [],
   "source": [
    "# count of products\n",
    "df_gr = df_all_extended.groupby(['Alternate Contract Id','Customer ID', \n",
    "'Price Program Name']).size().reset_index(name='counts')"
   ]
  },
  {
   "cell_type": "code",
   "execution_count": 169,
   "metadata": {},
   "outputs": [],
   "source": [
    "# Merging dataframes- counts\n",
    "excel_gr['Customer ID'] = excel_gr['Customer ID'].astype(int)\n",
    "df_gr['Customer ID'] = df_gr['Customer ID'].astype(int)\n",
    "\n",
    "df_merged = pd.merge(df_gr, excel_gr,  how='outer', left_on=['Customer ID','Alternate Contract Id', 'Price Program Name'], right_on = ['Customer ID','Alternate Contract Id', 'Price Program Name'])\n",
    "df_merged.rename(columns = {'counts_x':'count from xml', 'counts_y':'count from excel'}, inplace = True)"
   ]
  },
  {
   "cell_type": "code",
   "execution_count": 170,
   "metadata": {},
   "outputs": [
    {
     "name": "stderr",
     "output_type": "stream",
     "text": [
      "  0%|          | 0/1691 [00:00<?, ?it/s]/var/folders/b3/52rfzyl51kv8hp5lk3vw_b6m0000gn/T/ipykernel_1425/189006053.py:5: SettingWithCopyWarning: \n",
      "A value is trying to be set on a copy of a slice from a DataFrame\n",
      "\n",
      "See the caveats in the documentation: https://pandas.pydata.org/pandas-docs/stable/user_guide/indexing.html#returning-a-view-versus-a-copy\n",
      "  df_merged['Are the same?'][index] = 'yes'\n",
      "100%|██████████| 1691/1691 [00:00<00:00, 11850.45it/s]\n"
     ]
    }
   ],
   "source": [
    "# checking if the same\n",
    "df_merged['Are the same?'] = ''\n",
    "for index in tqdm(df_merged.index):\n",
    "    if df_merged['count from xml'][index] == df_merged['count from excel'][index]:\n",
    "        df_merged['Are the same?'][index] = 'yes'\n",
    "    else:\n",
    "        df_merged['Are the same?'][index] = 'no'"
   ]
  },
  {
   "cell_type": "code",
   "execution_count": 171,
   "metadata": {},
   "outputs": [],
   "source": [
    "df_merged.to_excel(f'{path}/result counts.xlsx')"
   ]
  },
  {
   "cell_type": "code",
   "execution_count": 48,
   "metadata": {},
   "outputs": [],
   "source": [
    "# data types \n",
    "df_merged_extended['Product Start Date_x']=pd.to_datetime(df_merged_extended['Product Start Date_x'])\n",
    "df_merged_extended['Product Start Date_y']=pd.to_datetime(df_merged_extended['Product Start Date_y'])\n",
    "df_merged_extended['Product End Date_x']=pd.to_datetime(df_merged_extended['Product End Date_x'])\n",
    "df_merged_extended['Product End Date_y']=pd.to_datetime(df_merged_extended['Product End Date_y'])\n",
    "df_merged_extended['Program Start Date_x']=pd.to_datetime(df_merged_extended['Program Start Date_x'])\n",
    "df_merged_extended['Program Start Date_y']=pd.to_datetime(df_merged_extended['Program Start Date_y'])\n",
    "df_merged_extended['Program End Date_x']=pd.to_datetime(df_merged_extended['Program End Date_x'])\n",
    "df_merged_extended['Program End Date_y']=pd.to_datetime(df_merged_extended['Program End Date_y'])\n",
    "df_merged_extended['Contract Start Date']=pd.to_datetime(df_merged_extended['Contract Start Date'])\n",
    "df_merged_extended['C Start Date']=pd.to_datetime(df_merged_extended['C Start Date'])\n",
    "df_merged_extended['Start Date']=pd.to_datetime(df_merged_extended['Start Date'])\n",
    "df_merged_extended['Contract End Date']=pd.to_datetime(df_merged_extended['Contract End Date'])\n",
    "df_merged_extended['End Date']=pd.to_datetime(df_merged_extended['End Date'])\n",
    "df_merged_extended['Organization_y']= pd.to_numeric(df_merged_extended['Organization_y'])\n",
    "df_merged_extended['Organization_x']= pd.to_numeric(df_merged_extended['Organization_x'])"
   ]
  },
  {
   "cell_type": "code",
   "execution_count": 49,
   "metadata": {},
   "outputs": [
    {
     "name": "stderr",
     "output_type": "stream",
     "text": [
      "  0%|          | 0/3466 [00:00<?, ?it/s]/var/folders/b3/52rfzyl51kv8hp5lk3vw_b6m0000gn/T/ipykernel_1313/2886323307.py:18: SettingWithCopyWarning: \n",
      "A value is trying to be set on a copy of a slice from a DataFrame\n",
      "\n",
      "See the caveats in the documentation: https://pandas.pydata.org/pandas-docs/stable/user_guide/indexing.html#returning-a-view-versus-a-copy\n",
      "  df_merged_extended['Are prices the same?'][index] = 'yes'\n",
      "/var/folders/b3/52rfzyl51kv8hp5lk3vw_b6m0000gn/T/ipykernel_1313/2886323307.py:28: SettingWithCopyWarning: \n",
      "A value is trying to be set on a copy of a slice from a DataFrame\n",
      "\n",
      "See the caveats in the documentation: https://pandas.pydata.org/pandas-docs/stable/user_guide/indexing.html#returning-a-view-versus-a-copy\n",
      "  df_merged_extended['Are end dates the same?'][index] = 'yes'\n",
      "/var/folders/b3/52rfzyl51kv8hp5lk3vw_b6m0000gn/T/ipykernel_1313/2886323307.py:33: SettingWithCopyWarning: \n",
      "A value is trying to be set on a copy of a slice from a DataFrame\n",
      "\n",
      "See the caveats in the documentation: https://pandas.pydata.org/pandas-docs/stable/user_guide/indexing.html#returning-a-view-versus-a-copy\n",
      "  df_merged_extended['Is org the same?'][index] = 'yes'\n",
      "/var/folders/b3/52rfzyl51kv8hp5lk3vw_b6m0000gn/T/ipykernel_1313/2886323307.py:38: SettingWithCopyWarning: \n",
      "A value is trying to be set on a copy of a slice from a DataFrame\n",
      "\n",
      "See the caveats in the documentation: https://pandas.pydata.org/pandas-docs/stable/user_guide/indexing.html#returning-a-view-versus-a-copy\n",
      "  df_merged_extended['Is name the same?'][index] = 'yes'\n",
      "/var/folders/b3/52rfzyl51kv8hp5lk3vw_b6m0000gn/T/ipykernel_1313/2886323307.py:43: SettingWithCopyWarning: \n",
      "A value is trying to be set on a copy of a slice from a DataFrame\n",
      "\n",
      "See the caveats in the documentation: https://pandas.pydata.org/pandas-docs/stable/user_guide/indexing.html#returning-a-view-versus-a-copy\n",
      "  df_merged_extended['Is product start date the same?'][index] = 'yes'\n",
      "/var/folders/b3/52rfzyl51kv8hp5lk3vw_b6m0000gn/T/ipykernel_1313/2886323307.py:48: SettingWithCopyWarning: \n",
      "A value is trying to be set on a copy of a slice from a DataFrame\n",
      "\n",
      "See the caveats in the documentation: https://pandas.pydata.org/pandas-docs/stable/user_guide/indexing.html#returning-a-view-versus-a-copy\n",
      "  df_merged_extended['Is product end date the same?'][index] = 'yes'\n",
      "/var/folders/b3/52rfzyl51kv8hp5lk3vw_b6m0000gn/T/ipykernel_1313/2886323307.py:53: SettingWithCopyWarning: \n",
      "A value is trying to be set on a copy of a slice from a DataFrame\n",
      "\n",
      "See the caveats in the documentation: https://pandas.pydata.org/pandas-docs/stable/user_guide/indexing.html#returning-a-view-versus-a-copy\n",
      "  df_merged_extended['Is program start date the same?'][index] = 'yes'\n",
      "/var/folders/b3/52rfzyl51kv8hp5lk3vw_b6m0000gn/T/ipykernel_1313/2886323307.py:59: SettingWithCopyWarning: \n",
      "A value is trying to be set on a copy of a slice from a DataFrame\n",
      "\n",
      "See the caveats in the documentation: https://pandas.pydata.org/pandas-docs/stable/user_guide/indexing.html#returning-a-view-versus-a-copy\n",
      "  df_merged_extended['Is program end date the same?'][index] = 'yes'\n",
      "/var/folders/b3/52rfzyl51kv8hp5lk3vw_b6m0000gn/T/ipykernel_1313/2886323307.py:64: SettingWithCopyWarning: \n",
      "A value is trying to be set on a copy of a slice from a DataFrame\n",
      "\n",
      "See the caveats in the documentation: https://pandas.pydata.org/pandas-docs/stable/user_guide/indexing.html#returning-a-view-versus-a-copy\n",
      "  df_merged_extended['Is contract program start date the same?'][index] = 'yes'\n",
      "/var/folders/b3/52rfzyl51kv8hp5lk3vw_b6m0000gn/T/ipykernel_1313/2886323307.py:20: SettingWithCopyWarning: \n",
      "A value is trying to be set on a copy of a slice from a DataFrame\n",
      "\n",
      "See the caveats in the documentation: https://pandas.pydata.org/pandas-docs/stable/user_guide/indexing.html#returning-a-view-versus-a-copy\n",
      "  df_merged_extended['Are prices the same?'][index] = 'no'\n",
      "/var/folders/b3/52rfzyl51kv8hp5lk3vw_b6m0000gn/T/ipykernel_1313/2886323307.py:30: SettingWithCopyWarning: \n",
      "A value is trying to be set on a copy of a slice from a DataFrame\n",
      "\n",
      "See the caveats in the documentation: https://pandas.pydata.org/pandas-docs/stable/user_guide/indexing.html#returning-a-view-versus-a-copy\n",
      "  df_merged_extended['Are end dates the same?'][index] = 'no'\n",
      "/var/folders/b3/52rfzyl51kv8hp5lk3vw_b6m0000gn/T/ipykernel_1313/2886323307.py:35: SettingWithCopyWarning: \n",
      "A value is trying to be set on a copy of a slice from a DataFrame\n",
      "\n",
      "See the caveats in the documentation: https://pandas.pydata.org/pandas-docs/stable/user_guide/indexing.html#returning-a-view-versus-a-copy\n",
      "  df_merged_extended['Is org the same?'][index] = 'no'\n",
      "/var/folders/b3/52rfzyl51kv8hp5lk3vw_b6m0000gn/T/ipykernel_1313/2886323307.py:40: SettingWithCopyWarning: \n",
      "A value is trying to be set on a copy of a slice from a DataFrame\n",
      "\n",
      "See the caveats in the documentation: https://pandas.pydata.org/pandas-docs/stable/user_guide/indexing.html#returning-a-view-versus-a-copy\n",
      "  df_merged_extended['Is name the same?'][index] = 'no'\n",
      "/var/folders/b3/52rfzyl51kv8hp5lk3vw_b6m0000gn/T/ipykernel_1313/2886323307.py:45: SettingWithCopyWarning: \n",
      "A value is trying to be set on a copy of a slice from a DataFrame\n",
      "\n",
      "See the caveats in the documentation: https://pandas.pydata.org/pandas-docs/stable/user_guide/indexing.html#returning-a-view-versus-a-copy\n",
      "  df_merged_extended['Is product start date the same?'][index] = 'no'\n",
      "/var/folders/b3/52rfzyl51kv8hp5lk3vw_b6m0000gn/T/ipykernel_1313/2886323307.py:50: SettingWithCopyWarning: \n",
      "A value is trying to be set on a copy of a slice from a DataFrame\n",
      "\n",
      "See the caveats in the documentation: https://pandas.pydata.org/pandas-docs/stable/user_guide/indexing.html#returning-a-view-versus-a-copy\n",
      "  df_merged_extended['Is product end date the same?'][index] = 'no'\n",
      "/var/folders/b3/52rfzyl51kv8hp5lk3vw_b6m0000gn/T/ipykernel_1313/2886323307.py:55: SettingWithCopyWarning: \n",
      "A value is trying to be set on a copy of a slice from a DataFrame\n",
      "\n",
      "See the caveats in the documentation: https://pandas.pydata.org/pandas-docs/stable/user_guide/indexing.html#returning-a-view-versus-a-copy\n",
      "  df_merged_extended['Is program start date the same?'][index] = 'no'\n",
      "/var/folders/b3/52rfzyl51kv8hp5lk3vw_b6m0000gn/T/ipykernel_1313/2886323307.py:61: SettingWithCopyWarning: \n",
      "A value is trying to be set on a copy of a slice from a DataFrame\n",
      "\n",
      "See the caveats in the documentation: https://pandas.pydata.org/pandas-docs/stable/user_guide/indexing.html#returning-a-view-versus-a-copy\n",
      "  df_merged_extended['Is program end date the same?'][index] = 'no'\n",
      "/var/folders/b3/52rfzyl51kv8hp5lk3vw_b6m0000gn/T/ipykernel_1313/2886323307.py:66: SettingWithCopyWarning: \n",
      "A value is trying to be set on a copy of a slice from a DataFrame\n",
      "\n",
      "See the caveats in the documentation: https://pandas.pydata.org/pandas-docs/stable/user_guide/indexing.html#returning-a-view-versus-a-copy\n",
      "  df_merged_extended['Is contract program start date the same?'][index] = 'no'\n",
      "100%|██████████| 3466/3466 [00:04<00:00, 765.24it/s]\n"
     ]
    }
   ],
   "source": [
    "df_merged_extended['Are prices the same?'] = ''\n",
    "df_merged_extended['Are start dates the same?'] = ''\n",
    "df_merged_extended['Are end dates the same?'] = ''\n",
    "df_merged_extended['Is org the same?'] = ''\n",
    "df_merged_extended['Is name the same?'] = ''\n",
    "df_merged_extended['Is contract program start date the same?'] = ''\n",
    "df_merged_extended['Is program start date the same?'] = ''\n",
    "df_merged_extended['Is program end date the same?'] = ''\n",
    "df_merged_extended['Is product start date the same?'] = ''\n",
    "df_merged_extended['Is product end date the same?'] = ''\n",
    "df_merged_extended['Are units the same?'] = ''\n",
    "df_merged_extended['Is instrument the same?']=''\n",
    "for index in tqdm(df_merged_extended.index):\n",
    "    #tieredli\n",
    "   # if df_merged_extended['Price'][index] == df_merged_extended['Tier 1 Price'][index]:\n",
    "    #rental\n",
    "    if df_merged_extended['Price_x'][index] == df_merged_extended['Price_y'][index]:\n",
    "        df_merged_extended['Are prices the same?'][index] = 'yes'\n",
    "    else:\n",
    "        df_merged_extended['Are prices the same?'][index] = 'no'\n",
    "\n",
    "    if df_merged_extended['Contract Start Date'][index] == df_merged_extended['Start Date'][index]:\n",
    "        df_merged_extended['Are start dates the same?'] = 'yes'\n",
    "    else:\n",
    "        df_merged_extended['Are start dates the same?'] = 'no'\n",
    "\n",
    "    if df_merged_extended['Contract End Date'][index] == df_merged_extended['End Date'][index]:\n",
    "        df_merged_extended['Are end dates the same?'][index] = 'yes'\n",
    "    else:\n",
    "        df_merged_extended['Are end dates the same?'][index] = 'no'\n",
    "\n",
    "    if df_merged_extended['Organization_x'][index] == df_merged_extended['Organization_y'][index]:\n",
    "        df_merged_extended['Is org the same?'][index] = 'yes'\n",
    "    else:\n",
    "        df_merged_extended['Is org the same?'][index] = 'no'\n",
    "\n",
    "    if df_merged_extended['Name_x'][index] == df_merged_extended['Name_y'][index]:\n",
    "        df_merged_extended['Is name the same?'][index] = 'yes'\n",
    "    else:\n",
    "        df_merged_extended['Is name the same?'][index] = 'no'\n",
    "\n",
    "    if df_merged_extended['Product Start Date_x'][index] == df_merged_extended['Product Start Date_y'][index]:\n",
    "        df_merged_extended['Is product start date the same?'][index] = 'yes'\n",
    "    else:\n",
    "        df_merged_extended['Is product start date the same?'][index] = 'no'\n",
    "\n",
    "    if df_merged_extended['Product End Date_x'][index] == df_merged_extended['Product End Date_y'][index]:\n",
    "        df_merged_extended['Is product end date the same?'][index] = 'yes'\n",
    "    else:\n",
    "        df_merged_extended['Is product end date the same?'][index] = 'no'\n",
    "\n",
    "    if df_merged_extended['Program Start Date_x'][index] == df_merged_extended['Program Start Date_y'][index]:\n",
    "            df_merged_extended['Is program start date the same?'][index] = 'yes'\n",
    "    else:\n",
    "        df_merged_extended['Is program start date the same?'][index] = 'no'\n",
    "\n",
    "    \n",
    "    if df_merged_extended['Program End Date_x'][index] == df_merged_extended['Program End Date_y'][index]:\n",
    "            df_merged_extended['Is program end date the same?'][index] = 'yes'\n",
    "    else:\n",
    "        df_merged_extended['Is program end date the same?'][index] = 'no'\n",
    "\n",
    "    if df_merged_extended['C Start Date'][index] == df_merged_extended['Program Start Date_y'][index]:\n",
    "            df_merged_extended['Is contract program start date the same?'][index] = 'yes'\n",
    "    else:\n",
    "        df_merged_extended['Is contract program start date the same?'][index] = 'no'\n",
    "\n",
    "    # if df_merged_extended['Instrument #_x'][index] == df_merged_extended['Instrument #_y'][index]:\n",
    "    #     df_merged_extended['Is instrument the same?'][index] = 'yes'\n",
    "    # else:\n",
    "    #         df_merged_extended['Is instrument the same?'][index] = 'no'\n",
    "\n",
    "\n",
    "\n",
    "\n",
    "    # if df_merged_extended['Units'][index] == df_merged_extended['Tier 1 Units'][index]:\n",
    "    #     df_merged_extended['Are units the same?'][index] = 'yes'\n",
    "    # else:\n",
    "    #     df_merged_extended['Are units the same?'][index] = 'no'\n",
    "\n",
    "\n",
    "\n",
    "\n"
   ]
  },
  {
   "cell_type": "code",
   "execution_count": 50,
   "metadata": {},
   "outputs": [],
   "source": [
    "\n",
    "df_merged_extended.to_excel(f'{path}/result extended tieredli.xlsx')"
   ]
  }
 ],
 "metadata": {
  "kernelspec": {
   "display_name": "Python 3.9.13 64-bit",
   "language": "python",
   "name": "python3"
  },
  "language_info": {
   "codemirror_mode": {
    "name": "ipython",
    "version": 3
   },
   "file_extension": ".py",
   "mimetype": "text/x-python",
   "name": "python",
   "nbconvert_exporter": "python",
   "pygments_lexer": "ipython3",
   "version": "3.9.13"
  },
  "orig_nbformat": 4,
  "vscode": {
   "interpreter": {
    "hash": "aee8b7b246df8f9039afb4144a1f6fd8d2ca17a180786b69acc140d282b71a49"
   }
  }
 },
 "nbformat": 4,
 "nbformat_minor": 2
}
