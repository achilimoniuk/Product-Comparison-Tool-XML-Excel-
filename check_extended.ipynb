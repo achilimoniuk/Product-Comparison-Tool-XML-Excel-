{
 "cells": [
  {
   "cell_type": "code",
   "execution_count": 41,
   "metadata": {},
   "outputs": [],
   "source": [
    "# packages\n",
    "from lxml import etree\n",
    "import pandas as pd\n",
    "from tqdm import tqdm\n",
    "import os\n",
    "\n"
   ]
  },
  {
   "cell_type": "code",
   "execution_count": 42,
   "metadata": {},
   "outputs": [],
   "source": [
    "# setup\n",
    "path = 'path'\n",
    "xml_file = 'file.xml'\n",
    "excel_file = 'excel.xlsx'\n",
    "sheet_name = 'sheet1'\n"
   ]
  },
  {
   "cell_type": "code",
   "execution_count": 43,
   "metadata": {},
   "outputs": [],
   "source": [
    "# Opening excel and xml file\n",
    "tree = etree.parse(f'{path}/{xml_file}')\n",
    "root=tree.getroot()\n",
    "excel = pd.read_excel(f'{path}/{excel_file}', header = 3, sheet_name=f'{sheet_name}')\n",
    "df_log = pd.read_csv(f'{path}/logs.csv', header=None)"
   ]
  },
  {
   "cell_type": "code",
   "execution_count": null,
   "metadata": {},
   "outputs": [],
   "source": [
    "# Saving removed products as list\n",
    "df_log.columns=['t', 'd', 'a', 'c']\n",
    "df_log[['A', 'B']] = df_log['a'].str.split(': ', 1, expand=True)\n",
    "removed = df_log[['B']]\n",
    "removed[['A', 'B']] = df_log['B'].str.split('_', 1, expand=True)\n",
    "removed['A'] = removed['A'].str.replace(\"-\", \"\")\n",
    "removed = removed['A']\n",
    "removed = list(removed.drop_duplicates(keep='last'))"
   ]
  },
  {
   "cell_type": "code",
   "execution_count": 46,
   "metadata": {},
   "outputs": [
    {
     "name": "stderr",
     "output_type": "stream",
     "text": [
      "100%|██████████| 126136/126136 [00:01<00:00, 107651.60it/s]\n"
     ]
    }
   ],
   "source": [
    "# Removing products from log from excel\n",
    "for index in tqdm(excel.index):\n",
    "    if excel['Product ID'][index] in removed:\n",
    "        excel.drop([index], axis=0, inplace=True)"
   ]
  },
  {
   "cell_type": "code",
   "execution_count": 47,
   "metadata": {},
   "outputs": [],
   "source": [
    "# Count of products: grouping dataframe\n",
    "excel_gr = excel.groupby(['Contract Id','Customer ID', \n",
    "'Price Program Name']).size().reset_index(name='counts')\n"
   ]
  },
  {
   "cell_type": "code",
   "execution_count": 48,
   "metadata": {},
   "outputs": [],
   "source": [
    "# Getting numbers and list with products from xml\n",
    "number_contracts = 0\n",
    "number_lines = 0\n",
    "\n",
    "list_all_extended = []\n",
    "Contract = tree.xpath('.//Contract')\n",
    "for contract in Contract:\n",
    "    number_contracts += 1\n",
    "    Program = contract.xpath('.//Program')\n",
    "    number_programs = 0\n",
    "    for program in Program:\n",
    "        number_programs += 1\n",
    "        Cfd = program.xpath('.//CFD')\n",
    "        number_products = 0\n",
    "        if program.attrib['Strategy'] == 'strategy1':\n",
    "            Product = program.xpath('.//Product')\n",
    "            for product in Product:\n",
    "                number_products += 1\n",
    "                number_lines += 1\n",
    "                Price = product.xpath('.//Prices')\n",
    "                for price in Price:\n",
    "                    try:\n",
    "                        list_all_extended.append([contract.attrib['Customer'], contract.attrib['ID'],contract.attrib['date1'],contract.attrib['date2'],\n",
    "                        contract.attrib['name'],\n",
    "                        program.attrib['Name'], program.attrib['Segment'],\n",
    "                        product.attrib['Product'], \n",
    "                        product.attrib['date1'], product.attrib['date2'],\n",
    "                        price.attrib['Price']])\n",
    "\n",
    "                    except:\n",
    "                        list_all_extended.append([contract.attrib['Customer'], contract.attrib['ID'],contract.attrib['date1'],contract.attrib['date2'],\n",
    "                        contract.attrib['name'],\n",
    "                        program.attrib['Name'], program.attrib['Segment'],\n",
    "                        product.attrib['Product'], \n",
    "                        product.attrib['date1'], product.attrib['date2'],\n",
    "                        price.attrib['Price2']])\n",
    "                        \n",
    "        elif program.attrib['Strategy'] == 'strategy2':\n",
    "            Discount = program.xpath('.//Discount')\n",
    "            for discount in Discount:\n",
    "                number_products += 1\n",
    "                number_lines += 1\n",
    "                Price = discount.xpath('.//Prices')\n",
    "                for price in Price:\n",
    "                    try:\n",
    "                       list_all_extended.append([contract.attrib['Customer'], contract.attrib['ID'],contract.attrib['date1'],contract.attrib['date2'],\n",
    "                        contract.attrib['name'],\n",
    "                        program.attrib['Name'], program.attrib['Segment'],\n",
    "                        discount.attrib['Product'], \n",
    "                        discount.attrib['date1'], discount.attrib['date2'],\n",
    "                        price.attrib['Price']])\n",
    "\n",
    "                    except:\n",
    "                        list_all_extended.append([contract.attrib['Customer'], contract.attrib['ID'],contract.attrib['date1'],contract.attrib['date2'],\n",
    "                        contract.attrib['name'],\n",
    "                        program.attrib['Name'], program.attrib['Segment'],\n",
    "                        discount.attrib['Product'], \n",
    "                        discount.attrib['date1'], discount.attrib['date2'],\n",
    "                        price.attrib['Price2']])\n",
    "\n",
    "    \n",
    "            \n",
    "  "
   ]
  },
  {
   "cell_type": "code",
   "execution_count": 49,
   "metadata": {},
   "outputs": [],
   "source": [
    "# Saving results as dataframes\n",
    "\n",
    "df_all_extended = pd.DataFrame(list_all_extended)\n",
    "df_all_extended.columns =['Customer', 'ID','Date1_c','Date2_c',\n",
    "                        'Name_c',\n",
    "                        'Name_p','Segment',\n",
    "                        'Product', \n",
    "                        'Date1_p','Date2_p',\n",
    "                        'Price']\n",
    "excel_extended = excel[['Customer', 'ID','Date1_c','Date2_c',\n",
    "                        'Name_c',\n",
    "                        'Name_p','Segment',\n",
    "                        'Product', \n",
    "                        'Date1_p','Date2_p',\n",
    "                        'Price']]\n"
   ]
  },
  {
   "cell_type": "code",
   "execution_count": null,
   "metadata": {},
   "outputs": [],
   "source": [
    "# removing ending\n",
    "excel_extended['Product'] = excel_extended['Product'].str.replace(\"_\", \"\")\n",
    "df_all_extended['Product'] = df_all_extended['Product'].str.replace(\"_\", \"\")"
   ]
  },
  {
   "cell_type": "code",
   "execution_count": 51,
   "metadata": {},
   "outputs": [
    {
     "name": "stdout",
     "output_type": "stream",
     "text": [
      "126096\n",
      "126096\n",
      "10\n"
     ]
    }
   ],
   "source": [
    "# Checking if lenght is the same\n",
    "print(excel.shape[0])\n",
    "print(df_all_extended.shape[0])\n",
    "print(len(removed))"
   ]
  },
  {
   "cell_type": "code",
   "execution_count": 52,
   "metadata": {},
   "outputs": [
    {
     "name": "stderr",
     "output_type": "stream",
     "text": [
      "100%|██████████| 126096/126096 [00:00<00:00, 206581.73it/s]\n"
     ]
    }
   ],
   "source": [
    "# Removing price programs and contract ids with -2\n",
    "for line in tqdm(df_all_extended.index):\n",
    "    if df_all_extended['Name_c'][line][-2:] == '-2':\n",
    "        df_all_extended['Name_c'][line] = df_all_extended['Name_c'][line].replace(\"-2\", \"\")\n",
    "    if df_all_extended['ID'][line][-2:] == '-2':\n",
    "       df_all_extended['ID'][line] = df_all_extended['ID'][line].replace(\"-2\", \"\")\n",
    "\n",
    "\n"
   ]
  },
  {
   "cell_type": "code",
   "execution_count": null,
   "metadata": {},
   "outputs": [],
   "source": [
    "# Changing data types\n",
    "df_all_extended['Price'] = df_all_extended.Price.str.extract(r\"(\\d+\\.\\d+)\")\n",
    "df_all_extended['Price'] = df_all_extended['Price'].astype(float)\n",
    "excel_extended['Price'] = excel_extended['1 Price'].astype(float)"
   ]
  },
  {
   "cell_type": "code",
   "execution_count": 54,
   "metadata": {},
   "outputs": [],
   "source": [
    "# Grouping dataframe\n",
    "df_gr = df_all_extended.groupby(['ID','Customer', \n",
    "'Name_c']).size().reset_index(name='counts')"
   ]
  },
  {
   "cell_type": "code",
   "execution_count": 55,
   "metadata": {},
   "outputs": [],
   "source": [
    "# Merging dataframes- counts\n",
    "excel_gr['Customer'] = excel_gr['Customer'].astype(int)\n",
    "df_gr['Customer'] = df_gr['Customer'].astype(int)\n",
    "\n",
    "df_merged = pd.merge(df_gr, excel_gr,  how='outer', left_on=['Customer','ID', ' Name_c'], right_on = ['Customer','ID', ' Name_c'])\n",
    "df_merged.rename(columns = {'counts_x':'count from xml', 'counts_y':'count from excel'}, inplace = True)\n"
   ]
  },
  {
   "cell_type": "code",
   "execution_count": 36,
   "metadata": {},
   "outputs": [
    {
     "name": "stderr",
     "output_type": "stream",
     "text": [
      "  0%|          | 0/782 [00:00<?, ?it/s]/var/folders/b3/52rfzyl51kv8hp5lk3vw_b6m0000gn/T/ipykernel_2166/725705275.py:5: SettingWithCopyWarning: \n",
      "A value is trying to be set on a copy of a slice from a DataFrame\n",
      "\n",
      "See the caveats in the documentation: https://pandas.pydata.org/pandas-docs/stable/user_guide/indexing.html#returning-a-view-versus-a-copy\n",
      "  df_merged['Are the same?'][index] = 'yes'\n",
      "100%|██████████| 782/782 [00:00<00:00, 11311.37it/s]\n"
     ]
    }
   ],
   "source": [
    "# checking if the same\n",
    "df_merged['Are the same?'] = ''\n",
    "for index in tqdm(df_merged.index):\n",
    "    if df_merged['count from xml'][index] == df_merged['count from excel'][index]:\n",
    "        df_merged['Are the same?'][index] = 'yes'\n",
    "    else:\n",
    "        df_merged['Are the same?'][index] = 'no'\n",
    "df_merged.to_excel(f'{path}/result counts.xlsx')"
   ]
  },
  {
   "cell_type": "code",
   "execution_count": 56,
   "metadata": {},
   "outputs": [
    {
     "name": "stderr",
     "output_type": "stream",
     "text": [
      "/var/folders/b3/52rfzyl51kv8hp5lk3vw_b6m0000gn/T/ipykernel_2166/3066667302.py:2: SettingWithCopyWarning: \n",
      "A value is trying to be set on a copy of a slice from a DataFrame.\n",
      "Try using .loc[row_indexer,col_indexer] = value instead\n",
      "\n",
      "See the caveats in the documentation: https://pandas.pydata.org/pandas-docs/stable/user_guide/indexing.html#returning-a-view-versus-a-copy\n",
      "  excel_extended['Customer ID'] = excel_extended['Customer ID'].astype(int)\n"
     ]
    }
   ],
   "source": [
    "# Merging dataframes- extended\n",
    "excel_extended['Customer'] = excel_extended['Customer'].astype(int)\n",
    "df_all_extended['Customer'] = df_all_extended['Customer'].astype(int)\n",
    "df_all_extended['Product'] = df_all_extended['Product'].str.replace(\"-\", \"\")\n",
    "df_merged_extended = pd.merge(df_all_extended, excel_extended,  how='outer', left_on=['Customer','ID', 'Name_c', 'Product'], right_on = ['Customer','ID', 'Name_c', 'Product' ])\n",
    "\n"
   ]
  },
  {
   "cell_type": "code",
   "execution_count": 57,
   "metadata": {},
   "outputs": [],
   "source": [
    "# data types \n",
    "df_merged_extended['Date1_c_x']=pd.to_datetime(df_merged_extended['Date1_c_x'])\n",
    "df_merged_extended['Date2_c_y']=pd.to_datetime(df_merged_extended['Date2_c_y'])\n",
    "df_merged_extended['Date1_p_x']=pd.to_datetime(df_merged_extended['Date1_p_x'])\n",
    "df_merged_extended['Date2_p_y']=pd.to_datetime(df_merged_extended['Date2_p_y'])\n",
    "df_merged_extended['ID_y']= pd.to_numeric(df_merged_extended['ID_y'])\n",
    "df_merged_extended['ID_x']= pd.to_numeric(df_merged_extended['ID_x'])\n"
   ]
  },
  {
   "cell_type": "code",
   "execution_count": null,
   "metadata": {},
   "outputs": [],
   "source": [
    "# function for checking if the counts are the same\n",
    "def check(df=df_merged_extended, column, line):\n",
    "    df[f'Is {column} the same?'] = ''\n",
    "    if df[f'{column}_x'][line] == df[f'{column}_y'][line]:\n",
    "        df[f'Is {column} the same?'][line] = 'yes'\n",
    "    else:\n",
    "        df[f'Is {column} the same?'][line] = 'no'\n"
   ]
  },
  {
   "cell_type": "code",
   "execution_count": 58,
   "metadata": {},
   "outputs": [
    {
     "name": "stderr",
     "output_type": "stream",
     "text": [
      "  0%|          | 0/126344 [00:00<?, ?it/s]/var/folders/b3/52rfzyl51kv8hp5lk3vw_b6m0000gn/T/ipykernel_2166/310394543.py:13: SettingWithCopyWarning: \n",
      "A value is trying to be set on a copy of a slice from a DataFrame\n",
      "\n",
      "See the caveats in the documentation: https://pandas.pydata.org/pandas-docs/stable/user_guide/indexing.html#returning-a-view-versus-a-copy\n",
      "  df_merged_extended['Are prices the same?'][index] = 'yes'\n",
      "/var/folders/b3/52rfzyl51kv8hp5lk3vw_b6m0000gn/T/ipykernel_2166/310394543.py:23: SettingWithCopyWarning: \n",
      "A value is trying to be set on a copy of a slice from a DataFrame\n",
      "\n",
      "See the caveats in the documentation: https://pandas.pydata.org/pandas-docs/stable/user_guide/indexing.html#returning-a-view-versus-a-copy\n",
      "  df_merged_extended['Are end dates the same?'][index] = 'yes'\n",
      "/var/folders/b3/52rfzyl51kv8hp5lk3vw_b6m0000gn/T/ipykernel_2166/310394543.py:28: SettingWithCopyWarning: \n",
      "A value is trying to be set on a copy of a slice from a DataFrame\n",
      "\n",
      "See the caveats in the documentation: https://pandas.pydata.org/pandas-docs/stable/user_guide/indexing.html#returning-a-view-versus-a-copy\n",
      "  df_merged_extended['Is org the same?'][index] = 'yes'\n",
      "/var/folders/b3/52rfzyl51kv8hp5lk3vw_b6m0000gn/T/ipykernel_2166/310394543.py:33: SettingWithCopyWarning: \n",
      "A value is trying to be set on a copy of a slice from a DataFrame\n",
      "\n",
      "See the caveats in the documentation: https://pandas.pydata.org/pandas-docs/stable/user_guide/indexing.html#returning-a-view-versus-a-copy\n",
      "  df_merged_extended['Is name the same?'][index] = 'yes'\n",
      "/var/folders/b3/52rfzyl51kv8hp5lk3vw_b6m0000gn/T/ipykernel_2166/310394543.py:38: SettingWithCopyWarning: \n",
      "A value is trying to be set on a copy of a slice from a DataFrame\n",
      "\n",
      "See the caveats in the documentation: https://pandas.pydata.org/pandas-docs/stable/user_guide/indexing.html#returning-a-view-versus-a-copy\n",
      "  df_merged_extended['Is product start date the same?'][index] = 'yes'\n",
      "/var/folders/b3/52rfzyl51kv8hp5lk3vw_b6m0000gn/T/ipykernel_2166/310394543.py:43: SettingWithCopyWarning: \n",
      "A value is trying to be set on a copy of a slice from a DataFrame\n",
      "\n",
      "See the caveats in the documentation: https://pandas.pydata.org/pandas-docs/stable/user_guide/indexing.html#returning-a-view-versus-a-copy\n",
      "  df_merged_extended['Is product end date the same?'][index] = 'yes'\n",
      "/var/folders/b3/52rfzyl51kv8hp5lk3vw_b6m0000gn/T/ipykernel_2166/310394543.py:48: SettingWithCopyWarning: \n",
      "A value is trying to be set on a copy of a slice from a DataFrame\n",
      "\n",
      "See the caveats in the documentation: https://pandas.pydata.org/pandas-docs/stable/user_guide/indexing.html#returning-a-view-versus-a-copy\n",
      "  df_merged_extended['Is program start date the same?'][index] = 'yes'\n",
      "/var/folders/b3/52rfzyl51kv8hp5lk3vw_b6m0000gn/T/ipykernel_2166/310394543.py:54: SettingWithCopyWarning: \n",
      "A value is trying to be set on a copy of a slice from a DataFrame\n",
      "\n",
      "See the caveats in the documentation: https://pandas.pydata.org/pandas-docs/stable/user_guide/indexing.html#returning-a-view-versus-a-copy\n",
      "  df_merged_extended['Is program end date the same?'][index] = 'yes'\n",
      "/var/folders/b3/52rfzyl51kv8hp5lk3vw_b6m0000gn/T/ipykernel_2166/310394543.py:59: SettingWithCopyWarning: \n",
      "A value is trying to be set on a copy of a slice from a DataFrame\n",
      "\n",
      "See the caveats in the documentation: https://pandas.pydata.org/pandas-docs/stable/user_guide/indexing.html#returning-a-view-versus-a-copy\n",
      "  df_merged_extended['Are units the same?'][index] = 'yes'\n",
      "  1%|▏         | 1872/126344 [00:03<03:46, 548.91it/s]/var/folders/b3/52rfzyl51kv8hp5lk3vw_b6m0000gn/T/ipykernel_2166/310394543.py:61: SettingWithCopyWarning: \n",
      "A value is trying to be set on a copy of a slice from a DataFrame\n",
      "\n",
      "See the caveats in the documentation: https://pandas.pydata.org/pandas-docs/stable/user_guide/indexing.html#returning-a-view-versus-a-copy\n",
      "  df_merged_extended['Are units the same?'][index] = 'no'\n",
      "  8%|▊         | 9643/126344 [00:17<03:29, 556.91it/s]/var/folders/b3/52rfzyl51kv8hp5lk3vw_b6m0000gn/T/ipykernel_2166/310394543.py:40: SettingWithCopyWarning: \n",
      "A value is trying to be set on a copy of a slice from a DataFrame\n",
      "\n",
      "See the caveats in the documentation: https://pandas.pydata.org/pandas-docs/stable/user_guide/indexing.html#returning-a-view-versus-a-copy\n",
      "  df_merged_extended['Is product start date the same?'][index] = 'no'\n",
      "  9%|▉         | 12000/126344 [00:21<03:24, 558.62it/s]/var/folders/b3/52rfzyl51kv8hp5lk3vw_b6m0000gn/T/ipykernel_2166/310394543.py:50: SettingWithCopyWarning: \n",
      "A value is trying to be set on a copy of a slice from a DataFrame\n",
      "\n",
      "See the caveats in the documentation: https://pandas.pydata.org/pandas-docs/stable/user_guide/indexing.html#returning-a-view-versus-a-copy\n",
      "  df_merged_extended['Is program start date the same?'][index] = 'no'\n",
      "100%|██████████| 126344/126344 [03:50<00:00, 547.46it/s]\n"
     ]
    }
   ],
   "source": [
    "# loop for checking if counts are the same\n",
    "columns = ['Customer', 'ID','Date1_c','Date2_c',\n",
    "                        'Name_c',\n",
    "                        'Name_p','Segment',\n",
    "                        'Product', \n",
    "                        'Date1_p','Date2_p',\n",
    "                        'Price']\n",
    "for index in tqdm(df_merged_extended.index):\n",
    "    for col in columns:\n",
    "        check(col, index)\n"
   ]
  },
  {
   "cell_type": "code",
   "execution_count": 40,
   "metadata": {},
   "outputs": [],
   "source": [
    "# saving results as excel file\n",
    "df_merged_extended.to_excel(f'{path}/result extended.xlsx')"
   ]
  }
 ],
 "metadata": {
  "kernelspec": {
   "display_name": "Python 3.9.13 64-bit",
   "language": "python",
   "name": "python3"
  },
  "language_info": {
   "codemirror_mode": {
    "name": "ipython",
    "version": 3
   },
   "file_extension": ".py",
   "mimetype": "text/x-python",
   "name": "python",
   "nbconvert_exporter": "python",
   "pygments_lexer": "ipython3",
   "version": "3.9.13"
  },
  "orig_nbformat": 4,
  "vscode": {
   "interpreter": {
    "hash": "aee8b7b246df8f9039afb4144a1f6fd8d2ca17a180786b69acc140d282b71a49"
   }
  }
 },
 "nbformat": 4,
 "nbformat_minor": 2
}
