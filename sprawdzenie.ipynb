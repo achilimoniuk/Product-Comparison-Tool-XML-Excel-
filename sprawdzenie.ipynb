{
 "cells": [
  {
   "cell_type": "code",
   "execution_count": 159,
   "metadata": {},
   "outputs": [],
   "source": [
    "from lxml import etree\n",
    "import pandas as pd\n",
    "from tqdm import tqdm\n",
    "import os"
   ]
  },
  {
   "cell_type": "code",
   "execution_count": 160,
   "metadata": {},
   "outputs": [],
   "source": [
    "import enumerations"
   ]
  },
  {
   "cell_type": "code",
   "execution_count": 161,
   "metadata": {},
   "outputs": [],
   "source": [
    "from enumerations import enum_rb_payment_method as payment_method\n",
    "from enumerations import enum_rb_subtype as subtype\n",
    "#from enumerations import enum_rb_strategy as strategy\n",
    "from enumerations import enum_rb_payment_level as payment_level\n",
    "from enumerations import enum_rb_payment_freq as payment_freq\n",
    "from enumerations import enum_pp_transaction_line_from as transaction_line\n",
    "from enumerations import enum_pp_schedule_basis as schedule_basis"
   ]
  },
  {
   "cell_type": "code",
   "execution_count": 162,
   "metadata": {},
   "outputs": [],
   "source": [
    "#setup\n",
    "path = 'output_xml 2023-05-15_1116_UT'\n",
    "\n"
   ]
  },
  {
   "cell_type": "code",
   "execution_count": 39,
   "metadata": {},
   "outputs": [],
   "source": [
    "# import os\n",
    "# # find all the txt files in the dataset folder\n",
    "# inputs = []\n",
    "# for file in os.listdir(path):\n",
    "#     if file.endswith(\".xml\"):\n",
    "#         inputs.append(os.path.join(path, file))\n",
    " \n",
    " \n",
    "# # concatanate all txt files in a file called merged_file.txt\n",
    "# with open('merged_file.xml', 'w') as outfile:\n",
    "#     for fname in inputs:\n",
    "#         with open(fname, encoding=\"utf-8\", errors='ignore') as infile:\n",
    "#             outfile.write(infile.read())\n"
   ]
  },
  {
   "cell_type": "code",
   "execution_count": 163,
   "metadata": {},
   "outputs": [],
   "source": [
    "# template\n",
    "template = pd.read_csv('Rebate Program.csv')\n",
    "xml_file= '20230515-110503-ALL CONTRACTS.xml'\n",
    "# Opening excel and xml file\n",
    "tree = etree.parse(f'{path}/{xml_file}')\n",
    "root=tree.getroot()"
   ]
  },
  {
   "cell_type": "code",
   "execution_count": 164,
   "metadata": {},
   "outputs": [],
   "source": [
    "# Mapping\n",
    "template['Payment Method mapped'] = template['Payment Method'].map(payment_method.get_enum_by_name)\n",
    "template['Payment Level mapped'] = template['Payment Level'].map(payment_level.get_enum_by_name)\n",
    "template['Rebate SubType mapped'] = template['Rebate SubType'].map(subtype.get_enum_by_name)\n",
    "template['Payment Frequency mapped'] = template['Payment Frequency'].map(payment_freq.get_enum_by_name)\n",
    "template['Transaction Line mapped'] = template['Transaction Lines From'].map(transaction_line.get_enum_by_name)\n",
    "template['Schedule Basis mapped'] = template['Schedule Basis'].map(schedule_basis.get_enum_by_name)"
   ]
  },
  {
   "cell_type": "code",
   "execution_count": 104,
   "metadata": {},
   "outputs": [
    {
     "data": {
      "text/plain": [
       "Index(['Customer Contract ID', 'Program Name', 'Rebate SubType',\n",
       "       'Program Start Date', 'Program End Date', 'Calculation Level',\n",
       "       '# of Tiers', 'Payment Frequency', 'Payment Level',\n",
       "       'Transaction Lines From', 'Schedule Basis', 'Rebate Strategy', 'Tier',\n",
       "       'Tier Basis', 'Tier Benefit', 'Payment Method', 'Process Date Lag',\n",
       "       'Late Date Lag', 'Rebated Customer', 'Accrual Type', 'Accrual Rate',\n",
       "       'Accrue In ERP?', 'Ad. Fee Netting Rule', 'Rebate Product Inclusion',\n",
       "       'Products', 'Programs', 'Included Contracts', 'Excluded contracts',\n",
       "       'Basis 1 Products', 'Basis 1 Programs', 'Basis 1 Included Contracts',\n",
       "       'Basis 1 Excluded Contracts', 'Basis 2 Products', 'Basis 2 Programs',\n",
       "       'Basis 2 Included Contracts', 'Basis 2 Excluded Contracts', 'Baseline',\n",
       "       'Manual Baseline Value', 'Growth Type', 'Payment Method mapped',\n",
       "       'Payment Level mapped', 'Rebate SubType mapped',\n",
       "       'Payment Frequency mapped'],\n",
       "      dtype='object')"
      ]
     },
     "execution_count": 104,
     "metadata": {},
     "output_type": "execute_result"
    }
   ],
   "source": [
    "template.columns"
   ]
  },
  {
   "cell_type": "code",
   "execution_count": 165,
   "metadata": {},
   "outputs": [],
   "source": [
    "#####XML######\n",
    "# Getting numbers and list with products\n",
    "list_rebut = []\n",
    "Contract = tree.xpath('.//ContractOffer')\n",
    "for contract in Contract:\n",
    "    Program = contract.xpath('.//Program')\n",
    "    for program in Program:\n",
    "     #   Line = program.xpath('.//LineItem')\n",
    "      #  for line in Line:\n",
    "        list_rebut.append([contract.attrib['CustomerContractId'], contract.attrib['Customer'], \n",
    "        #contract.attrib['CtrtSubType'],\n",
    "#contract.attrib['StartDate'], contract.attrib['EndDate'], contract.attrib[''],\n",
    "        # program.attrib['SalesDealNo'], \n",
    "        program.attrib['Name'], program.attrib['StartDate'],program.attrib['EndDate'], program.attrib['SourceStrategyID'],\n",
    "        program.attrib['Tag3'], \n",
    "        #program.attrib['GrcFrequency'],\n",
    "        program.attrib['PaymentFrequency'],program.attrib['ScheduleBasis'],\n",
    "        program.attrib['NumTiers'],program.attrib['SaleLineFrom'],\n",
    "      #  program.attrib['Currency'],program.attrib['Description'],\n",
    "        program.attrib['Dimension'], program.attrib['PaymentLevelType'],\n",
    "        program.attrib['PaymentLevelType']\n",
    "        #program.attrib['PaymentCustomerType']\n",
    "       # , line.attrib['ProductNum']\n",
    "        ])\n",
    "       \n",
    "\n",
    "# dataframes\n",
    "xml_rebut = pd.DataFrame(list_rebut)\n",
    "xml_rebut.columns =['Contract ID',  'Customer',\n",
    "  'Price Program Name','Start Date', 'End Date', 'Strategy',\n",
    "\n",
    "'Rebate SubType', \n",
    "'Payment Frequency', 'Schedule Basis',\n",
    "'# of Tiers', 'Transaction Lines From',\n",
    "'Calculation Level', 'Payment Level',\n",
    "'Payment Level'\n",
    "\n",
    "\n",
    "#,'Product ID'\n",
    "]"
   ]
  },
  {
   "cell_type": "code",
   "execution_count": null,
   "metadata": {},
   "outputs": [],
   "source": [
    "#####XML######\n",
    "# Getting numbers and list with products\n",
    "list_rebut = []\n",
    "Contract = tree.xpath('.//ContractOffer')\n",
    "for contract in Contract:\n",
    "    Program = contract.xpath('.//Program')\n",
    "    for program in Program:\n",
    "      Program = contract.xpath('.//Program')\n",
    "     #   Line = program.xpath('.//LineItem')\n",
    "      #  for line in Line:\n",
    "        list_rebut.append([contract.attrib['CustomerContractId'], contract.attrib['Customer'], \n",
    "        #contract.attrib['CtrtSubType'],\n",
    "#contract.attrib['StartDate'], contract.attrib['EndDate'], contract.attrib[''],\n",
    "        # program.attrib['SalesDealNo'], \n",
    "        program.attrib['Name'], program.attrib['StartDate'],program.attrib['EndDate'], program.attrib['SourceStrategyID'],\n",
    "        program.attrib['Tag3'], \n",
    "        #program.attrib['GrcFrequency'],\n",
    "        program.attrib['PaymentFrequency'],program.attrib['ScheduleBasis'],\n",
    "        program.attrib['NumTiers'],program.attrib['SaleLineFrom'],\n",
    "      #  program.attrib['Currency'],program.attrib['Description'],\n",
    "        program.attrib['Dimension'], program.attrib['PaymentLevelType'],\n",
    "        program.attrib['PaymentLevelType']\n",
    "        #program.attrib['PaymentCustomerType']\n",
    "       # , line.attrib['ProductNum']\n",
    "        ])\n",
    "       \n",
    "\n",
    "# dataframes\n",
    "xml_rebut = pd.DataFrame(list_rebut)\n",
    "xml_rebut.columns =['Contract ID',  'Customer',\n",
    "  'Price Program Name','Start Date', 'End Date', 'Strategy',\n",
    "\n",
    "'Rebate SubType', \n",
    "'Payment Frequency', 'Schedule Basis',\n",
    "'# of Tiers', 'Transaction Lines From',\n",
    "'Calculation Level', 'Payment Level',\n",
    "'Payment Level'\n",
    "\n",
    "\n",
    "#,'Product ID'\n",
    "]\n",
    "\n",
    "CFDefinitionSpreadSheets "
   ]
  },
  {
   "cell_type": "code",
   "execution_count": 73,
   "metadata": {},
   "outputs": [
    {
     "data": {
      "text/plain": [
       "Index(['Customer Contract ID', 'Program Name', 'Rebate SubType',\n",
       "       'Program Start Date', 'Program End Date', 'Calculation Level',\n",
       "       '# of Tiers', 'Payment Frequency', 'Payment Level',\n",
       "       'Transaction Lines From', 'Schedule Basis', 'Rebate Strategy', 'Tier',\n",
       "       'Tier Basis', 'Tier Benefit', 'Payment Method', 'Process Date Lag',\n",
       "       'Late Date Lag', 'Rebated Customer', 'Accrual Type', 'Accrual Rate',\n",
       "       'Accrue In ERP?', 'Ad. Fee Netting Rule', 'Rebate Product Inclusion',\n",
       "       'Products', 'Programs', 'Included Contracts', 'Excluded contracts',\n",
       "       'Basis 1 Products', 'Basis 1 Programs', 'Basis 1 Included Contracts',\n",
       "       'Basis 1 Excluded Contracts', 'Basis 2 Products', 'Basis 2 Programs',\n",
       "       'Basis 2 Included Contracts', 'Basis 2 Excluded Contracts', 'Baseline',\n",
       "       'Manual Baseline Value', 'Growth Type', 'Payment Method mapped',\n",
       "       'Payment Level mapped', 'Rebate SubType mapped',\n",
       "       'Payment Frequency mapped'],\n",
       "      dtype='object')"
      ]
     },
     "execution_count": 73,
     "metadata": {},
     "output_type": "execute_result"
    }
   ],
   "source": [
    "Currency=\"USD\" Description=\"Multi-Tier Strategy Type\" Dimension=\"SOLD_TO\" PaymentCustomerType=\"SOLD_TO_CUST\" EffectiveTimezoneID=\"America/New_York\" Enabled=\"true\" Flat=\"false\" GroupFilters=\"false\" IsAutoAggrActivated=\"true\" ModuleType=\"INCENTV\" NumFilterGroups=\"0\" OrderIndex=\"0\" SaleLineType=\"DIR\" Tag1=\"INCENTV.BASE.BAS\" TierManagementType=\"MULTI_TIER\" TpOverride=\"false\" Type=\"Multi-Tier\" UseNewEngine=\"true\">\n",
    "template.columns"
   ]
  },
  {
   "cell_type": "code",
   "execution_count": 139,
   "metadata": {},
   "outputs": [],
   "source": [
    "# splitting products\n",
    "template['Products']= template['Products'].astype(str)\n",
    "template['Products']  = template['Products'].apply(lambda x: x.split(','))\n",
    "template = template.explode('Products')\n",
    "template =template.reset_index(drop=True)\n"
   ]
  },
  {
   "cell_type": "code",
   "execution_count": 156,
   "metadata": {},
   "outputs": [],
   "source": [
    "# aggregating xml\n",
    "xml_gr = xml_rebut.groupby([ \n",
    "    'Contract ID',  'Strategy',\n",
    "'Price Program Name', \n",
    "]).size().reset_index(name='counts')"
   ]
  },
  {
   "cell_type": "code",
   "execution_count": 157,
   "metadata": {},
   "outputs": [],
   "source": [
    "# aggregating xml\n",
    "template_gr = template.groupby([ \n",
    "    'Customer Contract ID',  'Rebate Strategy', 'Program Name'\n",
    "]).size().reset_index(name='counts')"
   ]
  },
  {
   "cell_type": "code",
   "execution_count": 158,
   "metadata": {},
   "outputs": [
    {
     "data": {
      "text/plain": [
       "62"
      ]
     },
     "execution_count": 158,
     "metadata": {},
     "output_type": "execute_result"
    }
   ],
   "source": [
    "xml_gr.shape[0]"
   ]
  },
  {
   "cell_type": "code",
   "execution_count": 166,
   "metadata": {},
   "outputs": [],
   "source": [
    "# all the lines\n",
    "template['Customer Contract ID'] = pd.to_numeric(template['Customer Contract ID'])\n",
    "xml_rebut['Contract ID'] = pd.to_numeric(xml_rebut['Contract ID'])\n",
    "df_merged = pd.merge(template, xml_rebut,  how='outer', left_on=['Customer Contract ID', 'Program Name',  'Rebate Strategy'], right_on = ['Contract ID', \n",
    "'Price Program Name',  'Strategy'])"
   ]
  },
  {
   "cell_type": "code",
   "execution_count": 46,
   "metadata": {},
   "outputs": [],
   "source": [
    "# template_gr = template_gr[~template_gr['Rebate Strategy'].isin(['BSC_MS by Rev - Percent off Invoice',\n",
    "# 'BSC_Revenue - Net Price',\n",
    "# 'BSC_MS by Vol - Amt per Unit'\n",
    "# 'BSC_Revenue - Net Price',\n",
    "# 'BSC_MS by Rev - Percent off Invoice',\n",
    "# 'BSC_MS by Rev - Fixed Amt',\n",
    "# 'BSC_Revenue - Net Price',\n",
    "# 'BSC_Volume - Amt per Unit'])]\n",
    "\n"
   ]
  },
  {
   "cell_type": "code",
   "execution_count": 167,
   "metadata": {},
   "outputs": [],
   "source": [
    "def compare(df, col1, col2):\n",
    "    df[f'is {col1} the same?']= ''\n",
    "    for index in df.index:\n",
    "        if df[col1][index] == df[col2][index]:\n",
    "            df[f'is {col1} the same?'][index] = 'yes'\n",
    "        else:\n",
    "            df[f'is {col1} the same?'][index] = 'not'"
   ]
  },
  {
   "cell_type": "code",
   "execution_count": 168,
   "metadata": {},
   "outputs": [],
   "source": [
    "def mapped(df, col):\n",
    "    df[col] = df[col].astype('str')\n",
    "    df[col] = df[col].str.replace('lov.', '')"
   ]
  },
  {
   "cell_type": "code",
   "execution_count": 169,
   "metadata": {},
   "outputs": [],
   "source": [
    "df_merged = df_merged.iloc[:, :-1]"
   ]
  },
  {
   "cell_type": "code",
   "execution_count": 146,
   "metadata": {},
   "outputs": [
    {
     "data": {
      "text/plain": [
       "Index(['Customer Contract ID', 'Program Name', 'Rebate SubType_x',\n",
       "       'Program Start Date', 'Program End Date', 'Calculation Level_x',\n",
       "       '# of Tiers_x', 'Payment Frequency_x', 'Payment Level_x',\n",
       "       'Transaction Lines From_x', 'Schedule Basis_x', 'Rebate Strategy',\n",
       "       'Tier', 'Tier Basis', 'Tier Benefit', 'Payment Method',\n",
       "       'Process Date Lag', 'Late Date Lag', 'Rebated Customer', 'Accrual Type',\n",
       "       'Accrual Rate', 'Accrue In ERP?', 'Ad. Fee Netting Rule',\n",
       "       'Rebate Product Inclusion', 'Products', 'Programs',\n",
       "       'Included Contracts', 'Excluded contracts', 'Basis 1 Products',\n",
       "       'Basis 1 Programs', 'Basis 1 Included Contracts',\n",
       "       'Basis 1 Excluded Contracts', 'Basis 2 Products', 'Basis 2 Programs',\n",
       "       'Basis 2 Included Contracts', 'Basis 2 Excluded Contracts', 'Baseline',\n",
       "       'Manual Baseline Value', 'Growth Type', 'Payment Method mapped',\n",
       "       'Payment Level mapped', 'Rebate SubType mapped',\n",
       "       'Payment Frequency mapped', 'Transaction Line mapped',\n",
       "       'Schedule Basis mapped', 'Contract ID', 'Customer',\n",
       "       'Price Program Name', 'Start Date', 'End Date', 'Strategy',\n",
       "       'Rebate SubType_y', 'Payment Frequency_y', 'Schedule Basis_y',\n",
       "       '# of Tiers_y', 'Transaction Lines From_y', 'Calculation Level_y',\n",
       "       'Payment Level_y'],\n",
       "      dtype='object')"
      ]
     },
     "execution_count": 146,
     "metadata": {},
     "output_type": "execute_result"
    }
   ],
   "source": [
    "df_merged.columns"
   ]
  },
  {
   "cell_type": "code",
   "execution_count": 125,
   "metadata": {},
   "outputs": [
    {
     "name": "stderr",
     "output_type": "stream",
     "text": [
      "/var/folders/b3/52rfzyl51kv8hp5lk3vw_b6m0000gn/T/ipykernel_1251/3036421646.py:2: FutureWarning: The default value of regex will change from True to False in a future version.\n",
      "  df_merged['Payment Frequency mapped'] = df_merged['Payment Frequency mapped'].str.replace('lov.', '')\n",
      "/var/folders/b3/52rfzyl51kv8hp5lk3vw_b6m0000gn/T/ipykernel_1251/3036421646.py:4: FutureWarning: The default value of regex will change from True to False in a future version.\n",
      "  df_merged['Payment Level mapped'] = df_merged['Payment Level mapped'].str.replace('lov.', '')\n",
      "/var/folders/b3/52rfzyl51kv8hp5lk3vw_b6m0000gn/T/ipykernel_1251/3036421646.py:6: FutureWarning: The default value of regex will change from True to False in a future version.\n",
      "  df_merged['Rebate SubType mapped'] = df_merged['Rebate SubType mapped'].str.replace('lov.', '')\n",
      "/var/folders/b3/52rfzyl51kv8hp5lk3vw_b6m0000gn/T/ipykernel_1251/3036421646.py:8: FutureWarning: The default value of regex will change from True to False in a future version.\n",
      "  df_merged['Transaction Line mapped'] = df_merged['Transaction Line mapped'].str.replace('lov.', '')\n"
     ]
    }
   ],
   "source": [
    "# df_merged['Payment Frequency mapped'] = df_merged['Payment Frequency mapped'].astype('str')\n",
    "# df_merged['Payment Frequency mapped'] = df_merged['Payment Frequency mapped'].str.replace('lov.', '')\n",
    "# df_merged['Payment Level mapped'] = df_merged['Payment Level mapped'].astype('str')\n",
    "# df_merged['Payment Level mapped'] = df_merged['Payment Level mapped'].str.replace('lov.', '')\n",
    "# df_merged['Rebate SubType mapped'] = df_merged['Rebate SubType mapped'].astype('str')\n",
    "# df_merged['Rebate SubType mapped'] = df_merged['Rebate SubType mapped'].str.replace('lov.', '')\n",
    "# df_merged['Transaction Line mapped'] = df_merged['Transaction Line mapped'].astype('str')\n",
    "# df_merged['Transaction Line mapped'] = df_merged['Transaction Line mapped'].str.replace('lov.', '')\n",
    "# df_merged['Transaction Line mapped'] = df_merged['Transaction Line mapped'].astype('str')\n",
    "# df_merged['Transaction Line mapped'] = df_merged['Transaction Line mapped'].str.replace('lov.', '')\n",
    "# df_merged['Schedule Basis mapped'] = df_merged['Schedule Basis mapped'].astype('str')\n",
    "# df_merged['Transaction Line mapped'] = df_merged['Transaction Line mapped'].str.replace('lov.', '')"
   ]
  },
  {
   "cell_type": "code",
   "execution_count": 170,
   "metadata": {},
   "outputs": [
    {
     "name": "stderr",
     "output_type": "stream",
     "text": [
      "/var/folders/b3/52rfzyl51kv8hp5lk3vw_b6m0000gn/T/ipykernel_1251/1494122364.py:3: FutureWarning: The default value of regex will change from True to False in a future version.\n",
      "  df[col] = df[col].str.replace('lov.', '')\n"
     ]
    }
   ],
   "source": [
    "mapped(df_merged, 'Payment Frequency mapped')\n",
    "mapped(df_merged, 'Payment Level mapped')\n",
    "mapped(df_merged, 'Rebate SubType mapped')\n",
    "mapped(df_merged, 'Transaction Line mapped')\n",
    "mapped(df_merged, 'Schedule Basis mapped')"
   ]
  },
  {
   "cell_type": "code",
   "execution_count": 171,
   "metadata": {},
   "outputs": [],
   "source": [
    "\n",
    "df_merged['Start Date'] = pd.to_datetime(df_merged['Start Date'])\n",
    "df_merged['End Date'] = pd.to_datetime(df_merged['End Date'])\n",
    "df_merged['Program Start Date'] = pd.to_datetime(df_merged['Program Start Date'])\n",
    "df_merged['Program End Date'] = pd.to_datetime(df_merged['Program End Date'])"
   ]
  },
  {
   "cell_type": "code",
   "execution_count": 172,
   "metadata": {},
   "outputs": [
    {
     "name": "stderr",
     "output_type": "stream",
     "text": [
      "/var/folders/b3/52rfzyl51kv8hp5lk3vw_b6m0000gn/T/ipykernel_1251/934869976.py:7: SettingWithCopyWarning: \n",
      "A value is trying to be set on a copy of a slice from a DataFrame\n",
      "\n",
      "See the caveats in the documentation: https://pandas.pydata.org/pandas-docs/stable/user_guide/indexing.html#returning-a-view-versus-a-copy\n",
      "  df[f'is {col1} the same?'][index] = 'not'\n",
      "/var/folders/b3/52rfzyl51kv8hp5lk3vw_b6m0000gn/T/ipykernel_1251/934869976.py:5: SettingWithCopyWarning: \n",
      "A value is trying to be set on a copy of a slice from a DataFrame\n",
      "\n",
      "See the caveats in the documentation: https://pandas.pydata.org/pandas-docs/stable/user_guide/indexing.html#returning-a-view-versus-a-copy\n",
      "  df[f'is {col1} the same?'][index] = 'yes'\n",
      "/var/folders/b3/52rfzyl51kv8hp5lk3vw_b6m0000gn/T/ipykernel_1251/934869976.py:5: SettingWithCopyWarning: \n",
      "A value is trying to be set on a copy of a slice from a DataFrame\n",
      "\n",
      "See the caveats in the documentation: https://pandas.pydata.org/pandas-docs/stable/user_guide/indexing.html#returning-a-view-versus-a-copy\n",
      "  df[f'is {col1} the same?'][index] = 'yes'\n",
      "/var/folders/b3/52rfzyl51kv8hp5lk3vw_b6m0000gn/T/ipykernel_1251/934869976.py:5: SettingWithCopyWarning: \n",
      "A value is trying to be set on a copy of a slice from a DataFrame\n",
      "\n",
      "See the caveats in the documentation: https://pandas.pydata.org/pandas-docs/stable/user_guide/indexing.html#returning-a-view-versus-a-copy\n",
      "  df[f'is {col1} the same?'][index] = 'yes'\n",
      "/var/folders/b3/52rfzyl51kv8hp5lk3vw_b6m0000gn/T/ipykernel_1251/934869976.py:5: SettingWithCopyWarning: \n",
      "A value is trying to be set on a copy of a slice from a DataFrame\n",
      "\n",
      "See the caveats in the documentation: https://pandas.pydata.org/pandas-docs/stable/user_guide/indexing.html#returning-a-view-versus-a-copy\n",
      "  df[f'is {col1} the same?'][index] = 'yes'\n",
      "/var/folders/b3/52rfzyl51kv8hp5lk3vw_b6m0000gn/T/ipykernel_1251/934869976.py:5: SettingWithCopyWarning: \n",
      "A value is trying to be set on a copy of a slice from a DataFrame\n",
      "\n",
      "See the caveats in the documentation: https://pandas.pydata.org/pandas-docs/stable/user_guide/indexing.html#returning-a-view-versus-a-copy\n",
      "  df[f'is {col1} the same?'][index] = 'yes'\n",
      "/var/folders/b3/52rfzyl51kv8hp5lk3vw_b6m0000gn/T/ipykernel_1251/934869976.py:5: SettingWithCopyWarning: \n",
      "A value is trying to be set on a copy of a slice from a DataFrame\n",
      "\n",
      "See the caveats in the documentation: https://pandas.pydata.org/pandas-docs/stable/user_guide/indexing.html#returning-a-view-versus-a-copy\n",
      "  df[f'is {col1} the same?'][index] = 'yes'\n",
      "/var/folders/b3/52rfzyl51kv8hp5lk3vw_b6m0000gn/T/ipykernel_1251/934869976.py:5: SettingWithCopyWarning: \n",
      "A value is trying to be set on a copy of a slice from a DataFrame\n",
      "\n",
      "See the caveats in the documentation: https://pandas.pydata.org/pandas-docs/stable/user_guide/indexing.html#returning-a-view-versus-a-copy\n",
      "  df[f'is {col1} the same?'][index] = 'yes'\n",
      "/var/folders/b3/52rfzyl51kv8hp5lk3vw_b6m0000gn/T/ipykernel_1251/934869976.py:5: SettingWithCopyWarning: \n",
      "A value is trying to be set on a copy of a slice from a DataFrame\n",
      "\n",
      "See the caveats in the documentation: https://pandas.pydata.org/pandas-docs/stable/user_guide/indexing.html#returning-a-view-versus-a-copy\n",
      "  df[f'is {col1} the same?'][index] = 'yes'\n"
     ]
    }
   ],
   "source": [
    "compare(df_merged, 'Calculation Level_x', 'Calculation Level_y')\n",
    "df_merged['# of Tiers_x'] = pd.to_numeric(df_merged['# of Tiers_x'])\n",
    "df_merged['# of Tiers_y'] = pd.to_numeric(df_merged['# of Tiers_y'])\n",
    "compare(df_merged, '# of Tiers_x', '# of Tiers_y')\n",
    "compare(df_merged, 'Payment Frequency mapped', 'Payment Frequency_y')\n",
    "compare(df_merged, 'Payment Level mapped', 'Payment Level_y')\n",
    "compare(df_merged, 'Rebate SubType mapped', 'Rebate SubType_y')\n",
    "#compare(df_merged, 'Payment Method mapped', 'Payment Method_y')\n",
    "compare(df_merged, 'Transaction Line mapped', 'Transaction Lines From_y')\n",
    "compare(df_merged, 'Schedule Basis mapped', 'Schedule Basis_y')\n",
    "compare(df_merged, 'Program Start Date', 'Start Date')\n",
    "compare(df_merged, 'Program End Date', 'End Date')\n",
    "\n",
    "\n",
    "\n",
    "\n",
    "\n"
   ]
  },
  {
   "cell_type": "code",
   "execution_count": 174,
   "metadata": {},
   "outputs": [],
   "source": [
    "df_merged.to_excel('check.xlsx')"
   ]
  },
  {
   "cell_type": "code",
   "execution_count": 153,
   "metadata": {},
   "outputs": [
    {
     "data": {
      "text/html": [
       "<div>\n",
       "<style scoped>\n",
       "    .dataframe tbody tr th:only-of-type {\n",
       "        vertical-align: middle;\n",
       "    }\n",
       "\n",
       "    .dataframe tbody tr th {\n",
       "        vertical-align: top;\n",
       "    }\n",
       "\n",
       "    .dataframe thead th {\n",
       "        text-align: right;\n",
       "    }\n",
       "</style>\n",
       "<table border=\"1\" class=\"dataframe\">\n",
       "  <thead>\n",
       "    <tr style=\"text-align: right;\">\n",
       "      <th></th>\n",
       "      <th>Calculation Level_x</th>\n",
       "      <th>Calculation Level_y</th>\n",
       "    </tr>\n",
       "  </thead>\n",
       "  <tbody>\n",
       "    <tr>\n",
       "      <th>0</th>\n",
       "      <td>Product, Sold-to</td>\n",
       "      <td>SOLD_TO</td>\n",
       "    </tr>\n",
       "    <tr>\n",
       "      <th>1</th>\n",
       "      <td>Product, Sold-to</td>\n",
       "      <td>SOLD_TO</td>\n",
       "    </tr>\n",
       "    <tr>\n",
       "      <th>2</th>\n",
       "      <td>Product, Sold-to</td>\n",
       "      <td>SOLD_TO</td>\n",
       "    </tr>\n",
       "    <tr>\n",
       "      <th>3</th>\n",
       "      <td>Product, Sold-to</td>\n",
       "      <td>SOLD_TO</td>\n",
       "    </tr>\n",
       "    <tr>\n",
       "      <th>4</th>\n",
       "      <td>Product, Sold-to</td>\n",
       "      <td>SOLD_TO</td>\n",
       "    </tr>\n",
       "    <tr>\n",
       "      <th>...</th>\n",
       "      <td>...</td>\n",
       "      <td>...</td>\n",
       "    </tr>\n",
       "    <tr>\n",
       "      <th>123</th>\n",
       "      <td>Product</td>\n",
       "      <td>SOLD_TO</td>\n",
       "    </tr>\n",
       "    <tr>\n",
       "      <th>124</th>\n",
       "      <td>Product</td>\n",
       "      <td>SOLD_TO</td>\n",
       "    </tr>\n",
       "    <tr>\n",
       "      <th>125</th>\n",
       "      <td>Product, Sold-to</td>\n",
       "      <td>SOLD_TO</td>\n",
       "    </tr>\n",
       "    <tr>\n",
       "      <th>126</th>\n",
       "      <td>Product, Sold-to</td>\n",
       "      <td>SOLD_TO</td>\n",
       "    </tr>\n",
       "    <tr>\n",
       "      <th>127</th>\n",
       "      <td>Product</td>\n",
       "      <td>SOLD_TO</td>\n",
       "    </tr>\n",
       "  </tbody>\n",
       "</table>\n",
       "<p>128 rows × 2 columns</p>\n",
       "</div>"
      ],
      "text/plain": [
       "    Calculation Level_x Calculation Level_y\n",
       "0      Product, Sold-to             SOLD_TO\n",
       "1      Product, Sold-to             SOLD_TO\n",
       "2      Product, Sold-to             SOLD_TO\n",
       "3      Product, Sold-to             SOLD_TO\n",
       "4      Product, Sold-to             SOLD_TO\n",
       "..                  ...                 ...\n",
       "123             Product             SOLD_TO\n",
       "124             Product             SOLD_TO\n",
       "125    Product, Sold-to             SOLD_TO\n",
       "126    Product, Sold-to             SOLD_TO\n",
       "127             Product             SOLD_TO\n",
       "\n",
       "[128 rows x 2 columns]"
      ]
     },
     "execution_count": 153,
     "metadata": {},
     "output_type": "execute_result"
    }
   ],
   "source": [
    "df_merged[['Calculation Level_x','Calculation Level_y']]"
   ]
  },
  {
   "cell_type": "code",
   "execution_count": null,
   "metadata": {},
   "outputs": [],
   "source": []
  },
  {
   "cell_type": "code",
   "execution_count": null,
   "metadata": {},
   "outputs": [],
   "source": []
  },
  {
   "cell_type": "code",
   "execution_count": null,
   "metadata": {},
   "outputs": [],
   "source": []
  },
  {
   "cell_type": "code",
   "execution_count": null,
   "metadata": {},
   "outputs": [],
   "source": []
  },
  {
   "cell_type": "code",
   "execution_count": 59,
   "metadata": {},
   "outputs": [],
   "source": [
    "template_gr['Customer Contract ID'] = pd.to_numeric(template_gr['Customer Contract ID'])\n",
    "xml_gr['Contract ID'] = pd.to_numeric(xml_gr['Contract ID'])"
   ]
  },
  {
   "cell_type": "code",
   "execution_count": 60,
   "metadata": {},
   "outputs": [],
   "source": [
    "df_merged = pd.merge(template_gr, xml_gr,  how='outer', left_on=['Customer Contract ID', 'Program Name',  'Rebate Strategy'], right_on = ['Contract ID', \n",
    "'Price Program Name',  'Strategy'])"
   ]
  },
  {
   "cell_type": "code",
   "execution_count": 61,
   "metadata": {},
   "outputs": [],
   "source": [
    "df_merged.rename(columns = {'counts_x':'count from excel', 'counts_y':'count from xml'}, inplace = True)"
   ]
  },
  {
   "cell_type": "code",
   "execution_count": 62,
   "metadata": {},
   "outputs": [
    {
     "name": "stderr",
     "output_type": "stream",
     "text": [
      "  0%|          | 0/62 [00:00<?, ?it/s]/var/folders/b3/52rfzyl51kv8hp5lk3vw_b6m0000gn/T/ipykernel_3268/896799660.py:5: SettingWithCopyWarning: \n",
      "A value is trying to be set on a copy of a slice from a DataFrame\n",
      "\n",
      "See the caveats in the documentation: https://pandas.pydata.org/pandas-docs/stable/user_guide/indexing.html#returning-a-view-versus-a-copy\n",
      "  df_merged['Are the same?'][index] = 'yes'\n",
      "100%|██████████| 62/62 [00:00<00:00, 7780.01it/s]\n"
     ]
    }
   ],
   "source": [
    "# checking if the same\n",
    "df_merged['Are the same?'] = ''\n",
    "for index in tqdm(df_merged.index):\n",
    "    if df_merged['count from xml'][index] == df_merged['count from excel'][index]:\n",
    "        df_merged['Are the same?'][index] = 'yes'\n",
    "    else:\n",
    "        df_merged['Are the same?'][index] = 'no'\n",
    "df_merged.to_excel(f'{path}/result counts5.xlsx')"
   ]
  },
  {
   "cell_type": "code",
   "execution_count": 155,
   "metadata": {},
   "outputs": [],
   "source": [
    "df_merged.to_excel('checked.xlsx')"
   ]
  }
 ],
 "metadata": {
  "kernelspec": {
   "display_name": "Python 3.9.13 64-bit",
   "language": "python",
   "name": "python3"
  },
  "language_info": {
   "codemirror_mode": {
    "name": "ipython",
    "version": 3
   },
   "file_extension": ".py",
   "mimetype": "text/x-python",
   "name": "python",
   "nbconvert_exporter": "python",
   "pygments_lexer": "ipython3",
   "version": "3.9.13"
  },
  "orig_nbformat": 4,
  "vscode": {
   "interpreter": {
    "hash": "aee8b7b246df8f9039afb4144a1f6fd8d2ca17a180786b69acc140d282b71a49"
   }
  }
 },
 "nbformat": 4,
 "nbformat_minor": 2
}
