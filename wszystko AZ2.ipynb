{
 "cells": [
  {
   "cell_type": "code",
   "execution_count": 41,
   "metadata": {},
   "outputs": [],
   "source": [
    "from lxml import etree\n",
    "import pandas as pd\n",
    "from tqdm import tqdm\n",
    "import os\n",
    "\n"
   ]
  },
  {
   "cell_type": "code",
   "execution_count": 42,
   "metadata": {},
   "outputs": [],
   "source": [
    "#setup\n",
    "path = 'output_xml 2023-03-15 AZ'\n",
    "xml_file = 'DFT_20230316-124132-All Contracts.xml'\n",
    "excel_file = '2023-03-15 AZ MN Template for External Contracts - Tiered Line Item 15March.xlsx'\n",
    "sheet_name = 'Tiered Line Item - TEMPLATE'\n"
   ]
  },
  {
   "cell_type": "code",
   "execution_count": 43,
   "metadata": {},
   "outputs": [],
   "source": [
    "# Opening excel and xml file\n",
    "tree = etree.parse(f'{path}/{xml_file}')\n",
    "root=tree.getroot()\n",
    "excel = pd.read_excel(f'{path}/{excel_file}', header = 3, sheet_name=f'{sheet_name}')\n",
    "#load = pd.read_excel(f'{path}/{load_file}')\n",
    "df_log = pd.read_csv(f'{path}/logs.csv', header=None)"
   ]
  },
  {
   "cell_type": "code",
   "execution_count": 24,
   "metadata": {},
   "outputs": [
    {
     "data": {
      "text/plain": [
       "0         09H4602\n",
       "1         09H4702\n",
       "2         09H4802\n",
       "3         09H5301\n",
       "4         09H6003\n",
       "           ...   \n",
       "126131    09P8620\n",
       "126132    09P8624\n",
       "126133    09P9220\n",
       "126134    09P9320\n",
       "126135    09P9422\n",
       "Name: Product ID, Length: 126136, dtype: object"
      ]
     },
     "execution_count": 24,
     "metadata": {},
     "output_type": "execute_result"
    }
   ],
   "source": [
    "excel[\"Product ID\"]"
   ]
  },
  {
   "cell_type": "code",
   "execution_count": 45,
   "metadata": {},
   "outputs": [
    {
     "ename": "ValueError",
     "evalue": "Length mismatch: Expected axis has 6 elements, new values have 4 elements",
     "output_type": "error",
     "traceback": [
      "\u001b[0;31m---------------------------------------------------------------------------\u001b[0m",
      "\u001b[0;31mValueError\u001b[0m                                Traceback (most recent call last)",
      "\u001b[1;32m/Users/agnieszka/Desktop/testy luty pk/wszystko AZ.ipynb Cell 5\u001b[0m in \u001b[0;36m<cell line: 2>\u001b[0;34m()\u001b[0m\n\u001b[1;32m      <a href='vscode-notebook-cell:/Users/agnieszka/Desktop/testy%20luty%20pk/wszystko%20AZ.ipynb#ch0000003?line=0'>1</a>\u001b[0m \u001b[39m# saving removed products as list\u001b[39;00m\n\u001b[0;32m----> <a href='vscode-notebook-cell:/Users/agnieszka/Desktop/testy%20luty%20pk/wszystko%20AZ.ipynb#ch0000003?line=1'>2</a>\u001b[0m df_log\u001b[39m.\u001b[39mcolumns\u001b[39m=\u001b[39m[\u001b[39m'\u001b[39m\u001b[39mt\u001b[39m\u001b[39m'\u001b[39m, \u001b[39m'\u001b[39m\u001b[39md\u001b[39m\u001b[39m'\u001b[39m, \u001b[39m'\u001b[39m\u001b[39ma\u001b[39m\u001b[39m'\u001b[39m, \u001b[39m'\u001b[39m\u001b[39mc\u001b[39m\u001b[39m'\u001b[39m]\n\u001b[1;32m      <a href='vscode-notebook-cell:/Users/agnieszka/Desktop/testy%20luty%20pk/wszystko%20AZ.ipynb#ch0000003?line=2'>3</a>\u001b[0m df_log[[\u001b[39m'\u001b[39m\u001b[39mA\u001b[39m\u001b[39m'\u001b[39m, \u001b[39m'\u001b[39m\u001b[39mB\u001b[39m\u001b[39m'\u001b[39m]] \u001b[39m=\u001b[39m df_log[\u001b[39m'\u001b[39m\u001b[39ma\u001b[39m\u001b[39m'\u001b[39m]\u001b[39m.\u001b[39mstr\u001b[39m.\u001b[39msplit(\u001b[39m'\u001b[39m\u001b[39m: \u001b[39m\u001b[39m'\u001b[39m, \u001b[39m1\u001b[39m, expand\u001b[39m=\u001b[39m\u001b[39mTrue\u001b[39;00m)\n\u001b[1;32m      <a href='vscode-notebook-cell:/Users/agnieszka/Desktop/testy%20luty%20pk/wszystko%20AZ.ipynb#ch0000003?line=3'>4</a>\u001b[0m removed \u001b[39m=\u001b[39m df_log[[\u001b[39m'\u001b[39m\u001b[39mB\u001b[39m\u001b[39m'\u001b[39m]]\n",
      "File \u001b[0;32m/Library/Frameworks/Python.framework/Versions/3.9/lib/python3.9/site-packages/pandas/core/generic.py:5588\u001b[0m, in \u001b[0;36mNDFrame.__setattr__\u001b[0;34m(self, name, value)\u001b[0m\n\u001b[1;32m   5586\u001b[0m \u001b[39mtry\u001b[39;00m:\n\u001b[1;32m   5587\u001b[0m     \u001b[39mobject\u001b[39m\u001b[39m.\u001b[39m\u001b[39m__getattribute__\u001b[39m(\u001b[39mself\u001b[39m, name)\n\u001b[0;32m-> 5588\u001b[0m     \u001b[39mreturn\u001b[39;00m \u001b[39mobject\u001b[39;49m\u001b[39m.\u001b[39;49m\u001b[39m__setattr__\u001b[39;49m(\u001b[39mself\u001b[39;49m, name, value)\n\u001b[1;32m   5589\u001b[0m \u001b[39mexcept\u001b[39;00m \u001b[39mAttributeError\u001b[39;00m:\n\u001b[1;32m   5590\u001b[0m     \u001b[39mpass\u001b[39;00m\n",
      "File \u001b[0;32m/Library/Frameworks/Python.framework/Versions/3.9/lib/python3.9/site-packages/pandas/_libs/properties.pyx:70\u001b[0m, in \u001b[0;36mpandas._libs.properties.AxisProperty.__set__\u001b[0;34m()\u001b[0m\n",
      "File \u001b[0;32m/Library/Frameworks/Python.framework/Versions/3.9/lib/python3.9/site-packages/pandas/core/generic.py:769\u001b[0m, in \u001b[0;36mNDFrame._set_axis\u001b[0;34m(self, axis, labels)\u001b[0m\n\u001b[1;32m    767\u001b[0m \u001b[39mdef\u001b[39;00m \u001b[39m_set_axis\u001b[39m(\u001b[39mself\u001b[39m, axis: \u001b[39mint\u001b[39m, labels: Index) \u001b[39m-\u001b[39m\u001b[39m>\u001b[39m \u001b[39mNone\u001b[39;00m:\n\u001b[1;32m    768\u001b[0m     labels \u001b[39m=\u001b[39m ensure_index(labels)\n\u001b[0;32m--> 769\u001b[0m     \u001b[39mself\u001b[39;49m\u001b[39m.\u001b[39;49m_mgr\u001b[39m.\u001b[39;49mset_axis(axis, labels)\n\u001b[1;32m    770\u001b[0m     \u001b[39mself\u001b[39m\u001b[39m.\u001b[39m_clear_item_cache()\n",
      "File \u001b[0;32m/Library/Frameworks/Python.framework/Versions/3.9/lib/python3.9/site-packages/pandas/core/internals/managers.py:214\u001b[0m, in \u001b[0;36mBaseBlockManager.set_axis\u001b[0;34m(self, axis, new_labels)\u001b[0m\n\u001b[1;32m    212\u001b[0m \u001b[39mdef\u001b[39;00m \u001b[39mset_axis\u001b[39m(\u001b[39mself\u001b[39m, axis: \u001b[39mint\u001b[39m, new_labels: Index) \u001b[39m-\u001b[39m\u001b[39m>\u001b[39m \u001b[39mNone\u001b[39;00m:\n\u001b[1;32m    213\u001b[0m     \u001b[39m# Caller is responsible for ensuring we have an Index object.\u001b[39;00m\n\u001b[0;32m--> 214\u001b[0m     \u001b[39mself\u001b[39;49m\u001b[39m.\u001b[39;49m_validate_set_axis(axis, new_labels)\n\u001b[1;32m    215\u001b[0m     \u001b[39mself\u001b[39m\u001b[39m.\u001b[39maxes[axis] \u001b[39m=\u001b[39m new_labels\n",
      "File \u001b[0;32m/Library/Frameworks/Python.framework/Versions/3.9/lib/python3.9/site-packages/pandas/core/internals/base.py:69\u001b[0m, in \u001b[0;36mDataManager._validate_set_axis\u001b[0;34m(self, axis, new_labels)\u001b[0m\n\u001b[1;32m     66\u001b[0m     \u001b[39mpass\u001b[39;00m\n\u001b[1;32m     68\u001b[0m \u001b[39melif\u001b[39;00m new_len \u001b[39m!=\u001b[39m old_len:\n\u001b[0;32m---> 69\u001b[0m     \u001b[39mraise\u001b[39;00m \u001b[39mValueError\u001b[39;00m(\n\u001b[1;32m     70\u001b[0m         \u001b[39mf\u001b[39m\u001b[39m\"\u001b[39m\u001b[39mLength mismatch: Expected axis has \u001b[39m\u001b[39m{\u001b[39;00mold_len\u001b[39m}\u001b[39;00m\u001b[39m elements, new \u001b[39m\u001b[39m\"\u001b[39m\n\u001b[1;32m     71\u001b[0m         \u001b[39mf\u001b[39m\u001b[39m\"\u001b[39m\u001b[39mvalues have \u001b[39m\u001b[39m{\u001b[39;00mnew_len\u001b[39m}\u001b[39;00m\u001b[39m elements\u001b[39m\u001b[39m\"\u001b[39m\n\u001b[1;32m     72\u001b[0m     )\n",
      "\u001b[0;31mValueError\u001b[0m: Length mismatch: Expected axis has 6 elements, new values have 4 elements"
     ]
    }
   ],
   "source": [
    "# saving removed products as list\n",
    "df_log.columns=['t', 'd', 'a', 'c']\n",
    "df_log[['A', 'B']] = df_log['a'].str.split(': ', 1, expand=True)\n",
    "removed = df_log[['B']]\n",
    "removed[['A', 'B']] = df_log['B'].str.split('_', 1, expand=True)\n",
    "removed['A'] = removed['A'].str.replace(\"-\", \"\")\n",
    "removed = removed['A']\n",
    "removed = list(removed.drop_duplicates(keep='last'))"
   ]
  },
  {
   "cell_type": "code",
   "execution_count": 46,
   "metadata": {},
   "outputs": [
    {
     "name": "stderr",
     "output_type": "stream",
     "text": [
      "100%|██████████| 126136/126136 [00:01<00:00, 107651.60it/s]\n"
     ]
    }
   ],
   "source": [
    "# removing products from log from excel\n",
    "for index in tqdm(excel.index):\n",
    "    if excel['Product ID'][index] in removed:\n",
    "        excel.drop([index], axis=0, inplace=True)"
   ]
  },
  {
   "cell_type": "code",
   "execution_count": 47,
   "metadata": {},
   "outputs": [],
   "source": [
    "# count of products\n",
    "excel_gr = excel.groupby(['Alternate Contract Id','Customer ID', \n",
    "'Price Program Name']).size().reset_index(name='counts')\n"
   ]
  },
  {
   "cell_type": "code",
   "execution_count": 48,
   "metadata": {},
   "outputs": [],
   "source": [
    "# Getting numbers and list with products\n",
    "number_contracts = 0\n",
    "number_lines = 0\n",
    "\n",
    "list_all_extended = []\n",
    "Contract = tree.xpath('.//ContractOffer')\n",
    "for contract in Contract:\n",
    "    number_contracts += 1\n",
    "    Program = contract.xpath('.//Program')\n",
    "    number_programs = 0\n",
    "    for program in Program:\n",
    "        number_programs += 1\n",
    "        Cfd = program.xpath('.//CFDefinitionSpreadSheets')\n",
    "        number_products = 0\n",
    "        if program.attrib['SourceStrategyID'] == 'AbbottTieredLineItemPricingStrategy':\n",
    "            Product = program.xpath('.//ProductLI')\n",
    "            for product in Product:\n",
    "                number_products += 1\n",
    "                number_lines += 1\n",
    "                Price = product.xpath('.//TieredLIPrices')\n",
    "                for price in Price:\n",
    "                    try:\n",
    "                        list_all_extended.append([contract.attrib['Customer'], contract.attrib['AlternateId'],contract.attrib['StartDate'],contract.attrib['EndDate'],\n",
    "                        contract.attrib['OrgUnitName'],contract.attrib['DocName'], contract.attrib['Currency'],\n",
    "                        program.attrib['Name'], program.attrib['BusinessSegment'], program.attrib['PaymentFrequency'],\n",
    "                        program.attrib['ContractStartDate'],program.attrib['EndDate'],\n",
    "                        product.attrib['ProductNum'], \n",
    "                        product.attrib['StartEffectiveDate'], product.attrib['EndEffectiveDate'],\n",
    "                        price.attrib['PriceHigh'], price.attrib['TierVolume']])\n",
    "\n",
    "                    except:\n",
    "                        list_all_extended.append([contract.attrib['Customer'], contract.attrib['AlternateId'],contract.attrib['StartDate'],contract.attrib['EndDate'],\n",
    "                        contract.attrib['OrgUnitName'],contract.attrib['DocName'],contract.attrib['Currency'],\n",
    "                        program.attrib['Name'], program.attrib['BusinessSegment'],program.attrib['PaymentFrequency'],\n",
    "                        program.attrib['ContractStartDate'],program.attrib['EndDate'],\n",
    "                        product.attrib['ProductNum'],\n",
    "                        product.attrib['StartEffectiveDate'], product.attrib['EndEffectiveDate'],\n",
    "                        price.attrib['AltUomPrice'], price.attrib['TierVolume']])\n",
    "                        \n",
    "        elif program.attrib['SourceStrategyID'] == 'AbbottDOLPricingStrategy':\n",
    "            Discount = program.xpath('.//DiscountOffListLI')\n",
    "            for discount in Discount:\n",
    "                number_products += 1\n",
    "                number_lines += 1\n",
    "                Price = discount.xpath('.//LIPrices')\n",
    "                for price in Price:\n",
    "                    try:\n",
    "                        list_all_extended.append([contract.attrib['Customer'], contract.attrib['AlternateId'],contract.attrib['StartDate'],contract.attrib['EndDate'],\n",
    "                        contract.attrib['OrgUnitName'],contract.attrib['DocName'],contract.attrib['Currency'],\n",
    "                        program.attrib['Name'], program.attrib['BusinessSegment'],program.attrib['PaymentFrequency'],\n",
    "                        program.attrib['ContractStartDate'],program.attrib['EndDate'],\n",
    "                        discount.attrib['ProductNum'],\n",
    "                        discount.attrib['StartEffectiveDate'], discount.attrib['EndEffectiveDate'],\n",
    "                        price.attrib['PriceHigh'], ''])\n",
    "\n",
    "                    except:\n",
    "                        list_all_extended.append([contract.attrib['Customer'], contract.attrib['AlternateId'],contract.attrib['StartDate'],contract.attrib['EndDate'],\n",
    "                        contract.attrib['OrgUnitName'],contract.attrib['DocName'],contract.attrib['Currency'],\n",
    "                        program.attrib['Name'], program.attrib['BusinessSegment'],program.attrib['PaymentFrequency'],\n",
    "                        program.attrib['ContractStartDate'],program.attrib['EndDate'],\n",
    "                        discount.attrib['ProductNum'],\n",
    "                        discount.attrib['StartEffectiveDate'], discount.attrib['EndEffectiveDate'],\n",
    "                        price.attrib['AltUomPrice'], ''])\n",
    "\n",
    "    \n",
    "            \n",
    "  "
   ]
  },
  {
   "cell_type": "code",
   "execution_count": 51,
   "metadata": {},
   "outputs": [
    {
     "ename": "IndentationError",
     "evalue": "unexpected indent (1309446268.py, line 8)",
     "output_type": "error",
     "traceback": [
      "\u001b[0;36m  Input \u001b[0;32mIn [51]\u001b[0;36m\u001b[0m\n\u001b[0;31m    for cfd in Cfd:\u001b[0m\n\u001b[0m    ^\u001b[0m\n\u001b[0;31mIndentationError\u001b[0m\u001b[0;31m:\u001b[0m unexpected indent\n"
     ]
    }
   ],
   "source": [
    "# cfd\n",
    "list_all_cfd = []\n",
    "Contract = tree.xpath('.//ContractOffer')\n",
    "for contract in Contract:\n",
    "    Program = contract.xpath('.//Program')\n",
    "    for program in Program:\n",
    "        Cfd = program.xpath('.//CFDefinitionSpreadSheets')\n",
    "                for cfd in Cfd:\n",
    "                        Cfdspr = program.xpath('.//CFDefSpreadSheetRecords')\n",
    "                        for cfdspr in Cfdspr:\n",
    "                                if cfdspr.attrib('Value1')=='ComplianceThreshold':\n",
    "                                        list_all_cfd.append([contract.attrib['Customer'], contract.attrib['AlternateId'],\n",
    "                                        program.attrib['Name'], \n",
    "                                        cfdspr.attrib['Value2'],'',''])\n",
    "                                       \n",
    "                                if cfdspr.attrib('Value1')==\"VolumeTimeframe\":\n",
    "                                        list_all_cfd.append([contract.attrib['Customer'], contract.attrib['AlternateId'],\n",
    "                                        program.attrib['Name'], \n",
    "                                        '',cfdspr.attrib['Value2'],''])\n",
    "                                if cfdspr.attrib('Value1')=='UnitOfPricing':\n",
    "                                        list_all_cfd.append([contract.attrib['Customer'], contract.attrib['AlternateId'],\n",
    "                                        program.attrib['Name'], '','',\n",
    "                                        cfdspr.attrib['Value2']])\n",
    "                                       \n",
    "                                       \n",
    "                                if cfdspr.attrib('Value1')==\"VolumeTimeframe\":\n",
    "                                        list_all_cfd.append([contract.attrib['Customer'], contract.attrib['AlternateId'],\n",
    "                                        program.attrib['Name'], \n",
    "                                        '',cfdspr.attrib['Value2']])\n",
    "                                       \n"
   ]
  },
  {
   "cell_type": "code",
   "execution_count": 49,
   "metadata": {},
   "outputs": [],
   "source": [
    "# dataframes\n",
    "\n",
    "df_all_extended = pd.DataFrame(list_all_extended)\n",
    "df_all_extended.columns =['Customer ID','Alternate Contract Id', 'Contract Start Date','Contract End Date',\n",
    "'Organization', 'Name', 'Currency',\n",
    "'Price Program Name', 'Business Segment','Tier Timeframe',\n",
    "'Program Start Date', 'Program End Date',\n",
    "'Product ID', 'Product Start Date', 'Product End Date', 'Price', 'Units']\n",
    "excel_extended = excel[['Customer ID','Alternate Contract Id', 'Start Date', 'End Date',\n",
    "'Organization', 'Name','Currency',\n",
    "'Price Program Name', 'Business Segment','Tier Timeframe',\n",
    "'Program Start Date', 'Program End Date',\n",
    " 'Product ID', 'Product Start Date', 'Product End Date', 'Tier 1 Price','Tier 1 Units']]\n"
   ]
  },
  {
   "cell_type": "code",
   "execution_count": 60,
   "metadata": {},
   "outputs": [
    {
     "ename": "NameError",
     "evalue": "name 'list_all_cfd' is not defined",
     "output_type": "error",
     "traceback": [
      "\u001b[0;31m---------------------------------------------------------------------------\u001b[0m",
      "\u001b[0;31mNameError\u001b[0m                                 Traceback (most recent call last)",
      "\u001b[1;32m/Users/agnieszka/Desktop/testy luty pk/wszystko AZ.ipynb Cell 9\u001b[0m in \u001b[0;36m<cell line: 1>\u001b[0;34m()\u001b[0m\n\u001b[0;32m----> <a href='vscode-notebook-cell:/Users/agnieszka/Desktop/testy%20luty%20pk/wszystko%20AZ.ipynb#ch0000019?line=0'>1</a>\u001b[0m df_all_cfd \u001b[39m=\u001b[39m pd\u001b[39m.\u001b[39mDataFrame(list_all_cfd)\n\u001b[1;32m      <a href='vscode-notebook-cell:/Users/agnieszka/Desktop/testy%20luty%20pk/wszystko%20AZ.ipynb#ch0000019?line=1'>2</a>\u001b[0m df_all_cfd\u001b[39m.\u001b[39mcolumns \u001b[39m=\u001b[39m[\u001b[39m'\u001b[39m\u001b[39mCustomer ID\u001b[39m\u001b[39m'\u001b[39m,\u001b[39m'\u001b[39m\u001b[39mAlternate Contract Id\u001b[39m\u001b[39m'\u001b[39m, \n\u001b[1;32m      <a href='vscode-notebook-cell:/Users/agnieszka/Desktop/testy%20luty%20pk/wszystko%20AZ.ipynb#ch0000019?line=2'>3</a>\u001b[0m \u001b[39m'\u001b[39m\u001b[39mPrice Program Name\u001b[39m\u001b[39m'\u001b[39m, \n\u001b[1;32m      <a href='vscode-notebook-cell:/Users/agnieszka/Desktop/testy%20luty%20pk/wszystko%20AZ.ipynb#ch0000019?line=3'>4</a>\u001b[0m \u001b[39m'\u001b[39m\u001b[39mCompliance Threshold\u001b[39m\u001b[39m'\u001b[39m, \u001b[39m'\u001b[39m\u001b[39mVolume Timeframe\u001b[39m\u001b[39m'\u001b[39m,\u001b[39m'\u001b[39m\u001b[39m Unit of Pricing\u001b[39m\u001b[39m'\u001b[39m]\n\u001b[1;32m      <a href='vscode-notebook-cell:/Users/agnieszka/Desktop/testy%20luty%20pk/wszystko%20AZ.ipynb#ch0000019?line=4'>5</a>\u001b[0m excel_all_cfd \u001b[39m=\u001b[39mexcel[[\u001b[39m'\u001b[39m\u001b[39mCustomer ID\u001b[39m\u001b[39m'\u001b[39m,\u001b[39m'\u001b[39m\u001b[39mAlternate Contract Id\u001b[39m\u001b[39m'\u001b[39m, \n\u001b[1;32m      <a href='vscode-notebook-cell:/Users/agnieszka/Desktop/testy%20luty%20pk/wszystko%20AZ.ipynb#ch0000019?line=5'>6</a>\u001b[0m \u001b[39m'\u001b[39m\u001b[39mPrice Program Name\u001b[39m\u001b[39m'\u001b[39m, \n\u001b[1;32m      <a href='vscode-notebook-cell:/Users/agnieszka/Desktop/testy%20luty%20pk/wszystko%20AZ.ipynb#ch0000019?line=6'>7</a>\u001b[0m \u001b[39m'\u001b[39m\u001b[39mCompliance Threshold\u001b[39m\u001b[39m'\u001b[39m, \u001b[39m'\u001b[39m\u001b[39mVolume Timeframe\u001b[39m\u001b[39m'\u001b[39m, \u001b[39m'\u001b[39m\u001b[39mUnit of Pricing\u001b[39m\u001b[39m'\u001b[39m]]\n",
      "\u001b[0;31mNameError\u001b[0m: name 'list_all_cfd' is not defined"
     ]
    }
   ],
   "source": [
    "df_all_cfd = pd.DataFrame(list_all_cfd)\n",
    "df_all_cfd.columns =['Customer ID','Alternate Contract Id', \n",
    "'Price Program Name', \n",
    "'Compliance Threshold', 'Volume Timeframe',' Unit of Pricing']\n",
    "excel_all_cfd =excel[['Customer ID','Alternate Contract Id', \n",
    "'Price Program Name', \n",
    "'Compliance Threshold', 'Volume Timeframe', 'Unit of Pricing']]\n"
   ]
  },
  {
   "cell_type": "code",
   "execution_count": 50,
   "metadata": {},
   "outputs": [
    {
     "name": "stderr",
     "output_type": "stream",
     "text": [
      "/var/folders/b3/52rfzyl51kv8hp5lk3vw_b6m0000gn/T/ipykernel_2166/1747344345.py:2: SettingWithCopyWarning: \n",
      "A value is trying to be set on a copy of a slice from a DataFrame.\n",
      "Try using .loc[row_indexer,col_indexer] = value instead\n",
      "\n",
      "See the caveats in the documentation: https://pandas.pydata.org/pandas-docs/stable/user_guide/indexing.html#returning-a-view-versus-a-copy\n",
      "  excel_extended['Product ID'] = excel_extended['Product ID'].str.replace(\"_4001\", \"\")\n",
      "/var/folders/b3/52rfzyl51kv8hp5lk3vw_b6m0000gn/T/ipykernel_2166/1747344345.py:3: SettingWithCopyWarning: \n",
      "A value is trying to be set on a copy of a slice from a DataFrame.\n",
      "Try using .loc[row_indexer,col_indexer] = value instead\n",
      "\n",
      "See the caveats in the documentation: https://pandas.pydata.org/pandas-docs/stable/user_guide/indexing.html#returning-a-view-versus-a-copy\n",
      "  excel_extended['Product ID'] = excel_extended['Product ID'].str.replace(\"_4002\", \"\")\n"
     ]
    }
   ],
   "source": [
    "# removing ending for AZ\n",
    "excel_extended['Product ID'] = excel_extended['Product ID'].str.replace(\"_4001\", \"\")\n",
    "excel_extended['Product ID'] = excel_extended['Product ID'].str.replace(\"_4002\", \"\")\n",
    "df_all_extended['Product ID'] = df_all_extended['Product ID'].str.replace(\"_4001\", \"\")\n",
    "df_all_extended['Product ID'] = df_all_extended['Product ID'].str.replace(\"_4002\", \"\")"
   ]
  },
  {
   "cell_type": "code",
   "execution_count": 51,
   "metadata": {},
   "outputs": [
    {
     "name": "stdout",
     "output_type": "stream",
     "text": [
      "126096\n",
      "126096\n",
      "10\n"
     ]
    }
   ],
   "source": [
    "print(excel.shape[0])\n",
    "print(df_all_extended.shape[0])\n",
    "print(len(removed))"
   ]
  },
  {
   "cell_type": "code",
   "execution_count": 52,
   "metadata": {},
   "outputs": [
    {
     "name": "stderr",
     "output_type": "stream",
     "text": [
      "100%|██████████| 126096/126096 [00:00<00:00, 206581.73it/s]\n"
     ]
    }
   ],
   "source": [
    "# removing price programs and contract ids with -2\n",
    "for line in tqdm(df_all_extended.index):\n",
    "    if df_all_extended['Price Program Name'][line][-2:] == '-2':\n",
    "        df_all_extended['Price Program Name'][line] = df_all_extended['Price Program Name'][line].replace(\"-2\", \"\")\n",
    "    if df_all_extended['Alternate Contract Id'][line][-2:] == '-2':\n",
    "       df_all_extended['Alternate Contract Id'][line] = df_all_extended['Alternate Contract Id'][line].replace(\"-2\", \"\")\n",
    "\n",
    "\n"
   ]
  },
  {
   "cell_type": "code",
   "execution_count": 56,
   "metadata": {},
   "outputs": [
    {
     "ename": "NameError",
     "evalue": "name 'df_all_cfd' is not defined",
     "output_type": "error",
     "traceback": [
      "\u001b[0;31m---------------------------------------------------------------------------\u001b[0m",
      "\u001b[0;31mNameError\u001b[0m                                 Traceback (most recent call last)",
      "\u001b[1;32m/Users/agnieszka/Desktop/testy luty pk/wszystko AZ.ipynb Cell 14\u001b[0m in \u001b[0;36m<cell line: 1>\u001b[0;34m()\u001b[0m\n\u001b[0;32m----> <a href='vscode-notebook-cell:/Users/agnieszka/Desktop/testy%20luty%20pk/wszystko%20AZ.ipynb#ch0000013?line=0'>1</a>\u001b[0m \u001b[39mfor\u001b[39;00m line \u001b[39min\u001b[39;00m tqdm(df_all_cfd\u001b[39m.\u001b[39mindex):\n\u001b[1;32m      <a href='vscode-notebook-cell:/Users/agnieszka/Desktop/testy%20luty%20pk/wszystko%20AZ.ipynb#ch0000013?line=1'>2</a>\u001b[0m     \u001b[39mif\u001b[39;00m df_all_cfd[\u001b[39m'\u001b[39m\u001b[39mPrice Program Name\u001b[39m\u001b[39m'\u001b[39m][line][\u001b[39m-\u001b[39m\u001b[39m2\u001b[39m:] \u001b[39m==\u001b[39m \u001b[39m'\u001b[39m\u001b[39m-2\u001b[39m\u001b[39m'\u001b[39m:\n\u001b[1;32m      <a href='vscode-notebook-cell:/Users/agnieszka/Desktop/testy%20luty%20pk/wszystko%20AZ.ipynb#ch0000013?line=2'>3</a>\u001b[0m         df_all_cfd[\u001b[39m'\u001b[39m\u001b[39mPrice Program Name\u001b[39m\u001b[39m'\u001b[39m][line] \u001b[39m=\u001b[39m df_all_cfd[\u001b[39m'\u001b[39m\u001b[39mPrice Program Name\u001b[39m\u001b[39m'\u001b[39m][line]\u001b[39m.\u001b[39mreplace(\u001b[39m\"\u001b[39m\u001b[39m-2\u001b[39m\u001b[39m\"\u001b[39m, \u001b[39m\"\u001b[39m\u001b[39m\"\u001b[39m)\n",
      "\u001b[0;31mNameError\u001b[0m: name 'df_all_cfd' is not defined"
     ]
    }
   ],
   "source": [
    "for line in tqdm(df_all_cfd.index):\n",
    "    if df_all_cfd['Price Program Name'][line][-2:] == '-2':\n",
    "        df_all_cfd['Price Program Name'][line] = df_all_cfd['Price Program Name'][line].replace(\"-2\", \"\")\n",
    "    if df_all_cfd['Alternate Contract Id'][line][-2:] == '-2':\n",
    "       df_all_cfd['Alternate Contract Id'][line] = df_all_cfd['Alternate Contract Id'][line].replace(\"-2\", \"\")\n"
   ]
  },
  {
   "cell_type": "code",
   "execution_count": 53,
   "metadata": {},
   "outputs": [
    {
     "name": "stderr",
     "output_type": "stream",
     "text": [
      "/var/folders/b3/52rfzyl51kv8hp5lk3vw_b6m0000gn/T/ipykernel_2166/4215106603.py:4: SettingWithCopyWarning: \n",
      "A value is trying to be set on a copy of a slice from a DataFrame.\n",
      "Try using .loc[row_indexer,col_indexer] = value instead\n",
      "\n",
      "See the caveats in the documentation: https://pandas.pydata.org/pandas-docs/stable/user_guide/indexing.html#returning-a-view-versus-a-copy\n",
      "  excel_extended['Tier 1 Price'] = excel_extended['Tier 1 Price'].astype(float)\n",
      "/var/folders/b3/52rfzyl51kv8hp5lk3vw_b6m0000gn/T/ipykernel_2166/4215106603.py:7: SettingWithCopyWarning: \n",
      "A value is trying to be set on a copy of a slice from a DataFrame.\n",
      "Try using .loc[row_indexer,col_indexer] = value instead\n",
      "\n",
      "See the caveats in the documentation: https://pandas.pydata.org/pandas-docs/stable/user_guide/indexing.html#returning-a-view-versus-a-copy\n",
      "  excel_extended['Tier 1 Units'] = pd.to_numeric(excel_extended['Tier 1 Units'], downcast=\"float\")\n"
     ]
    }
   ],
   "source": [
    "# extended\n",
    "df_all_extended['Price'] = df_all_extended.Price.str.extract(r\"(\\d+\\.\\d+)\")\n",
    "df_all_extended['Price'] = df_all_extended['Price'].astype(float)\n",
    "excel_extended['Tier 1 Price'] = excel_extended['Tier 1 Price'].astype(float)\n",
    "\n",
    "df_all_extended['Units'] = pd.to_numeric(df_all_extended['Units'], downcast=\"float\")\n",
    "excel_extended['Tier 1 Units'] = pd.to_numeric(excel_extended['Tier 1 Units'], downcast=\"float\")"
   ]
  },
  {
   "cell_type": "code",
   "execution_count": 54,
   "metadata": {},
   "outputs": [],
   "source": [
    "# count of products\n",
    "df_gr = df_all_extended.groupby(['Alternate Contract Id','Customer ID', \n",
    "'Price Program Name']).size().reset_index(name='counts')"
   ]
  },
  {
   "cell_type": "code",
   "execution_count": 55,
   "metadata": {},
   "outputs": [],
   "source": [
    "# Merging dataframes- counts\n",
    "excel_gr['Customer ID'] = excel_gr['Customer ID'].astype(int)\n",
    "df_gr['Customer ID'] = df_gr['Customer ID'].astype(int)\n",
    "\n",
    "df_merged = pd.merge(df_gr, excel_gr,  how='outer', left_on=['Customer ID','Alternate Contract Id', 'Price Program Name'], right_on = ['Customer ID','Alternate Contract Id', 'Price Program Name'])\n",
    "df_merged.rename(columns = {'counts_x':'count from xml', 'counts_y':'count from excel'}, inplace = True)\n"
   ]
  },
  {
   "cell_type": "code",
   "execution_count": 36,
   "metadata": {},
   "outputs": [
    {
     "name": "stderr",
     "output_type": "stream",
     "text": [
      "  0%|          | 0/782 [00:00<?, ?it/s]/var/folders/b3/52rfzyl51kv8hp5lk3vw_b6m0000gn/T/ipykernel_2166/725705275.py:5: SettingWithCopyWarning: \n",
      "A value is trying to be set on a copy of a slice from a DataFrame\n",
      "\n",
      "See the caveats in the documentation: https://pandas.pydata.org/pandas-docs/stable/user_guide/indexing.html#returning-a-view-versus-a-copy\n",
      "  df_merged['Are the same?'][index] = 'yes'\n",
      "100%|██████████| 782/782 [00:00<00:00, 11311.37it/s]\n"
     ]
    }
   ],
   "source": [
    "# checking if the same\n",
    "df_merged['Are the same?'] = ''\n",
    "for index in tqdm(df_merged.index):\n",
    "    if df_merged['count from xml'][index] == df_merged['count from excel'][index]:\n",
    "        df_merged['Are the same?'][index] = 'yes'\n",
    "    else:\n",
    "        df_merged['Are the same?'][index] = 'no'\n",
    "df_merged.to_excel(f'{path}/result counts.xlsx')"
   ]
  },
  {
   "cell_type": "code",
   "execution_count": 56,
   "metadata": {},
   "outputs": [
    {
     "name": "stderr",
     "output_type": "stream",
     "text": [
      "/var/folders/b3/52rfzyl51kv8hp5lk3vw_b6m0000gn/T/ipykernel_2166/3066667302.py:2: SettingWithCopyWarning: \n",
      "A value is trying to be set on a copy of a slice from a DataFrame.\n",
      "Try using .loc[row_indexer,col_indexer] = value instead\n",
      "\n",
      "See the caveats in the documentation: https://pandas.pydata.org/pandas-docs/stable/user_guide/indexing.html#returning-a-view-versus-a-copy\n",
      "  excel_extended['Customer ID'] = excel_extended['Customer ID'].astype(int)\n"
     ]
    }
   ],
   "source": [
    "# Merging dataframes\n",
    "excel_extended['Customer ID'] = excel_extended['Customer ID'].astype(int)\n",
    "df_all_extended['Customer ID'] = df_all_extended['Customer ID'].astype(int)\n",
    "df_all_extended['Product ID'] = df_all_extended['Product ID'].str.replace(\"-\", \"\")\n",
    "df_merged_extended = pd.merge(df_all_extended, excel_extended,  how='outer', left_on=['Customer ID','Alternate Contract Id', 'Price Program Name', 'Product ID'], right_on = ['Customer ID', 'Alternate Contract Id', 'Price Program Name','Product ID' ])\n",
    "\n"
   ]
  },
  {
   "cell_type": "code",
   "execution_count": 46,
   "metadata": {},
   "outputs": [
    {
     "ename": "NameError",
     "evalue": "name 'excel_all_cfd' is not defined",
     "output_type": "error",
     "traceback": [
      "\u001b[0;31m---------------------------------------------------------------------------\u001b[0m",
      "\u001b[0;31mNameError\u001b[0m                                 Traceback (most recent call last)",
      "\u001b[1;32m/Users/agnieszka/Desktop/testy luty pk/wszystko AZ.ipynb Cell 18\u001b[0m in \u001b[0;36m<cell line: 2>\u001b[0;34m()\u001b[0m\n\u001b[1;32m      <a href='vscode-notebook-cell:/Users/agnieszka/Desktop/testy%20luty%20pk/wszystko%20AZ.ipynb#ch0000021?line=0'>1</a>\u001b[0m \u001b[39m# Merging dataframes\u001b[39;00m\n\u001b[0;32m----> <a href='vscode-notebook-cell:/Users/agnieszka/Desktop/testy%20luty%20pk/wszystko%20AZ.ipynb#ch0000021?line=1'>2</a>\u001b[0m excel_all_cfd[\u001b[39m'\u001b[39m\u001b[39mCustomer ID\u001b[39m\u001b[39m'\u001b[39m] \u001b[39m=\u001b[39m excel_all_cfd[\u001b[39m'\u001b[39m\u001b[39mCustomer ID\u001b[39m\u001b[39m'\u001b[39m]\u001b[39m.\u001b[39mastype(\u001b[39mint\u001b[39m)\n\u001b[1;32m      <a href='vscode-notebook-cell:/Users/agnieszka/Desktop/testy%20luty%20pk/wszystko%20AZ.ipynb#ch0000021?line=2'>3</a>\u001b[0m df_all_cfd[\u001b[39m'\u001b[39m\u001b[39mCustomer ID\u001b[39m\u001b[39m'\u001b[39m] \u001b[39m=\u001b[39m df_all_cfd[\u001b[39m'\u001b[39m\u001b[39mCustomer ID\u001b[39m\u001b[39m'\u001b[39m]\u001b[39m.\u001b[39mastype(\u001b[39mint\u001b[39m)\n\u001b[1;32m      <a href='vscode-notebook-cell:/Users/agnieszka/Desktop/testy%20luty%20pk/wszystko%20AZ.ipynb#ch0000021?line=3'>4</a>\u001b[0m df_merged_cfd \u001b[39m=\u001b[39m pd\u001b[39m.\u001b[39mmerge(df_all_cfd, excel_all_cfd,  how\u001b[39m=\u001b[39m\u001b[39m'\u001b[39m\u001b[39mouter\u001b[39m\u001b[39m'\u001b[39m, left_on\u001b[39m=\u001b[39m[\u001b[39m'\u001b[39m\u001b[39mCustomer ID\u001b[39m\u001b[39m'\u001b[39m,\u001b[39m'\u001b[39m\u001b[39mAlternate Contract Id\u001b[39m\u001b[39m'\u001b[39m, \u001b[39m'\u001b[39m\u001b[39mPrice Program Name\u001b[39m\u001b[39m'\u001b[39m], right_on \u001b[39m=\u001b[39m [\u001b[39m'\u001b[39m\u001b[39mCustomer ID\u001b[39m\u001b[39m'\u001b[39m, \u001b[39m'\u001b[39m\u001b[39mAlternate Contract Id\u001b[39m\u001b[39m'\u001b[39m, \u001b[39m'\u001b[39m\u001b[39mPrice Program Name\u001b[39m\u001b[39m'\u001b[39m])\n",
      "\u001b[0;31mNameError\u001b[0m: name 'excel_all_cfd' is not defined"
     ]
    }
   ],
   "source": [
    "# Merging dataframes\n",
    "excel_all_cfd['Customer ID'] = excel_all_cfd['Customer ID'].astype(int)\n",
    "df_all_cfd['Customer ID'] = df_all_cfd['Customer ID'].astype(int)\n",
    "df_merged_cfd = pd.merge(df_all_cfd, excel_all_cfd,  how='outer', left_on=['Customer ID','Alternate Contract Id', 'Price Program Name'], right_on = ['Customer ID', 'Alternate Contract Id', 'Price Program Name'])\n"
   ]
  },
  {
   "cell_type": "code",
   "execution_count": 57,
   "metadata": {},
   "outputs": [],
   "source": [
    "# data types \n",
    "# data types \n",
    "df_merged_extended['Product Start Date_x']=pd.to_datetime(df_merged_extended['Product Start Date_x'])\n",
    "df_merged_extended['Product Start Date_y']=pd.to_datetime(df_merged_extended['Product Start Date_y'])\n",
    "df_merged_extended['Product End Date_x']=pd.to_datetime(df_merged_extended['Product End Date_x'])\n",
    "df_merged_extended['Product End Date_y']=pd.to_datetime(df_merged_extended['Product End Date_y'])\n",
    "df_merged_extended['Program Start Date_x']=pd.to_datetime(df_merged_extended['Program Start Date_x'])\n",
    "df_merged_extended['Program Start Date_y']=pd.to_datetime(df_merged_extended['Program Start Date_y'])\n",
    "df_merged_extended['Program End Date_x']=pd.to_datetime(df_merged_extended['Program End Date_x'])\n",
    "df_merged_extended['Program End Date_y']=pd.to_datetime(df_merged_extended['Program End Date_y'])\n",
    "df_merged_extended['Contract End Date']=pd.to_datetime(df_merged_extended['Contract End Date'])\n",
    "df_merged_extended['Start Date']=pd.to_datetime(df_merged_extended['Start Date'])\n",
    "df_merged_extended['Contract Start Date']=pd.to_datetime(df_merged_extended['Contract Start Date'])\n",
    "df_merged_extended['End Date']=pd.to_datetime(df_merged_extended['End Date'])\n",
    "df_merged_extended['End Date']=pd.to_datetime(df_merged_extended['End Date'])\n",
    "df_merged_extended['Organization_y']= pd.to_numeric(df_merged_extended['Organization_y'])\n",
    "df_merged_extended['Organization_x']= pd.to_numeric(df_merged_extended['Organization_x'])\n",
    "df_merged_extended['Units'] = pd.to_numeric(df_merged_extended['Units'])\n",
    "df_merged_extended['Tier 1 Units'] = pd.to_numeric(df_merged_extended['Tier 1 Units'])"
   ]
  },
  {
   "cell_type": "code",
   "execution_count": 58,
   "metadata": {},
   "outputs": [
    {
     "name": "stderr",
     "output_type": "stream",
     "text": [
      "  0%|          | 0/126344 [00:00<?, ?it/s]/var/folders/b3/52rfzyl51kv8hp5lk3vw_b6m0000gn/T/ipykernel_2166/310394543.py:13: SettingWithCopyWarning: \n",
      "A value is trying to be set on a copy of a slice from a DataFrame\n",
      "\n",
      "See the caveats in the documentation: https://pandas.pydata.org/pandas-docs/stable/user_guide/indexing.html#returning-a-view-versus-a-copy\n",
      "  df_merged_extended['Are prices the same?'][index] = 'yes'\n",
      "/var/folders/b3/52rfzyl51kv8hp5lk3vw_b6m0000gn/T/ipykernel_2166/310394543.py:23: SettingWithCopyWarning: \n",
      "A value is trying to be set on a copy of a slice from a DataFrame\n",
      "\n",
      "See the caveats in the documentation: https://pandas.pydata.org/pandas-docs/stable/user_guide/indexing.html#returning-a-view-versus-a-copy\n",
      "  df_merged_extended['Are end dates the same?'][index] = 'yes'\n",
      "/var/folders/b3/52rfzyl51kv8hp5lk3vw_b6m0000gn/T/ipykernel_2166/310394543.py:28: SettingWithCopyWarning: \n",
      "A value is trying to be set on a copy of a slice from a DataFrame\n",
      "\n",
      "See the caveats in the documentation: https://pandas.pydata.org/pandas-docs/stable/user_guide/indexing.html#returning-a-view-versus-a-copy\n",
      "  df_merged_extended['Is org the same?'][index] = 'yes'\n",
      "/var/folders/b3/52rfzyl51kv8hp5lk3vw_b6m0000gn/T/ipykernel_2166/310394543.py:33: SettingWithCopyWarning: \n",
      "A value is trying to be set on a copy of a slice from a DataFrame\n",
      "\n",
      "See the caveats in the documentation: https://pandas.pydata.org/pandas-docs/stable/user_guide/indexing.html#returning-a-view-versus-a-copy\n",
      "  df_merged_extended['Is name the same?'][index] = 'yes'\n",
      "/var/folders/b3/52rfzyl51kv8hp5lk3vw_b6m0000gn/T/ipykernel_2166/310394543.py:38: SettingWithCopyWarning: \n",
      "A value is trying to be set on a copy of a slice from a DataFrame\n",
      "\n",
      "See the caveats in the documentation: https://pandas.pydata.org/pandas-docs/stable/user_guide/indexing.html#returning-a-view-versus-a-copy\n",
      "  df_merged_extended['Is product start date the same?'][index] = 'yes'\n",
      "/var/folders/b3/52rfzyl51kv8hp5lk3vw_b6m0000gn/T/ipykernel_2166/310394543.py:43: SettingWithCopyWarning: \n",
      "A value is trying to be set on a copy of a slice from a DataFrame\n",
      "\n",
      "See the caveats in the documentation: https://pandas.pydata.org/pandas-docs/stable/user_guide/indexing.html#returning-a-view-versus-a-copy\n",
      "  df_merged_extended['Is product end date the same?'][index] = 'yes'\n",
      "/var/folders/b3/52rfzyl51kv8hp5lk3vw_b6m0000gn/T/ipykernel_2166/310394543.py:48: SettingWithCopyWarning: \n",
      "A value is trying to be set on a copy of a slice from a DataFrame\n",
      "\n",
      "See the caveats in the documentation: https://pandas.pydata.org/pandas-docs/stable/user_guide/indexing.html#returning-a-view-versus-a-copy\n",
      "  df_merged_extended['Is program start date the same?'][index] = 'yes'\n",
      "/var/folders/b3/52rfzyl51kv8hp5lk3vw_b6m0000gn/T/ipykernel_2166/310394543.py:54: SettingWithCopyWarning: \n",
      "A value is trying to be set on a copy of a slice from a DataFrame\n",
      "\n",
      "See the caveats in the documentation: https://pandas.pydata.org/pandas-docs/stable/user_guide/indexing.html#returning-a-view-versus-a-copy\n",
      "  df_merged_extended['Is program end date the same?'][index] = 'yes'\n",
      "/var/folders/b3/52rfzyl51kv8hp5lk3vw_b6m0000gn/T/ipykernel_2166/310394543.py:59: SettingWithCopyWarning: \n",
      "A value is trying to be set on a copy of a slice from a DataFrame\n",
      "\n",
      "See the caveats in the documentation: https://pandas.pydata.org/pandas-docs/stable/user_guide/indexing.html#returning-a-view-versus-a-copy\n",
      "  df_merged_extended['Are units the same?'][index] = 'yes'\n",
      "  1%|▏         | 1872/126344 [00:03<03:46, 548.91it/s]/var/folders/b3/52rfzyl51kv8hp5lk3vw_b6m0000gn/T/ipykernel_2166/310394543.py:61: SettingWithCopyWarning: \n",
      "A value is trying to be set on a copy of a slice from a DataFrame\n",
      "\n",
      "See the caveats in the documentation: https://pandas.pydata.org/pandas-docs/stable/user_guide/indexing.html#returning-a-view-versus-a-copy\n",
      "  df_merged_extended['Are units the same?'][index] = 'no'\n",
      "  8%|▊         | 9643/126344 [00:17<03:29, 556.91it/s]/var/folders/b3/52rfzyl51kv8hp5lk3vw_b6m0000gn/T/ipykernel_2166/310394543.py:40: SettingWithCopyWarning: \n",
      "A value is trying to be set on a copy of a slice from a DataFrame\n",
      "\n",
      "See the caveats in the documentation: https://pandas.pydata.org/pandas-docs/stable/user_guide/indexing.html#returning-a-view-versus-a-copy\n",
      "  df_merged_extended['Is product start date the same?'][index] = 'no'\n",
      "  9%|▉         | 12000/126344 [00:21<03:24, 558.62it/s]/var/folders/b3/52rfzyl51kv8hp5lk3vw_b6m0000gn/T/ipykernel_2166/310394543.py:50: SettingWithCopyWarning: \n",
      "A value is trying to be set on a copy of a slice from a DataFrame\n",
      "\n",
      "See the caveats in the documentation: https://pandas.pydata.org/pandas-docs/stable/user_guide/indexing.html#returning-a-view-versus-a-copy\n",
      "  df_merged_extended['Is program start date the same?'][index] = 'no'\n",
      "100%|██████████| 126344/126344 [03:50<00:00, 547.46it/s]\n"
     ]
    }
   ],
   "source": [
    "df_merged_extended['Are prices the same?'] = ''\n",
    "df_merged_extended['Are start dates the same?'] = ''\n",
    "df_merged_extended['Are end dates the same?'] = ''\n",
    "df_merged_extended['Is org the same?'] = ''\n",
    "df_merged_extended['Is name the same?'] = ''\n",
    "df_merged_extended['Is program start date the same?'] = ''\n",
    "df_merged_extended['Is program end date the same?'] = ''\n",
    "df_merged_extended['Is product start date the same?'] = ''\n",
    "df_merged_extended['Is product end date the same?'] = ''\n",
    "df_merged_extended['Are units the same?'] = ''\n",
    "for index in tqdm(df_merged_extended.index):\n",
    "    if df_merged_extended['Price'][index] == df_merged_extended['Tier 1 Price'][index]:\n",
    "        df_merged_extended['Are prices the same?'][index] = 'yes'\n",
    "    else:\n",
    "        df_merged_extended['Are prices the same?'][index] = 'no'\n",
    "\n",
    "    if df_merged_extended['Contract Start Date'][index] == df_merged_extended['Start Date'][index]:\n",
    "        df_merged_extended['Are start dates the same?'] = 'yes'\n",
    "    else:\n",
    "        df_merged_extended['Are start dates the same?'] = 'no'\n",
    "\n",
    "    if df_merged_extended['Contract End Date'][index] == df_merged_extended['End Date'][index]:\n",
    "        df_merged_extended['Are end dates the same?'][index] = 'yes'\n",
    "    else:\n",
    "        df_merged_extended['Are end dates the same?'][index] = 'no'\n",
    "\n",
    "    if df_merged_extended['Organization_x'][index] == df_merged_extended['Organization_y'][index]:\n",
    "        df_merged_extended['Is org the same?'][index] = 'yes'\n",
    "    else:\n",
    "        df_merged_extended['Is org the same?'][index] = 'no'\n",
    "\n",
    "    if df_merged_extended['Name_x'][index] == df_merged_extended['Name_y'][index]:\n",
    "        df_merged_extended['Is name the same?'][index] = 'yes'\n",
    "    else:\n",
    "        df_merged_extended['Is name the same?'][index] = 'no'\n",
    "        \n",
    "    if df_merged_extended['Product Start Date_x'][index] == df_merged_extended['Product Start Date_y'][index]:\n",
    "        df_merged_extended['Is product start date the same?'][index] = 'yes'\n",
    "    else:\n",
    "        df_merged_extended['Is product start date the same?'][index] = 'no'\n",
    "\n",
    "    if df_merged_extended['Product End Date_x'][index] == df_merged_extended['Product End Date_y'][index]:\n",
    "        df_merged_extended['Is product end date the same?'][index] = 'yes'\n",
    "    else:\n",
    "        df_merged_extended['Is product end date the same?'][index] = 'no'\n",
    "\n",
    "    if df_merged_extended['Program Start Date_x'][index] == df_merged_extended['Program Start Date_y'][index]:\n",
    "            df_merged_extended['Is program start date the same?'][index] = 'yes'\n",
    "    else:\n",
    "        df_merged_extended['Is program start date the same?'][index] = 'no'\n",
    "\n",
    "    \n",
    "    if df_merged_extended['Program End Date_x'][index] == df_merged_extended['Program End Date_y'][index]:\n",
    "            df_merged_extended['Is program end date the same?'][index] = 'yes'\n",
    "    else:\n",
    "        df_merged_extended['Is program end date the same?'][index] = 'no'\n",
    "\n",
    "    if df_merged_extended['Units'][index] == df_merged_extended['Tier 1 Units'][index]:\n",
    "        df_merged_extended['Are units the same?'][index] = 'yes'\n",
    "    else:\n",
    "        df_merged_extended['Are units the same?'][index] = 'no'\n",
    "\n"
   ]
  },
  {
   "cell_type": "code",
   "execution_count": null,
   "metadata": {},
   "outputs": [],
   "source": [
    "df_merged_extended['Are prices the same?'] = ''\n",
    "df_merged_extended['Are start dates the same?'] = ''\n",
    "df_merged_extended['Are end dates the same?'] = ''\n",
    "'Compliance Threshold', 'Volume Timeframe', 'Unit of Pricing'\n",
    "for index in tqdm(df_merged_extended.index):\n",
    "    if df_merged_extended['Price'][index] == df_merged_extended['Tier 1 Price'][index]:\n",
    "        df_merged_extended['Are prices the same?'][index] = 'yes'\n",
    "    else:\n",
    "        df_merged_extended['Are prices the same?'][index] = 'no'\n",
    "    if df_merged_extended['Contract Start Date'][index] == df_merged_extended['Start Date'][index]:\n",
    "        df_merged_extended['Are start dates the same?'] = 'yes'\n",
    "    else:\n",
    "        df_merged_extended['Are start dates the same?'] = 'no'\n",
    "    if df_merged_extended['Contract End Date'][index] == df_merged_extended['End Date'][index]:\n",
    "        df_merged_extended['Are end dates the same?'][index] = 'yes'\n",
    "    else:\n",
    "        df_merged_extended['Are end dates the same?'][index] = 'no'\n",
    "    if df_merged_extended['Organization_x'][index] == df_merged_extended['Organization_y'][index]:\n",
    "        df_merged_extended['Is org the same?'][index] = 'yes'\n",
    "    else:\n",
    "        df_merged_extended['Is org the same?'][index] = 'no'\n",
    "    if df_merged_extended['Name_x'][index] == df_merged_extended['Name_y'][index]:\n",
    "        df_merged_extended['Is name the same?'][index] = 'yes'\n",
    "    else:\n",
    "        df_merged_extended['Is name the same?'][index] = 'no'\n",
    "    if df_merged_extended['Product Start Date_x'][index] == df_merged_extended['Product Start Date_y'][index]:\n",
    "        df_merged_extended['Is program start date the same?'][index] = 'yes'\n",
    "    else:\n",
    "        df_merged_extended['Is program start date the same?'][index] = 'no'\n",
    "    if df_merged_extended['Product End Date_x'][index] == df_merged_extended['Product End Date_y'][index]:\n",
    "        df_merged_extended['Is program end date the same?'][index] = 'yes'\n",
    "    else:\n",
    "        df_merged_extended['Is program end date the same?'][index] = 'no'\n",
    "    if df_merged_extended['Tier Timeframe_x'][index] == df_merged_extended['Tier Timeframe_y'][index][:2].upper():\n",
    "        df_merged_extended['Is Tier Timeframe the same?'][index] = 'yes'\n",
    "\n"
   ]
  },
  {
   "cell_type": "code",
   "execution_count": 40,
   "metadata": {},
   "outputs": [],
   "source": [
    "\n",
    "df_merged_extended.to_excel(f'{path}/result extended2.xlsx')"
   ]
  }
 ],
 "metadata": {
  "kernelspec": {
   "display_name": "Python 3.9.13 64-bit",
   "language": "python",
   "name": "python3"
  },
  "language_info": {
   "codemirror_mode": {
    "name": "ipython",
    "version": 3
   },
   "file_extension": ".py",
   "mimetype": "text/x-python",
   "name": "python",
   "nbconvert_exporter": "python",
   "pygments_lexer": "ipython3",
   "version": "3.9.13"
  },
  "orig_nbformat": 4,
  "vscode": {
   "interpreter": {
    "hash": "aee8b7b246df8f9039afb4144a1f6fd8d2ca17a180786b69acc140d282b71a49"
   }
  }
 },
 "nbformat": 4,
 "nbformat_minor": 2
}
