{
 "cells": [
  {
   "cell_type": "code",
   "execution_count": 192,
   "metadata": {},
   "outputs": [],
   "source": [
    "# packages\n",
    "from lxml import etree\n",
    "import pandas as pd\n",
    "from tqdm import tqdm\n",
    "import os\n",
    "\n"
   ]
  },
  {
   "cell_type": "code",
   "execution_count": 193,
   "metadata": {},
   "outputs": [],
   "source": [
    "#setup\n",
    "#path = 'OneDrive_2_19-04-2023'\n",
    "xml_file= 'part2/20230531-213702-ALL CONTRACTS.xml'\n",
    "excel_crm = 'part2/templates/2023-05-31 CRM_Contract_Conversion_Template_v0.5.xlsx'\n",
    "excel_nmd = 'part2/templates/2023-05-31 NMD_Contract_Conversion_Template_v0.5.xlsx'\n",
    "sheet_name1 = 'Price Program - Static'\n",
    "sheet_name2 = 'Price Prog - Static-Tiered'\n",
    "sheet_name_rem = 'Contract Header'\n",
    "\n",
    "pricing_crm = 'part2/pricing/2023-05-31 CRMSalesDeal-RK20230526.csv'\n",
    "pricing_nmd = 'part2/pricing/2023-05-31 NMD Sales Deals 2023.05.24.csv'\n",
    "#remove = '20230530-173628-log.csv'\n"
   ]
  },
  {
   "cell_type": "code",
   "execution_count": 194,
   "metadata": {},
   "outputs": [
    {
     "name": "stderr",
     "output_type": "stream",
     "text": [
      "/Library/Frameworks/Python.framework/Versions/3.9/lib/python3.9/site-packages/openpyxl/worksheet/_reader.py:312: UserWarning: Data Validation extension is not supported and will be removed\n",
      "  warn(msg)\n",
      "/Library/Frameworks/Python.framework/Versions/3.9/lib/python3.9/site-packages/openpyxl/worksheet/_reader.py:312: UserWarning: Data Validation extension is not supported and will be removed\n",
      "  warn(msg)\n",
      "/Library/Frameworks/Python.framework/Versions/3.9/lib/python3.9/site-packages/openpyxl/worksheet/_reader.py:312: UserWarning: Data Validation extension is not supported and will be removed\n",
      "  warn(msg)\n",
      "/Library/Frameworks/Python.framework/Versions/3.9/lib/python3.9/site-packages/openpyxl/worksheet/_reader.py:312: UserWarning: Data Validation extension is not supported and will be removed\n",
      "  warn(msg)\n",
      "/Library/Frameworks/Python.framework/Versions/3.9/lib/python3.9/site-packages/openpyxl/worksheet/_reader.py:312: UserWarning: Data Validation extension is not supported and will be removed\n",
      "  warn(msg)\n",
      "/Library/Frameworks/Python.framework/Versions/3.9/lib/python3.9/site-packages/openpyxl/worksheet/_reader.py:312: UserWarning: Data Validation extension is not supported and will be removed\n",
      "  warn(msg)\n",
      "/var/folders/b3/52rfzyl51kv8hp5lk3vw_b6m0000gn/T/ipykernel_1988/3610392932.py:12: DtypeWarning: Columns (0,1,10) have mixed types. Specify dtype option on import or set low_memory=False.\n",
      "  pricing_nmd = pd.read_csv(f'{pricing_nmd}')\n"
     ]
    }
   ],
   "source": [
    "# Opening excel and xml file\n",
    "tree = etree.parse(f'{xml_file}')\n",
    "root=tree.getroot()\n",
    "\n",
    "excel_crm1 = pd.read_excel(f'{excel_crm}', header = 2, sheet_name=f'{sheet_name1}')\n",
    "excel_crm2 = pd.read_excel(f'{excel_crm}', header = 2, sheet_name=f'{sheet_name2}')\n",
    "excel_crm_rem = pd.read_excel(f'{excel_crm}', header = 2, sheet_name=f'{sheet_name_rem}')\n",
    "excel_nmd1 = pd.read_excel(f'{excel_nmd}', header = 2, sheet_name=f'{sheet_name1}')\n",
    "excel_nmd2 = pd.read_excel(f'{excel_nmd}', header = 2, sheet_name=f'{sheet_name2}')\n",
    "excel_nmd_rem = pd.read_excel(f'{excel_nmd}', header = 2, sheet_name=f'{sheet_name_rem}')\n",
    "pricing_crm = pd.read_csv(f'{pricing_crm}')\n",
    "pricing_nmd = pd.read_csv(f'{pricing_nmd}')\n",
    "#remove = pd.read_csv(f'{remove}', header=None)\n",
    "#excel_nmd = pd.read_excel(f'{path}/{excel_nmd}', header = 2, sheet_name=f'{sheet_name}')\n",
    "#load = pd.read_excel(f'{path}/{load_file}')\n",
    "#df_log = pd.read_csv(f'{path}/logs.csv', header=None)"
   ]
  },
  {
   "cell_type": "code",
   "execution_count": 195,
   "metadata": {},
   "outputs": [],
   "source": [
    "# # contracts to be removed\n",
    "# dropping rows\n",
    "excel_crm_rem.dropna(axis = 0, how = 'all', inplace = True)\n",
    "excel_nmd_rem.dropna(axis = 0, how = 'all', inplace = True)\n",
    "excel_crm_rem = excel_crm_rem[1:-1]\n",
    "excel_nmd_rem = excel_nmd_rem[1:-1]\n"
   ]
  },
  {
   "cell_type": "code",
   "execution_count": 196,
   "metadata": {},
   "outputs": [],
   "source": [
    "# data types\n",
    "excel_crm_rem['Customer Contract ID'] = pd.to_numeric(excel_crm_rem['Customer Contract ID'])\n",
    "excel_crm_rem['Customer Contract ID'] = excel_crm_rem['Customer Contract ID'].astype(float)\n",
    "crm_remove = list(excel_crm_rem['Customer Contract ID'].drop_duplicates(keep='last'))\n",
    "excel_nmd_rem['Customer Contract ID'] = pd.to_numeric(excel_nmd_rem['Customer Contract ID'])\n",
    "excel_nmd_rem['Customer Contract ID'] = excel_nmd_rem['Customer Contract ID'].astype(float)\n",
    "nmd_remove = list(excel_nmd_rem['Customer Contract ID'].drop_duplicates(keep='last'))\n",
    "\n",
    "\n"
   ]
  },
  {
   "cell_type": "code",
   "execution_count": 9,
   "metadata": {},
   "outputs": [],
   "source": [
    "# list of to be removed contracts\n",
    "remove = list(remove.loc[:,0].str[8:13].drop_duplicates(keep='last'))"
   ]
  },
  {
   "cell_type": "code",
   "execution_count": 282,
   "metadata": {},
   "outputs": [],
   "source": [
    "# # # removing products from log from excel\n",
    "# remove['ID'] = remove['ID'].astype('string')\n",
    "# remove = list(remove['ID'].drop_duplicates(keep='last'))\n",
    "\n"
   ]
  },
  {
   "cell_type": "code",
   "execution_count": 197,
   "metadata": {},
   "outputs": [],
   "source": [
    "# dropping rows\n",
    "excel_nmd2.dropna(axis = 0, how = 'all', inplace = True)\n",
    "excel_nmd2.dropna(axis = 1, how = 'all', inplace = True)\n",
    "excel_crm1.dropna(axis = 0, how = 'all', inplace = True)\n",
    "excel_crm2.dropna(axis = 0, how = 'all', inplace = True)\n",
    "excel_nmd2 = excel_nmd2[1:-1]\n",
    "excel_nmd1 = excel_nmd1[1:]\n",
    "excel_crm1 = excel_crm1[1:]\n",
    "excel_crm2 = excel_crm2[1:]"
   ]
  },
  {
   "cell_type": "code",
   "execution_count": 198,
   "metadata": {},
   "outputs": [],
   "source": [
    "# merge two sheets\n",
    "excel_crm = pd.concat([excel_crm1, excel_crm2])\n",
    "excel_nmd = pd.concat([excel_nmd1, excel_nmd2])\n",
    "excel_crm.dropna(axis = 0, how = 'all', inplace = True)\n",
    "#excel_nmd.dropna(axis = 0, how = 'all', inplace = True)"
   ]
  },
  {
   "cell_type": "code",
   "execution_count": 199,
   "metadata": {},
   "outputs": [],
   "source": [
    "# reseting indexes\n",
    "excel_nmd = excel_nmd.reset_index(drop=True)\n",
    "excel_crm = excel_crm.reset_index(drop=True)\n",
    "excel_crm = excel_crm[:-1]"
   ]
  },
  {
   "cell_type": "code",
   "execution_count": 201,
   "metadata": {},
   "outputs": [],
   "source": [
    "# data types\n",
    "excel_crm['Customer Contract ID'] = pd.to_numeric(excel_crm['Customer Contract ID'], errors='coerce')\n",
    "excel_nmd['Customer Contract ID'] = pd.to_numeric(excel_nmd['Customer Contract ID'], errors='coerce')"
   ]
  },
  {
   "cell_type": "code",
   "execution_count": 202,
   "metadata": {},
   "outputs": [
    {
     "name": "stderr",
     "output_type": "stream",
     "text": [
      "100%|██████████| 550/550 [00:00<00:00, 53440.53it/s]\n"
     ]
    }
   ],
   "source": [
    "# # removing contracts that are not in contract header\n",
    "for index in tqdm(excel_crm.index):\n",
    "    if excel_crm['Customer Contract ID'][index] not in crm_remove:\n",
    "        excel_crm.drop([index], axis=0, inplace=True)\n"
   ]
  },
  {
   "cell_type": "code",
   "execution_count": 203,
   "metadata": {},
   "outputs": [
    {
     "name": "stderr",
     "output_type": "stream",
     "text": [
      "100%|██████████| 2165/2165 [00:00<00:00, 52621.12it/s]\n"
     ]
    }
   ],
   "source": [
    "# # removing contracts that are not in contract header\n",
    "for index in tqdm(excel_nmd.index):\n",
    "    if excel_nmd['Customer Contract ID'][index] not in nmd_remove:\n",
    "        excel_nmd.drop([index], axis=0, inplace=True)"
   ]
  },
  {
   "cell_type": "code",
   "execution_count": 204,
   "metadata": {},
   "outputs": [],
   "source": [
    "# splitting lists of sales deals into separate rows\n",
    "excel_nmd['Sales Deal #']= excel_nmd['Sales Deal #'].astype(str)\n",
    "excel_nmd['Sales Deal #']  = excel_nmd['Sales Deal #'].apply(lambda x: x.split(','))\n",
    "excel_nmd = excel_nmd.explode('Sales Deal #')\n",
    "excel_nmd = excel_nmd.reset_index(drop=True)\n",
    "# splitting lists of sales deals into separate rows\n",
    "excel_crm['Sales Deal #']= excel_crm['Sales Deal #'].astype(str)\n",
    "excel_crm['Sales Deal #']  = excel_crm['Sales Deal #'].apply(lambda x: x.split(','))\n",
    "excel_crm = excel_crm.explode('Sales Deal #')\n",
    "excel_crm = excel_crm.reset_index(drop=True)"
   ]
  },
  {
   "cell_type": "code",
   "execution_count": 131,
   "metadata": {},
   "outputs": [],
   "source": [
    "# mergeing two excels\n",
    "#excel_both = pd.concat([excel_crm, excel_nmd])\n"
   ]
  },
  {
   "cell_type": "code",
   "execution_count": 133,
   "metadata": {},
   "outputs": [],
   "source": [
    "# # splitting lists of sales deals into separate rows\n",
    "# excel_both['Sales Deal #']= excel_both['Sales Deal #'].astype(str)\n",
    "# excel_both['Sales Deal #']  = excel_both['Sales Deal #'].apply(lambda x: x.split(','))\n",
    "# excel_both = excel_both.explode('Sales Deal #')\n",
    "# excel_both = excel_both.reset_index(drop=True)\n"
   ]
  },
  {
   "cell_type": "code",
   "execution_count": null,
   "metadata": {},
   "outputs": [],
   "source": [
    "#######PRICING########"
   ]
  },
  {
   "cell_type": "code",
   "execution_count": 205,
   "metadata": {},
   "outputs": [],
   "source": [
    "# merging crm and nmd pricing\n",
    "pricing_nmd.rename(columns = {'Sales Deal':'SalesDeal', 'Sales Deal Type': 'DealType', 'Sales Org': 'SalesOrg', \n",
    "'Dist.Channel':'DChan', 'Division':'Divi', 'Valid From':'ValidFr', 'Valid To':'ValidTo', 'Currency':'Curr',\n",
    "'External Description':'ExDesc',  'Promotion Number':'PromotionNo','PH Level':'PLevel'}, inplace = True)\n",
    "#pricing_both = pd.concat([pricing_crm, pricing_nmd])\n",
    "#pricing_both = pricing_both.reset_index(drop=True)"
   ]
  },
  {
   "cell_type": "code",
   "execution_count": 135,
   "metadata": {},
   "outputs": [],
   "source": [
    "# data types\n",
    "# pricing_both['PLevel']= pricing_both['PLevel'].astype('Int64')\n",
    "# pricing_both['Product No'] = pricing_both['PLevel'].astype(str)+'_'+pricing_both['Material/PH'].astype(str)"
   ]
  },
  {
   "cell_type": "code",
   "execution_count": 206,
   "metadata": {},
   "outputs": [],
   "source": [
    "# creating product id\n",
    "pricing_nmd['PLevel']= pricing_nmd['PLevel'].astype('Int64')\n",
    "pricing_nmd['Product No'] = pricing_nmd['PLevel'].astype(str)+'_'+pricing_nmd['Material/PH'].astype(str)\n",
    "\n",
    "pricing_crm['PLevel']= pricing_crm['PLevel'].astype('Int64')\n",
    "pricing_crm['Product No'] = pricing_crm['PLevel'].astype(str)+'_'+pricing_crm['Material/PH'].astype(str)"
   ]
  },
  {
   "cell_type": "code",
   "execution_count": 207,
   "metadata": {},
   "outputs": [],
   "source": [
    "# without removing from log\n",
    "pricing_crm_after_check = pricing_crm\n",
    "pricing_nmd_after_check = pricing_nmd"
   ]
  },
  {
   "cell_type": "code",
   "execution_count": null,
   "metadata": {},
   "outputs": [],
   "source": [
    "### removing from log"
   ]
  },
  {
   "cell_type": "code",
   "execution_count": 73,
   "metadata": {},
   "outputs": [],
   "source": [
    "# condition to minimize the time needed to remove products\n",
    "condition_nmd = (pricing_nmd['PLevel'] == 5) & (pricing_nmd['Material/PH'].str.len() == 3)\n",
    "pricing_nmd_check= pricing_nmd.loc[condition_nmd]\n",
    "pricing_nmd__wothout_check= pricing_nmd.loc[-condition_nmd]\n",
    "\n",
    "condition_crm = (pricing_crm['PLevel'] == 5) & (pricing_crm['Material/PH'].str.len() == 3)\n",
    "pricing_crm_check= pricing_crm.loc[condition_crm]\n",
    "pricing_crm__wothout_check= pricing_crm.loc[-condition_crm]"
   ]
  },
  {
   "cell_type": "code",
   "execution_count": 192,
   "metadata": {},
   "outputs": [],
   "source": [
    "# reset index\n",
    "pricing_crm_check = pricing_crm_check.reset_index(drop=True)\n",
    "pricing_nmd_check = pricing_nmd_check.reset_index(drop=True)"
   ]
  },
  {
   "cell_type": "code",
   "execution_count": 144,
   "metadata": {},
   "outputs": [],
   "source": [
    "#condition\n",
    "# condition = (pricing_both['PLevel'] == 5) & (pricing_both['Material/PH'].str.len() == 3)\n",
    "# pricing_both_check= pricing_both.loc[condition]\n",
    "# pricing_both__wothout_check= pricing_both.loc[-condition]\n"
   ]
  },
  {
   "cell_type": "code",
   "execution_count": 145,
   "metadata": {},
   "outputs": [],
   "source": [
    "# reset index\n",
    "#pricing_both_check = pricing_both_check.reset_index(drop=True)"
   ]
  },
  {
   "cell_type": "code",
   "execution_count": 147,
   "metadata": {},
   "outputs": [
    {
     "name": "stderr",
     "output_type": "stream",
     "text": [
      "100%|██████████| 165874/165874 [34:11<00:00, 80.84it/s]  \n"
     ]
    }
   ],
   "source": [
    "# # removing deleted products\n",
    "# for index in tqdm(pricing_both_check.index):\n",
    "#     if pricing_both_check['Product No'][index] in remove:\n",
    "#         pricing_both_check.drop([index], axis=0, inplace=True)\n"
   ]
  },
  {
   "cell_type": "code",
   "execution_count": 194,
   "metadata": {},
   "outputs": [
    {
     "name": "stderr",
     "output_type": "stream",
     "text": [
      "0it [00:00, ?it/s]\n"
     ]
    }
   ],
   "source": [
    "# # removing deleted products\n",
    "for index in tqdm(pricing_nmd_check.index):\n",
    "    if pricing_nmd_check['Product No'][index] in remove:\n",
    "        pricing_nmd_check.drop([index], axis=0, inplace=True)"
   ]
  },
  {
   "cell_type": "code",
   "execution_count": 198,
   "metadata": {},
   "outputs": [
    {
     "name": "stderr",
     "output_type": "stream",
     "text": [
      "100%|██████████| 165874/165874 [27:47<00:00, 99.50it/s]  \n"
     ]
    }
   ],
   "source": [
    "# # removing deleted products\n",
    "for index in tqdm(pricing_crm_check.index):\n",
    "    if pricing_crm_check['Product No'][index] in remove:\n",
    "        pricing_crm_check.drop([index], axis=0, inplace=True)"
   ]
  },
  {
   "cell_type": "code",
   "execution_count": 199,
   "metadata": {},
   "outputs": [],
   "source": [
    "# merging pricing and sales\n",
    "pricing_crm_after_check = pd.concat([pricing_crm_check, pricing_crm__wothout_check])\n",
    "pricing_crm_after_check = pricing_crm_after_check.reset_index(drop=True)\n",
    "pricing_crm_after_check.to_csv('pricing crm.csv')\n",
    "\n",
    "pricing_nmd_after_check = pd.concat([pricing_nmd_check, pricing_nmd__wothout_check])\n",
    "pricing_nmd_after_check = pricing_nmd_after_check.reset_index(drop=True)\n",
    "pricing_nmd_after_check.to_csv('pricing nmd.csv')"
   ]
  },
  {
   "cell_type": "code",
   "execution_count": 4,
   "metadata": {},
   "outputs": [
    {
     "name": "stderr",
     "output_type": "stream",
     "text": [
      "/var/folders/b3/52rfzyl51kv8hp5lk3vw_b6m0000gn/T/ipykernel_1324/2475118566.py:1: DtypeWarning: Columns (1,2,11) have mixed types. Specify dtype option on import or set low_memory=False.\n",
      "  pricing_nmd_after_check = pd.read_csv('pricing nmd.csv')\n"
     ]
    }
   ],
   "source": [
    "# ooening files\n",
    "pricing_nmd_after_check = pd.read_csv('pricing nmd.csv')\n",
    "pricing_crm_after_check = pd.read_csv('pricing crm.csv')"
   ]
  },
  {
   "cell_type": "code",
   "execution_count": 148,
   "metadata": {},
   "outputs": [],
   "source": [
    "# merging bot pricing\n",
    "# pricing_both_after_check = pd.concat([pricing_both_check, pricing_both__wothout_check])\n",
    "# pricing_both_after_check = pricing_both_after_check.reset_index(drop=True)"
   ]
  },
  {
   "cell_type": "code",
   "execution_count": 149,
   "metadata": {},
   "outputs": [],
   "source": [
    "# exporting to csv\n",
    "#pricing_both_after_check.to_csv('pricinhg without removed.csv')"
   ]
  },
  {
   "cell_type": "code",
   "execution_count": 370,
   "metadata": {},
   "outputs": [
    {
     "name": "stderr",
     "output_type": "stream",
     "text": [
      "/var/folders/b3/52rfzyl51kv8hp5lk3vw_b6m0000gn/T/ipykernel_6869/3405298310.py:2: DtypeWarning: Columns (1,2,11,21,22,23) have mixed types. Specify dtype option on import or set low_memory=False.\n",
      "  pricing_both_after_check = pd.read_csv(f'{path}/pricinhg without removed.csv')\n"
     ]
    }
   ],
   "source": [
    "# opening csv\n",
    "#pricing_both_after_check = pd.read_csv('pricinhg without removed.csv')"
   ]
  },
  {
   "cell_type": "code",
   "execution_count": 194,
   "metadata": {},
   "outputs": [],
   "source": [
    "#######PRICING AND EXCEL-MERGING"
   ]
  },
  {
   "cell_type": "code",
   "execution_count": 208,
   "metadata": {},
   "outputs": [],
   "source": [
    "# data types, removing 'US'\n",
    "pricing_crm_after_check['SalesDeal'] = pricing_crm_after_check['SalesDeal'].astype(str)\n",
    "pricing_crm_after_check['SalesDeal'] = pricing_crm_after_check['SalesDeal'].str.replace('US', '')\n",
    "pricing_crm_after_check['SalesDeal'] = pricing_crm_after_check['SalesDeal'].astype(int)\n",
    "pricing_nmd_after_check['SalesDeal'] = pricing_nmd_after_check['SalesDeal'].astype(str)\n",
    "pricing_nmd_after_check['SalesDeal'] = pricing_nmd_after_check['SalesDeal'].str.replace('US', '')\n",
    "pricing_nmd_after_check['SalesDeal'] = pricing_nmd_after_check['SalesDeal'].astype(int)"
   ]
  },
  {
   "cell_type": "code",
   "execution_count": 150,
   "metadata": {},
   "outputs": [],
   "source": [
    "# pricing_both_after_check['SalesDeal'] = pricing_both_after_check['SalesDeal'].astype(str)\n",
    "# pricing_both_after_check['SalesDeal'] = pricing_both_after_check['SalesDeal'].str.replace('US', '')\n",
    "# pricing_both_after_check['SalesDeal'] = pricing_both_after_check['SalesDeal'].astype(int)\n"
   ]
  },
  {
   "cell_type": "code",
   "execution_count": 151,
   "metadata": {},
   "outputs": [],
   "source": [
    "# data types\n",
    "\n",
    "\n",
    "# excel_both['Sales Deal #'] = excel_both['Sales Deal #'].astype(str)\n",
    "# pricing_both_after_check['SalesDeal'] = pricing_both_after_check['SalesDeal'].astype('int64')\n",
    "# pricing_both_after_check['SalesDeal'] = pricing_both_after_check['SalesDeal'].astype(str)\n"
   ]
  },
  {
   "cell_type": "code",
   "execution_count": 209,
   "metadata": {},
   "outputs": [],
   "source": [
    "# data types\n",
    "excel_nmd['Sales Deal #'] = excel_nmd['Sales Deal #'].astype(str)\n",
    "pricing_nmd_after_check['SalesDeal'] = pricing_nmd_after_check['SalesDeal'].astype('int64')\n",
    "pricing_nmd_after_check['SalesDeal'] = pricing_nmd_after_check['SalesDeal'].astype(str)\n",
    "\n",
    "excel_crm['Sales Deal #'] = excel_crm['Sales Deal #'].astype(str)\n",
    "pricing_crm_after_check['SalesDeal'] = pricing_crm_after_check['SalesDeal'].astype('int64')\n",
    "pricing_crm_after_check['SalesDeal'] = pricing_crm_after_check['SalesDeal'].astype(str)"
   ]
  },
  {
   "cell_type": "code",
   "execution_count": 210,
   "metadata": {},
   "outputs": [],
   "source": [
    "# merge pricing and sales\n",
    "excel_nmd['Customer Contract ID'] = pd.to_numeric(excel_nmd['Customer Contract ID'], errors='coerce')\n",
    "pricing_nmd_after_check ['Customer'] = pd.to_numeric(pricing_nmd_after_check ['Customer'], errors='coerce')\n",
    "excel_nmd['Sales Deal #'] = pd.to_numeric(excel_nmd['Sales Deal #'], errors='coerce')\n",
    "pricing_nmd_after_check ['SalesDeal'] = pd.to_numeric(pricing_nmd_after_check['SalesDeal'], errors='coerce')\n",
    "sales_nmd= pd.merge(pricing_nmd_after_check,excel_nmd, left_on='SalesDeal', right_on='Sales Deal #', how='inner')\n",
    "\n",
    "# merge pricing and sales\n",
    "excel_crm['Customer Contract ID'] = pd.to_numeric(excel_crm['Customer Contract ID'], errors='coerce')\n",
    "pricing_crm_after_check ['Customer'] = pd.to_numeric(pricing_crm_after_check ['Customer'], errors='coerce')\n",
    "excel_crm['Sales Deal #'] = pd.to_numeric(excel_crm['Sales Deal #'], errors='coerce')\n",
    "pricing_crm_after_check ['SalesDeal'] = pd.to_numeric(pricing_crm_after_check['SalesDeal'], errors='coerce')\n",
    "sales_crm= pd.merge(pricing_crm_after_check,excel_crm, left_on='SalesDeal', right_on='Sales Deal #', how='inner')"
   ]
  },
  {
   "cell_type": "code",
   "execution_count": 211,
   "metadata": {},
   "outputs": [],
   "source": [
    "# merging sales, dropping duplicates\n",
    "sales = pd.concat([sales_crm, sales_nmd])\n",
    "sales = sales.drop_duplicates(subset = ['Product No',  'Price Program Name\\n(free form text)','Customer Contract ID'],keep = 'first').reset_index(drop = True)"
   ]
  },
  {
   "cell_type": "code",
   "execution_count": 152,
   "metadata": {},
   "outputs": [],
   "source": [
    "# # merge pricing and sales\n",
    "# excel_both['Customer Contract ID'] = pd.to_numeric(excel_both['Customer Contract ID'], errors='coerce')\n",
    "# pricing_both_after_check ['Customer'] = pd.to_numeric(pricing_both_after_check ['Customer'], errors='coerce')\n",
    "# excel_both['Sales Deal #'] = pd.to_numeric(excel_both['Sales Deal #'], errors='coerce')\n",
    "# pricing_both_after_check ['SalesDeal'] = pd.to_numeric(pricing_both_after_check['SalesDeal'], errors='coerce')\n",
    "\n",
    "# sales= pd.merge(pricing_both_after_check,excel_both, left_on='SalesDeal', right_on='Sales Deal #', how='inner')"
   ]
  },
  {
   "cell_type": "code",
   "execution_count": 213,
   "metadata": {},
   "outputs": [],
   "source": [
    "# aggregating  by contract id\n",
    "sales_gr = sales.groupby([\n",
    " #   'SalesDeal',\n",
    "'Customer Contract ID',\n",
    "'Price Program Name\\n(free form text)'\n",
    "]).size().reset_index(name='counts')"
   ]
  },
  {
   "cell_type": "code",
   "execution_count": 214,
   "metadata": {},
   "outputs": [],
   "source": [
    "#####XML######\n",
    "# Getting numbers and list with products\n",
    "list_all = []\n",
    "Contract = tree.xpath('.//ContractOffer')\n",
    "for contract in Contract:\n",
    "    Program = contract.xpath('.//Program')\n",
    "    for program in Program:\n",
    "        Discount = program.xpath('.//DiscountOffListLI')\n",
    "        Tiered = program.xpath('.//TieredLI')\n",
    "        for discount in Discount:\n",
    "            Price = discount.xpath('.//LIPrices')\n",
    "            for price in Price:\n",
    "                list_all.append([contract.attrib['Customer'], \n",
    "                    program.attrib['CustomerContractId'], program.attrib['SalesDealNo'], program.attrib['Name'],\n",
    "                    discount.attrib['ProductNum'],\n",
    "                    price.attrib['PriceHigh']])\n",
    "    \n",
    "        for discount in Tiered:\n",
    "            Price = discount.xpath('.//TieredLIPrices')\n",
    "            for price in Price:\n",
    "                list_all.append([contract.attrib['Customer'], \n",
    "                program.attrib['CustomerContractId'], program.attrib['SalesDealNo'], program.attrib['Name'],\n",
    "                discount.attrib['ProductNum'],\n",
    "                price.attrib['PriceHigh']])\n",
    "\n",
    "# dataframes\n",
    "xml_all = pd.DataFrame(list_all)\n",
    "xml_all.columns =['Customer ID', 'Contract ID','DealNo',\n",
    "'Price Program Name', \n",
    "'Product ID', 'Price']\n",
    "\n",
    "              \n"
   ]
  },
  {
   "cell_type": "code",
   "execution_count": 215,
   "metadata": {},
   "outputs": [],
   "source": [
    "# data types\n",
    "xml_all['Customer ID'] = xml_all['Customer ID'].str.extract('(\\d+)', expand=False)\n",
    "xml_all['Customer ID'] = xml_all['Customer ID'].astype(int)\n"
   ]
  },
  {
   "cell_type": "code",
   "execution_count": 216,
   "metadata": {},
   "outputs": [],
   "source": [
    "# splitting lists of deals to separate rows\n",
    "xml_all['DealNo']= xml_all['DealNo'].astype(str)\n",
    "xml_all['DealNo']  = xml_all['DealNo'].apply(lambda x: x.split(','))\n",
    "xml_all = xml_all.explode('DealNo')\n"
   ]
  },
  {
   "cell_type": "code",
   "execution_count": 1,
   "metadata": {},
   "outputs": [],
   "source": [
    "# data types\n",
    "#xml_all['DealNo'] = pd.to_numeric(xml_all['DealNo'])\n",
    "#xml_all['DealNo'] = xml_all['DealNo'].astype(str)"
   ]
  },
  {
   "cell_type": "code",
   "execution_count": 218,
   "metadata": {},
   "outputs": [],
   "source": [
    "# dropping duplicates\n",
    "xml_all = xml_all.drop_duplicates(subset = ['Product ID', 'Price', 'Price Program Name','Customer ID'],keep = 'first').reset_index(drop = True)"
   ]
  },
  {
   "cell_type": "code",
   "execution_count": 97,
   "metadata": {},
   "outputs": [],
   "source": [
    "# data types\n",
    "# xml_all['Contract ID'] = pd.to_numeric(xml_all['Contract ID'])\n",
    "# xml_all['Price'] = xml_all.Price.str.extract(r\"(\\d+\\.\\d+)\")\n",
    "# xml_all['Price'] = xml_all['Price'].astype(float)"
   ]
  },
  {
   "cell_type": "code",
   "execution_count": 219,
   "metadata": {},
   "outputs": [],
   "source": [
    "# aggregating xml\n",
    "xml_all_gr = xml_all.groupby([\n",
    "   #  'DealNo', \n",
    "    'Contract ID', 'Price Program Name'\n",
    "]).size().reset_index(name='counts')"
   ]
  },
  {
   "cell_type": "code",
   "execution_count": 220,
   "metadata": {},
   "outputs": [],
   "source": [
    "# contract id\n",
    "xml_all_gr['Contract ID'] = xml_all_gr['Contract ID'].str[:-4]"
   ]
  },
  {
   "cell_type": "code",
   "execution_count": 221,
   "metadata": {},
   "outputs": [],
   "source": [
    "# Merging dataframes- counts\n",
    "xml_all_gr['Contract ID'] = pd.to_numeric(xml_all_gr['Contract ID'])\n",
    "sales_gr['Customer Contract ID'] = pd.to_numeric(sales_gr['Customer Contract ID'])\n",
    "#xml_all_gr['DealNo'] = pd.to_numeric(xml_all_gr['DealNo'])\n",
    "#sales_gr['SalesDeal'] = pd.to_numeric(sales_gr['SalesDeal'])\n",
    "\n",
    "df_merged = pd.merge(sales_gr, xml_all_gr,  how='outer', left_on=['Customer Contract ID', 'Price Program Name\\n(free form text)'], right_on = ['Contract ID', 'Price Program Name'])\n",
    "df_merged.rename(columns = {'counts_x':'count from excel', 'counts_y':'count from xml'}, inplace = True)"
   ]
  },
  {
   "cell_type": "code",
   "execution_count": 222,
   "metadata": {},
   "outputs": [
    {
     "name": "stderr",
     "output_type": "stream",
     "text": [
      "  0%|          | 0/2646 [00:00<?, ?it/s]/var/folders/b3/52rfzyl51kv8hp5lk3vw_b6m0000gn/T/ipykernel_1988/879912546.py:5: SettingWithCopyWarning: \n",
      "A value is trying to be set on a copy of a slice from a DataFrame\n",
      "\n",
      "See the caveats in the documentation: https://pandas.pydata.org/pandas-docs/stable/user_guide/indexing.html#returning-a-view-versus-a-copy\n",
      "  df_merged['Are the same?'][index] = 'yes'\n",
      "/var/folders/b3/52rfzyl51kv8hp5lk3vw_b6m0000gn/T/ipykernel_1988/879912546.py:7: SettingWithCopyWarning: \n",
      "A value is trying to be set on a copy of a slice from a DataFrame\n",
      "\n",
      "See the caveats in the documentation: https://pandas.pydata.org/pandas-docs/stable/user_guide/indexing.html#returning-a-view-versus-a-copy\n",
      "  df_merged['Are the same?'][index] = 'no'\n",
      "100%|██████████| 2646/2646 [00:00<00:00, 11687.33it/s]\n"
     ]
    }
   ],
   "source": [
    "# checking if the same\n",
    "df_merged['Are the same?'] = ''\n",
    "for index in tqdm(df_merged.index):\n",
    "    if df_merged['count from xml'][index] == df_merged['count from excel'][index]:\n",
    "        df_merged['Are the same?'][index] = 'yes'\n",
    "    else:\n",
    "        df_merged['Are the same?'][index] = 'no'\n",
    "df_merged.to_excel('result counts_new4.xlsx')"
   ]
  },
  {
   "cell_type": "markdown",
   "metadata": {},
   "source": []
  }
 ],
 "metadata": {
  "kernelspec": {
   "display_name": "Python 3.9.13 64-bit",
   "language": "python",
   "name": "python3"
  },
  "language_info": {
   "codemirror_mode": {
    "name": "ipython",
    "version": 3
   },
   "file_extension": ".py",
   "mimetype": "text/x-python",
   "name": "python",
   "nbconvert_exporter": "python",
   "pygments_lexer": "ipython3",
   "version": "3.9.13"
  },
  "orig_nbformat": 4,
  "vscode": {
   "interpreter": {
    "hash": "aee8b7b246df8f9039afb4144a1f6fd8d2ca17a180786b69acc140d282b71a49"
   }
  }
 },
 "nbformat": 4,
 "nbformat_minor": 2
}
